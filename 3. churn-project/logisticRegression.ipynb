{
 "cells": [
  {
   "cell_type": "markdown",
   "id": "4a4019b5",
   "metadata": {},
   "source": [
    "# Definição do Projeto \n",
    "\n",
    "Imagine que estamos trabalhando em uma empresa de telecomunicações que oferece serviços de telefonia e internet, e temos um problema: alguns de nossos clientes estão mudando. Eles não estão mais usando nossos serviços e estão indo para um provedor diferente. Gostaríamos de evitar que isso acontecesse, por isso desenvolvemos um sistema para identificar esses clientes e oferecer-lhes um incentivo para permanecer. Queremos direcioná-los com mensagens promocionais e dar-lhes um desconto. Também gostaríamos de entender por que o modelo acha que nossos clientes mudam e, para isso, precisamos ser capazes de interpretar as previsões do modelo \n",
    "\n",
    "## Segue o plano do projeto:\n",
    "\n",
    "1° Primeiro, baixamos o conjunto de dados e fazemos uma preparação inicial: renomear as colunas e alterar os valores dentro das colunas para serem consistentes em todo o conjunto de dados.\n",
    "\n",
    "2° Em seguida, dividimos os dados em treinamento, validação e teste para que possamos validar nossos modelos.\n",
    "\n",
    "3° Como parte da análise de dados inicial, analisamos a importância do recurso para identificar quais recursos são importantes em nossos dados.\n",
    "\n",
    "4° Transformamos variáveis ​​categóricas em variáveis ​​numéricas para que possamos usá-las no modelo.\n",
    "\n",
    "5° Finalmente, treinamos um modelo de regressão logística."
   ]
  },
  {
   "cell_type": "markdown",
   "id": "27ef5a65",
   "metadata": {},
   "source": [
    "## Conjunto de Dados \n",
    "\n",
    "https://www.kaggle.com/blastchar/telco-customer-churn .\n",
    "\n",
    "De acordo com a descrição, este conjunto de dados possui as seguintes informações:\n",
    "\n",
    "* Serviços dos clientes: telefone; várias linhas; Internet; suporte técnico e serviços extras, como segurança online, backup, proteção de dispositivos e streaming de TV\n",
    "\n",
    "* Dados da conta: há quanto tempo são clientes, tipo de contrato, tipo de forma de pagamento\n",
    "\n",
    "* Cobranças: quanto foi cobrado do cliente no último mês e no total\n",
    "\n",
    "* Informações demográficas: sexo, idade e se têm dependentes ou companheiro\n",
    "\n",
    "* Churn: sim/não, se o cliente saiu da empresa no último mês\n",
    "\n",
    "**`Churn`** é quando os clientes param de usar os serviços de uma empresa. Assim, a previsão do churn consiste em identificar clientes que provavelmente cancelarão seus contratos em breve. Se a empresa puder fazer isso, pode oferecer descontos nesses serviços para manter os usuários."
   ]
  },
  {
   "cell_type": "code",
   "execution_count": 1,
   "id": "b55b1d12",
   "metadata": {},
   "outputs": [],
   "source": [
    "# Imports \n",
    "import pandas as pd \n",
    "import numpy as np \n",
    "\n",
    "import seaborn as sns \n",
    "from matplotlib import pyplot as plt \n",
    "%matplotlib inline"
   ]
  },
  {
   "cell_type": "code",
   "execution_count": 2,
   "id": "73ff22f7",
   "metadata": {},
   "outputs": [],
   "source": [
    "# Lendo o dataset\n",
    "df = pd.read_csv('WA_Fn-UseC_-Telco-Customer-Churn.csv')"
   ]
  },
  {
   "cell_type": "code",
   "execution_count": 3,
   "id": "5daf5d08",
   "metadata": {},
   "outputs": [
    {
     "data": {
      "text/plain": [
       "7043"
      ]
     },
     "execution_count": 3,
     "metadata": {},
     "output_type": "execute_result"
    }
   ],
   "source": [
    "# Visualizando a quantidade de linhas que ele possui: \n",
    "len(df)"
   ]
  },
  {
   "cell_type": "code",
   "execution_count": 4,
   "id": "b1626f34",
   "metadata": {},
   "outputs": [
    {
     "data": {
      "text/html": [
       "<div>\n",
       "<style scoped>\n",
       "    .dataframe tbody tr th:only-of-type {\n",
       "        vertical-align: middle;\n",
       "    }\n",
       "\n",
       "    .dataframe tbody tr th {\n",
       "        vertical-align: top;\n",
       "    }\n",
       "\n",
       "    .dataframe thead th {\n",
       "        text-align: right;\n",
       "    }\n",
       "</style>\n",
       "<table border=\"1\" class=\"dataframe\">\n",
       "  <thead>\n",
       "    <tr style=\"text-align: right;\">\n",
       "      <th></th>\n",
       "      <th>0</th>\n",
       "      <th>1</th>\n",
       "      <th>2</th>\n",
       "      <th>3</th>\n",
       "      <th>4</th>\n",
       "    </tr>\n",
       "  </thead>\n",
       "  <tbody>\n",
       "    <tr>\n",
       "      <th>customerID</th>\n",
       "      <td>7590-VHVEG</td>\n",
       "      <td>5575-GNVDE</td>\n",
       "      <td>3668-QPYBK</td>\n",
       "      <td>7795-CFOCW</td>\n",
       "      <td>9237-HQITU</td>\n",
       "    </tr>\n",
       "    <tr>\n",
       "      <th>gender</th>\n",
       "      <td>Female</td>\n",
       "      <td>Male</td>\n",
       "      <td>Male</td>\n",
       "      <td>Male</td>\n",
       "      <td>Female</td>\n",
       "    </tr>\n",
       "    <tr>\n",
       "      <th>SeniorCitizen</th>\n",
       "      <td>0</td>\n",
       "      <td>0</td>\n",
       "      <td>0</td>\n",
       "      <td>0</td>\n",
       "      <td>0</td>\n",
       "    </tr>\n",
       "    <tr>\n",
       "      <th>Partner</th>\n",
       "      <td>Yes</td>\n",
       "      <td>No</td>\n",
       "      <td>No</td>\n",
       "      <td>No</td>\n",
       "      <td>No</td>\n",
       "    </tr>\n",
       "    <tr>\n",
       "      <th>Dependents</th>\n",
       "      <td>No</td>\n",
       "      <td>No</td>\n",
       "      <td>No</td>\n",
       "      <td>No</td>\n",
       "      <td>No</td>\n",
       "    </tr>\n",
       "    <tr>\n",
       "      <th>tenure</th>\n",
       "      <td>1</td>\n",
       "      <td>34</td>\n",
       "      <td>2</td>\n",
       "      <td>45</td>\n",
       "      <td>2</td>\n",
       "    </tr>\n",
       "    <tr>\n",
       "      <th>PhoneService</th>\n",
       "      <td>No</td>\n",
       "      <td>Yes</td>\n",
       "      <td>Yes</td>\n",
       "      <td>No</td>\n",
       "      <td>Yes</td>\n",
       "    </tr>\n",
       "    <tr>\n",
       "      <th>MultipleLines</th>\n",
       "      <td>No phone service</td>\n",
       "      <td>No</td>\n",
       "      <td>No</td>\n",
       "      <td>No phone service</td>\n",
       "      <td>No</td>\n",
       "    </tr>\n",
       "    <tr>\n",
       "      <th>InternetService</th>\n",
       "      <td>DSL</td>\n",
       "      <td>DSL</td>\n",
       "      <td>DSL</td>\n",
       "      <td>DSL</td>\n",
       "      <td>Fiber optic</td>\n",
       "    </tr>\n",
       "    <tr>\n",
       "      <th>OnlineSecurity</th>\n",
       "      <td>No</td>\n",
       "      <td>Yes</td>\n",
       "      <td>Yes</td>\n",
       "      <td>Yes</td>\n",
       "      <td>No</td>\n",
       "    </tr>\n",
       "    <tr>\n",
       "      <th>OnlineBackup</th>\n",
       "      <td>Yes</td>\n",
       "      <td>No</td>\n",
       "      <td>Yes</td>\n",
       "      <td>No</td>\n",
       "      <td>No</td>\n",
       "    </tr>\n",
       "    <tr>\n",
       "      <th>DeviceProtection</th>\n",
       "      <td>No</td>\n",
       "      <td>Yes</td>\n",
       "      <td>No</td>\n",
       "      <td>Yes</td>\n",
       "      <td>No</td>\n",
       "    </tr>\n",
       "    <tr>\n",
       "      <th>TechSupport</th>\n",
       "      <td>No</td>\n",
       "      <td>No</td>\n",
       "      <td>No</td>\n",
       "      <td>Yes</td>\n",
       "      <td>No</td>\n",
       "    </tr>\n",
       "    <tr>\n",
       "      <th>StreamingTV</th>\n",
       "      <td>No</td>\n",
       "      <td>No</td>\n",
       "      <td>No</td>\n",
       "      <td>No</td>\n",
       "      <td>No</td>\n",
       "    </tr>\n",
       "    <tr>\n",
       "      <th>StreamingMovies</th>\n",
       "      <td>No</td>\n",
       "      <td>No</td>\n",
       "      <td>No</td>\n",
       "      <td>No</td>\n",
       "      <td>No</td>\n",
       "    </tr>\n",
       "    <tr>\n",
       "      <th>Contract</th>\n",
       "      <td>Month-to-month</td>\n",
       "      <td>One year</td>\n",
       "      <td>Month-to-month</td>\n",
       "      <td>One year</td>\n",
       "      <td>Month-to-month</td>\n",
       "    </tr>\n",
       "    <tr>\n",
       "      <th>PaperlessBilling</th>\n",
       "      <td>Yes</td>\n",
       "      <td>No</td>\n",
       "      <td>Yes</td>\n",
       "      <td>No</td>\n",
       "      <td>Yes</td>\n",
       "    </tr>\n",
       "    <tr>\n",
       "      <th>PaymentMethod</th>\n",
       "      <td>Electronic check</td>\n",
       "      <td>Mailed check</td>\n",
       "      <td>Mailed check</td>\n",
       "      <td>Bank transfer (automatic)</td>\n",
       "      <td>Electronic check</td>\n",
       "    </tr>\n",
       "    <tr>\n",
       "      <th>MonthlyCharges</th>\n",
       "      <td>29.85</td>\n",
       "      <td>56.95</td>\n",
       "      <td>53.85</td>\n",
       "      <td>42.3</td>\n",
       "      <td>70.7</td>\n",
       "    </tr>\n",
       "    <tr>\n",
       "      <th>TotalCharges</th>\n",
       "      <td>29.85</td>\n",
       "      <td>1889.5</td>\n",
       "      <td>108.15</td>\n",
       "      <td>1840.75</td>\n",
       "      <td>151.65</td>\n",
       "    </tr>\n",
       "    <tr>\n",
       "      <th>Churn</th>\n",
       "      <td>No</td>\n",
       "      <td>No</td>\n",
       "      <td>Yes</td>\n",
       "      <td>No</td>\n",
       "      <td>Yes</td>\n",
       "    </tr>\n",
       "  </tbody>\n",
       "</table>\n",
       "</div>"
      ],
      "text/plain": [
       "                                 0             1               2  \\\n",
       "customerID              7590-VHVEG    5575-GNVDE      3668-QPYBK   \n",
       "gender                      Female          Male            Male   \n",
       "SeniorCitizen                    0             0               0   \n",
       "Partner                        Yes            No              No   \n",
       "Dependents                      No            No              No   \n",
       "tenure                           1            34               2   \n",
       "PhoneService                    No           Yes             Yes   \n",
       "MultipleLines     No phone service            No              No   \n",
       "InternetService                DSL           DSL             DSL   \n",
       "OnlineSecurity                  No           Yes             Yes   \n",
       "OnlineBackup                   Yes            No             Yes   \n",
       "DeviceProtection                No           Yes              No   \n",
       "TechSupport                     No            No              No   \n",
       "StreamingTV                     No            No              No   \n",
       "StreamingMovies                 No            No              No   \n",
       "Contract            Month-to-month      One year  Month-to-month   \n",
       "PaperlessBilling               Yes            No             Yes   \n",
       "PaymentMethod     Electronic check  Mailed check    Mailed check   \n",
       "MonthlyCharges               29.85         56.95           53.85   \n",
       "TotalCharges                 29.85        1889.5          108.15   \n",
       "Churn                           No            No             Yes   \n",
       "\n",
       "                                          3                 4  \n",
       "customerID                       7795-CFOCW        9237-HQITU  \n",
       "gender                                 Male            Female  \n",
       "SeniorCitizen                             0                 0  \n",
       "Partner                                  No                No  \n",
       "Dependents                               No                No  \n",
       "tenure                                   45                 2  \n",
       "PhoneService                             No               Yes  \n",
       "MultipleLines              No phone service                No  \n",
       "InternetService                         DSL       Fiber optic  \n",
       "OnlineSecurity                          Yes                No  \n",
       "OnlineBackup                             No                No  \n",
       "DeviceProtection                        Yes                No  \n",
       "TechSupport                             Yes                No  \n",
       "StreamingTV                              No                No  \n",
       "StreamingMovies                          No                No  \n",
       "Contract                           One year    Month-to-month  \n",
       "PaperlessBilling                         No               Yes  \n",
       "PaymentMethod     Bank transfer (automatic)  Electronic check  \n",
       "MonthlyCharges                         42.3              70.7  \n",
       "TotalCharges                        1840.75            151.65  \n",
       "Churn                                    No               Yes  "
      ]
     },
     "execution_count": 4,
     "metadata": {},
     "output_type": "execute_result"
    }
   ],
   "source": [
    "#nem todas as colunas cabem na tela então podemos transpor para visualizar melhor\n",
    "df.head().T "
   ]
  },
  {
   "cell_type": "markdown",
   "id": "54ac539c",
   "metadata": {},
   "source": [
    "Vemos que o conjunto de dados tem algumas colunas:\n",
    "\n",
    "* `CustomerID`: o ID do cliente\n",
    "* `Gênero` Masculino Feminino\n",
    "* `SeniorCitizen`: se o cliente é idoso (0/1)\n",
    "* `Companheiro`: se mora com companheiro (sim/não)\n",
    "* `Dependentes`: se tem dependentes (sim/não)\n",
    "* `Duração`: número de meses desde o início do contrato\n",
    "* `PhoneService`: se possui atendimento telefônico (sim/não)\n",
    "* `MultipleLines`: se eles têm várias linhas telefônicas (sim/não/sem serviço telefônico)\n",
    "* `InternetService`: o tipo de serviço de internet (sem/fibra/óptica)\n",
    "* `OnlineSecurity`: se a segurança online estiver habilitada (sim/não/sem internet)\n",
    "* `OnlineBackup`: se o serviço de backup online estiver ativado (sim/não/sem internet)\n",
    "* `DeviceProtection`: se o serviço de proteção do dispositivo estiver ativado (sim/não/sem internet)\n",
    "* `TechSupport`: se o cliente tiver suporte técnico (sim/não/sem internet)\n",
    "* `StreamingTV`: se o serviço de streaming de TV estiver habilitado (sim/não/sem internet)\n",
    "* `StreamingMovies`: se o serviço de streaming de filmes estiver ativado (sim/não/sem internet)\n",
    "* `Contrato`: o tipo de contrato (mensal/anual/dois anos)\n",
    "* `PaperlessBilling`: se o faturamento for paperless (sim/não )\n",
    "* `PaymentMethod`: método de pagamento (cheque eletrônico, cheque postal, transferência bancária, cartão de crédito)\n",
    "* `Mensalidades`: o valor cobrado mensalmente (numérico)\n",
    "* `TotalCharges`: o valor total cobrado (numérico)\n",
    "* `Churn`: se o cliente cancelou o contrato (sim/não)\n",
    "\n",
    "Nossa variável de destino é o `churn`. "
   ]
  },
  {
   "cell_type": "code",
   "execution_count": 5,
   "id": "7207384f",
   "metadata": {},
   "outputs": [
    {
     "data": {
      "text/plain": [
       "customerID           object\n",
       "gender               object\n",
       "SeniorCitizen         int64\n",
       "Partner              object\n",
       "Dependents           object\n",
       "tenure                int64\n",
       "PhoneService         object\n",
       "MultipleLines        object\n",
       "InternetService      object\n",
       "OnlineSecurity       object\n",
       "OnlineBackup         object\n",
       "DeviceProtection     object\n",
       "TechSupport          object\n",
       "StreamingTV          object\n",
       "StreamingMovies      object\n",
       "Contract             object\n",
       "PaperlessBilling     object\n",
       "PaymentMethod        object\n",
       "MonthlyCharges      float64\n",
       "TotalCharges         object\n",
       "Churn                object\n",
       "dtype: object"
      ]
     },
     "execution_count": 5,
     "metadata": {},
     "output_type": "execute_result"
    }
   ],
   "source": [
    "# verificando se os tipos reais estão corretos \n",
    "df.dtypes"
   ]
  },
  {
   "cell_type": "markdown",
   "id": "7e1c194a",
   "metadata": {},
   "source": [
    "`TotalCharges`. Esperamos que essa coluna seja numérica: ela contém o valor total cobrado do cliente, portanto, deve ser um número, não uma string.\n",
    "\n",
    "**IMPORTANTE**\n",
    "\n",
    "Fique atento aos casos em que você espera que uma coluna seja numérica, mas o Pandas diz que não é: provavelmente a coluna contém codificação especial para valores ausentes que requerem pré-processamento adicional."
   ]
  },
  {
   "cell_type": "code",
   "execution_count": 6,
   "id": "0103bd16",
   "metadata": {},
   "outputs": [],
   "source": [
    "# forçando a coluna ser numérica \n",
    "total_charges = pd.to_numeric(df.TotalCharges, errors='coerce')\n",
    "# errors='coerce' serve para fazer com que a função evite dados não numericos(como espaços) substituindo-os assim por NaN"
   ]
  },
  {
   "cell_type": "code",
   "execution_count": 7,
   "id": "3f45a624",
   "metadata": {},
   "outputs": [
    {
     "data": {
      "text/html": [
       "<div>\n",
       "<style scoped>\n",
       "    .dataframe tbody tr th:only-of-type {\n",
       "        vertical-align: middle;\n",
       "    }\n",
       "\n",
       "    .dataframe tbody tr th {\n",
       "        vertical-align: top;\n",
       "    }\n",
       "\n",
       "    .dataframe thead th {\n",
       "        text-align: right;\n",
       "    }\n",
       "</style>\n",
       "<table border=\"1\" class=\"dataframe\">\n",
       "  <thead>\n",
       "    <tr style=\"text-align: right;\">\n",
       "      <th></th>\n",
       "      <th>customerID</th>\n",
       "      <th>TotalCharges</th>\n",
       "    </tr>\n",
       "  </thead>\n",
       "  <tbody>\n",
       "    <tr>\n",
       "      <th>488</th>\n",
       "      <td>4472-LVYGI</td>\n",
       "      <td></td>\n",
       "    </tr>\n",
       "    <tr>\n",
       "      <th>753</th>\n",
       "      <td>3115-CZMZD</td>\n",
       "      <td></td>\n",
       "    </tr>\n",
       "    <tr>\n",
       "      <th>936</th>\n",
       "      <td>5709-LVOEQ</td>\n",
       "      <td></td>\n",
       "    </tr>\n",
       "    <tr>\n",
       "      <th>1082</th>\n",
       "      <td>4367-NUYAO</td>\n",
       "      <td></td>\n",
       "    </tr>\n",
       "    <tr>\n",
       "      <th>1340</th>\n",
       "      <td>1371-DWPAZ</td>\n",
       "      <td></td>\n",
       "    </tr>\n",
       "    <tr>\n",
       "      <th>3331</th>\n",
       "      <td>7644-OMVMY</td>\n",
       "      <td></td>\n",
       "    </tr>\n",
       "    <tr>\n",
       "      <th>3826</th>\n",
       "      <td>3213-VVOLG</td>\n",
       "      <td></td>\n",
       "    </tr>\n",
       "    <tr>\n",
       "      <th>4380</th>\n",
       "      <td>2520-SGTTA</td>\n",
       "      <td></td>\n",
       "    </tr>\n",
       "    <tr>\n",
       "      <th>5218</th>\n",
       "      <td>2923-ARZLG</td>\n",
       "      <td></td>\n",
       "    </tr>\n",
       "    <tr>\n",
       "      <th>6670</th>\n",
       "      <td>4075-WKNIU</td>\n",
       "      <td></td>\n",
       "    </tr>\n",
       "    <tr>\n",
       "      <th>6754</th>\n",
       "      <td>2775-SEFEE</td>\n",
       "      <td></td>\n",
       "    </tr>\n",
       "  </tbody>\n",
       "</table>\n",
       "</div>"
      ],
      "text/plain": [
       "      customerID TotalCharges\n",
       "488   4472-LVYGI             \n",
       "753   3115-CZMZD             \n",
       "936   5709-LVOEQ             \n",
       "1082  4367-NUYAO             \n",
       "1340  1371-DWPAZ             \n",
       "3331  7644-OMVMY             \n",
       "3826  3213-VVOLG             \n",
       "4380  2520-SGTTA             \n",
       "5218  2923-ARZLG             \n",
       "6670  4075-WKNIU             \n",
       "6754  2775-SEFEE             "
      ]
     },
     "execution_count": 7,
     "metadata": {},
     "output_type": "execute_result"
    }
   ],
   "source": [
    "# confirmando que os dados realmente contêm caracteres não numéricos\n",
    "df[total_charges.isnull()][['customerID', 'TotalCharges']]\n",
    "# retorna as colunas costumerid e totalcharges apenas para as linhas em que o valor da total_charges é nulo"
   ]
  },
  {
   "cell_type": "code",
   "execution_count": 8,
   "id": "0850e8fa",
   "metadata": {},
   "outputs": [],
   "source": [
    "# Iremos definir esses valores ausentes como zero. \n",
    "df.TotalCharges = pd.to_numeric(df.TotalCharges, errors='coerce')\n",
    "df.TotalCharges = df.TotalCharges.fillna(0)"
   ]
  },
  {
   "cell_type": "markdown",
   "id": "744fe21e",
   "metadata": {},
   "source": [
    "Além disso, notamos que os nomes das colunas não seguem a mesma convenção de nomenclatura. Alguns deles começam com letra minúscula, enquanto outros começam com letra maiúscula, e também há espaços nos valores.\n",
    "Vamos torná-lo uniforme, colocando tudo em letras minúsculas e substituindo os espaços por sublinhados."
   ]
  },
  {
   "cell_type": "code",
   "execution_count": 9,
   "id": "df4a147b",
   "metadata": {},
   "outputs": [],
   "source": [
    "df.columns = df.columns.str.lower().str.replace(' ', '_')\n",
    " \n",
    "string_columns = list(df.dtypes[df.dtypes == 'object'].index)\n",
    " \n",
    "for col in string_columns:\n",
    "    df[col] = df[col].str.lower().str.replace(' ', '_')"
   ]
  },
  {
   "cell_type": "code",
   "execution_count": 10,
   "id": "a447280c",
   "metadata": {},
   "outputs": [
    {
     "data": {
      "text/plain": [
       "0     no\n",
       "1     no\n",
       "2    yes\n",
       "3     no\n",
       "4    yes\n",
       "Name: churn, dtype: object"
      ]
     },
     "execution_count": 10,
     "metadata": {},
     "output_type": "execute_result"
    }
   ],
   "source": [
    "# Vamos analisar nossa variável de destino churn \n",
    "df.churn.head()"
   ]
  },
  {
   "cell_type": "code",
   "execution_count": 11,
   "id": "53f3db33",
   "metadata": {},
   "outputs": [
    {
     "data": {
      "text/plain": [
       "0    False\n",
       "1    False\n",
       "2     True\n",
       "3    False\n",
       "4     True\n",
       "Name: churn, dtype: bool"
      ]
     },
     "execution_count": 11,
     "metadata": {},
     "output_type": "execute_result"
    }
   ],
   "source": [
    "# Booleano com True quando o valor é 'yes' e False quando o valor é 'No'\n",
    "(df.churn == 'yes').head()"
   ]
  },
  {
   "cell_type": "code",
   "execution_count": 12,
   "id": "f1a02010",
   "metadata": {},
   "outputs": [],
   "source": [
    "# então vamos transformar em 0 e 1, sendo 0 = no, 1 = yes\n",
    "df.churn = (df.churn == 'yes').astype(int)"
   ]
  },
  {
   "cell_type": "code",
   "execution_count": 13,
   "id": "caac95a0",
   "metadata": {},
   "outputs": [
    {
     "data": {
      "text/plain": [
       "0    0\n",
       "1    0\n",
       "2    1\n",
       "3    0\n",
       "4    1\n",
       "Name: churn, dtype: int32"
      ]
     },
     "execution_count": 13,
     "metadata": {},
     "output_type": "execute_result"
    }
   ],
   "source": [
    "#Visualizando\n",
    "df.churn.head()"
   ]
  },
  {
   "cell_type": "code",
   "execution_count": 14,
   "id": "fda67e4c",
   "metadata": {},
   "outputs": [],
   "source": [
    "#importando scikit-learn\n",
    "from sklearn.model_selection import train_test_split"
   ]
  },
  {
   "cell_type": "code",
   "execution_count": 15,
   "id": "0d1a6a2d",
   "metadata": {},
   "outputs": [],
   "source": [
    "# Utilizando\n",
    "df_train_full, df_test = train_test_split(df, test_size=0.2, random_state=1)\n",
    "\n",
    "# random_state -> é necessário para garantir que toda vez que executarmos\n",
    "# esse código, o dataframe seja dividido exatamente da mesma maneira. "
   ]
  },
  {
   "cell_type": "markdown",
   "id": "f517249d",
   "metadata": {},
   "source": [
    "A função `train_test_split`pega um quadro de dados df e cria dois novos dataframes: `df_train_full`e `df_test`. Ele faz isso embaralhando o conjunto de dados original e, em seguida, dividindo-o de forma que o conjunto de teste contenha 20% dos dados e o conjunto de treinamento contenha os 80% restantes"
   ]
  },
  {
   "cell_type": "code",
   "execution_count": 16,
   "id": "89ddc3a7",
   "metadata": {},
   "outputs": [
    {
     "data": {
      "text/html": [
       "<div>\n",
       "<style scoped>\n",
       "    .dataframe tbody tr th:only-of-type {\n",
       "        vertical-align: middle;\n",
       "    }\n",
       "\n",
       "    .dataframe tbody tr th {\n",
       "        vertical-align: top;\n",
       "    }\n",
       "\n",
       "    .dataframe thead th {\n",
       "        text-align: right;\n",
       "    }\n",
       "</style>\n",
       "<table border=\"1\" class=\"dataframe\">\n",
       "  <thead>\n",
       "    <tr style=\"text-align: right;\">\n",
       "      <th></th>\n",
       "      <th>customerid</th>\n",
       "      <th>gender</th>\n",
       "      <th>seniorcitizen</th>\n",
       "      <th>partner</th>\n",
       "      <th>dependents</th>\n",
       "      <th>tenure</th>\n",
       "      <th>phoneservice</th>\n",
       "      <th>multiplelines</th>\n",
       "      <th>internetservice</th>\n",
       "      <th>onlinesecurity</th>\n",
       "      <th>...</th>\n",
       "      <th>deviceprotection</th>\n",
       "      <th>techsupport</th>\n",
       "      <th>streamingtv</th>\n",
       "      <th>streamingmovies</th>\n",
       "      <th>contract</th>\n",
       "      <th>paperlessbilling</th>\n",
       "      <th>paymentmethod</th>\n",
       "      <th>monthlycharges</th>\n",
       "      <th>totalcharges</th>\n",
       "      <th>churn</th>\n",
       "    </tr>\n",
       "  </thead>\n",
       "  <tbody>\n",
       "    <tr>\n",
       "      <th>1814</th>\n",
       "      <td>5442-pptjy</td>\n",
       "      <td>male</td>\n",
       "      <td>0</td>\n",
       "      <td>yes</td>\n",
       "      <td>yes</td>\n",
       "      <td>12</td>\n",
       "      <td>yes</td>\n",
       "      <td>no</td>\n",
       "      <td>no</td>\n",
       "      <td>no_internet_service</td>\n",
       "      <td>...</td>\n",
       "      <td>no_internet_service</td>\n",
       "      <td>no_internet_service</td>\n",
       "      <td>no_internet_service</td>\n",
       "      <td>no_internet_service</td>\n",
       "      <td>two_year</td>\n",
       "      <td>no</td>\n",
       "      <td>mailed_check</td>\n",
       "      <td>19.70</td>\n",
       "      <td>258.35</td>\n",
       "      <td>0</td>\n",
       "    </tr>\n",
       "    <tr>\n",
       "      <th>5946</th>\n",
       "      <td>6261-rcvns</td>\n",
       "      <td>female</td>\n",
       "      <td>0</td>\n",
       "      <td>no</td>\n",
       "      <td>no</td>\n",
       "      <td>42</td>\n",
       "      <td>yes</td>\n",
       "      <td>no</td>\n",
       "      <td>dsl</td>\n",
       "      <td>yes</td>\n",
       "      <td>...</td>\n",
       "      <td>yes</td>\n",
       "      <td>yes</td>\n",
       "      <td>no</td>\n",
       "      <td>yes</td>\n",
       "      <td>one_year</td>\n",
       "      <td>no</td>\n",
       "      <td>credit_card_(automatic)</td>\n",
       "      <td>73.90</td>\n",
       "      <td>3160.55</td>\n",
       "      <td>1</td>\n",
       "    </tr>\n",
       "    <tr>\n",
       "      <th>3881</th>\n",
       "      <td>2176-osjuv</td>\n",
       "      <td>male</td>\n",
       "      <td>0</td>\n",
       "      <td>yes</td>\n",
       "      <td>no</td>\n",
       "      <td>71</td>\n",
       "      <td>yes</td>\n",
       "      <td>yes</td>\n",
       "      <td>dsl</td>\n",
       "      <td>yes</td>\n",
       "      <td>...</td>\n",
       "      <td>no</td>\n",
       "      <td>yes</td>\n",
       "      <td>no</td>\n",
       "      <td>no</td>\n",
       "      <td>two_year</td>\n",
       "      <td>no</td>\n",
       "      <td>bank_transfer_(automatic)</td>\n",
       "      <td>65.15</td>\n",
       "      <td>4681.75</td>\n",
       "      <td>0</td>\n",
       "    </tr>\n",
       "    <tr>\n",
       "      <th>2389</th>\n",
       "      <td>6161-erdgd</td>\n",
       "      <td>male</td>\n",
       "      <td>0</td>\n",
       "      <td>yes</td>\n",
       "      <td>yes</td>\n",
       "      <td>71</td>\n",
       "      <td>yes</td>\n",
       "      <td>yes</td>\n",
       "      <td>dsl</td>\n",
       "      <td>yes</td>\n",
       "      <td>...</td>\n",
       "      <td>yes</td>\n",
       "      <td>yes</td>\n",
       "      <td>yes</td>\n",
       "      <td>yes</td>\n",
       "      <td>one_year</td>\n",
       "      <td>no</td>\n",
       "      <td>electronic_check</td>\n",
       "      <td>85.45</td>\n",
       "      <td>6300.85</td>\n",
       "      <td>0</td>\n",
       "    </tr>\n",
       "    <tr>\n",
       "      <th>3676</th>\n",
       "      <td>2364-ufrom</td>\n",
       "      <td>male</td>\n",
       "      <td>0</td>\n",
       "      <td>no</td>\n",
       "      <td>no</td>\n",
       "      <td>30</td>\n",
       "      <td>yes</td>\n",
       "      <td>no</td>\n",
       "      <td>dsl</td>\n",
       "      <td>yes</td>\n",
       "      <td>...</td>\n",
       "      <td>no</td>\n",
       "      <td>yes</td>\n",
       "      <td>yes</td>\n",
       "      <td>no</td>\n",
       "      <td>one_year</td>\n",
       "      <td>no</td>\n",
       "      <td>electronic_check</td>\n",
       "      <td>70.40</td>\n",
       "      <td>2044.75</td>\n",
       "      <td>0</td>\n",
       "    </tr>\n",
       "  </tbody>\n",
       "</table>\n",
       "<p>5 rows × 21 columns</p>\n",
       "</div>"
      ],
      "text/plain": [
       "      customerid  gender  seniorcitizen partner dependents  tenure  \\\n",
       "1814  5442-pptjy    male              0     yes        yes      12   \n",
       "5946  6261-rcvns  female              0      no         no      42   \n",
       "3881  2176-osjuv    male              0     yes         no      71   \n",
       "2389  6161-erdgd    male              0     yes        yes      71   \n",
       "3676  2364-ufrom    male              0      no         no      30   \n",
       "\n",
       "     phoneservice multiplelines internetservice       onlinesecurity  ...  \\\n",
       "1814          yes            no              no  no_internet_service  ...   \n",
       "5946          yes            no             dsl                  yes  ...   \n",
       "3881          yes           yes             dsl                  yes  ...   \n",
       "2389          yes           yes             dsl                  yes  ...   \n",
       "3676          yes            no             dsl                  yes  ...   \n",
       "\n",
       "         deviceprotection          techsupport          streamingtv  \\\n",
       "1814  no_internet_service  no_internet_service  no_internet_service   \n",
       "5946                  yes                  yes                   no   \n",
       "3881                   no                  yes                   no   \n",
       "2389                  yes                  yes                  yes   \n",
       "3676                   no                  yes                  yes   \n",
       "\n",
       "          streamingmovies  contract paperlessbilling  \\\n",
       "1814  no_internet_service  two_year               no   \n",
       "5946                  yes  one_year               no   \n",
       "3881                   no  two_year               no   \n",
       "2389                  yes  one_year               no   \n",
       "3676                   no  one_year               no   \n",
       "\n",
       "                  paymentmethod monthlycharges  totalcharges  churn  \n",
       "1814               mailed_check          19.70        258.35      0  \n",
       "5946    credit_card_(automatic)          73.90       3160.55      1  \n",
       "3881  bank_transfer_(automatic)          65.15       4681.75      0  \n",
       "2389           electronic_check          85.45       6300.85      0  \n",
       "3676           electronic_check          70.40       2044.75      0  \n",
       "\n",
       "[5 rows x 21 columns]"
      ]
     },
     "execution_count": 16,
     "metadata": {},
     "output_type": "execute_result"
    }
   ],
   "source": [
    "# visualizando os indices após o train_test_split\n",
    "df_train_full.head()"
   ]
  },
  {
   "cell_type": "markdown",
   "id": "552e6002",
   "metadata": {},
   "source": [
    "os índices (a primeira coluna) são embaralhados nos novos quadros de dados, então, em vez de números consecutivos como 0, 1, 2, ..., eles parecem aleatórios."
   ]
  },
  {
   "cell_type": "markdown",
   "id": "2032e9b7",
   "metadata": {},
   "source": [
    "A função `train_test_split` divide os dados em apenas duas partes: treinar e testar. Apesar disso, ainda podemos dividir o conjunto de dados original em três partes; apenas pegamos uma parte e dividimos novamente"
   ]
  },
  {
   "cell_type": "code",
   "execution_count": 17,
   "id": "8836fb00",
   "metadata": {},
   "outputs": [],
   "source": [
    "# vamos pegar o df_train_full e dividi-lo mais uma vez em treianr e validar\n",
    "df_train, df_val = train_test_split(df_train_full, test_size=0.33, random_state=11)\n",
    " \n",
    "y_train = df_train.churn.values\n",
    "y_val = df_val.churn.values\n",
    " \n",
    "del df_train['churn']\n",
    "del df_val['churn']"
   ]
  },
  {
   "cell_type": "markdown",
   "id": "3fa149e5",
   "metadata": {},
   "source": [
    "Agora os dataframes estão preparados e estamos prontos para usar o conjunto de dados de treinamento para realizar a análise exploratória inicial dos dados."
   ]
  },
  {
   "cell_type": "markdown",
   "id": "76d4b488",
   "metadata": {},
   "source": [
    "## Análise exploratória de dados\n",
    "\n",
    "Devemos sempre verificar se há valores ausentes no conjunto de dados porque muitos modelos de aprendizado de máquina não podem lidar facilmente com dados ausentes. Já encontramos um problema com a coluna TotalCharges e substituímos os valores ausentes por zeros. Agora vamos ver se precisamos executar algum tratamento nulo adicional:"
   ]
  },
  {
   "cell_type": "code",
   "execution_count": 18,
   "id": "c91b9f5e",
   "metadata": {},
   "outputs": [
    {
     "data": {
      "text/plain": [
       "customerid          0\n",
       "gender              0\n",
       "seniorcitizen       0\n",
       "partner             0\n",
       "dependents          0\n",
       "tenure              0\n",
       "phoneservice        0\n",
       "multiplelines       0\n",
       "internetservice     0\n",
       "onlinesecurity      0\n",
       "onlinebackup        0\n",
       "deviceprotection    0\n",
       "techsupport         0\n",
       "streamingtv         0\n",
       "streamingmovies     0\n",
       "contract            0\n",
       "paperlessbilling    0\n",
       "paymentmethod       0\n",
       "monthlycharges      0\n",
       "totalcharges        0\n",
       "churn               0\n",
       "dtype: int64"
      ]
     },
     "execution_count": 18,
     "metadata": {},
     "output_type": "execute_result"
    }
   ],
   "source": [
    "df_train_full.isnull().sum()"
   ]
  },
  {
   "cell_type": "markdown",
   "id": "d74efb46",
   "metadata": {},
   "source": [
    "não possui nenhum valor ausente."
   ]
  },
  {
   "cell_type": "markdown",
   "id": "b55f006f",
   "metadata": {},
   "source": [
    "Outra coisa que devemos fazer é verificar a distribuição dos valores na variável de destino. "
   ]
  },
  {
   "cell_type": "code",
   "execution_count": 19,
   "id": "8b09ac51",
   "metadata": {},
   "outputs": [
    {
     "data": {
      "text/plain": [
       "0    4113\n",
       "1    1521\n",
       "Name: churn, dtype: int64"
      ]
     },
     "execution_count": 19,
     "metadata": {},
     "output_type": "execute_result"
    }
   ],
   "source": [
    "df_train_full.churn.value_counts()"
   ]
  },
  {
   "cell_type": "markdown",
   "id": "c6baa5b2",
   "metadata": {},
   "source": [
    "Conhecemos os números absolutos, mas vamos verificar também a proporção de usuários churn entre todos os clientes. Para isso, precisamos dividir o número de clientes que desistiram pelo número total de clientes. Sabemos que 1.521 de 5.634 desistiram, então a proporção é\n",
    "\n",
    "1521 / 5634 = 0.27\n",
    "\n",
    "Isso nos dá a proporção de usuários cancelados ou a probabilidade de um cliente desistir. Como vemos no conjunto de dados de treinamento, aproximadamente 27% dos clientes pararam de usar nossos serviços e o restante permaneceu como cliente."
   ]
  },
  {
   "cell_type": "code",
   "execution_count": 20,
   "id": "fbc574dc",
   "metadata": {},
   "outputs": [
    {
     "data": {
      "text/plain": [
       "0.27"
      ]
     },
     "execution_count": 20,
     "metadata": {},
     "output_type": "execute_result"
    }
   ],
   "source": [
    "# Calculando a taxa de churn com método mean\n",
    "global_mean = df_train_full.churn.mean()\n",
    "round(global_mean, 3)"
   ]
  },
  {
   "cell_type": "markdown",
   "id": "705df094",
   "metadata": {},
   "source": [
    "Nosso conjunto de dados de churn é um exemplo do chamado conjunto de dados `desequilibrado`.Ouve três vezes mais pessoas que não desistiram em nosso conjunto de dados do que aquelas que desistiram.\n",
    "\n",
    "O oposto de desequilibrado é o caso balanceado , quando as classes positivas e negativas são igualmente distribuídas entre todas as observações ."
   ]
  },
  {
   "cell_type": "markdown",
   "id": "bd05d144",
   "metadata": {},
   "source": [
    "Ambas as variáveis ​​categóricas e numéricas em nosso conjunto de dados são importantes, mas também são diferentes e precisam de tratamento diferente. Para isso, queremos analisá-los separadamente.\n",
    "\n",
    "Vamos criar duas listas:\n",
    "\n",
    "* `categorical`, que conterá os nomes das variáveis ​​categóricas\n",
    "* `numerical`, que, da mesma forma, terá os nomes das variáveis ​​numéricas"
   ]
  },
  {
   "cell_type": "code",
   "execution_count": 21,
   "id": "6d8acf18",
   "metadata": {},
   "outputs": [],
   "source": [
    "categorical = ['gender', 'seniorcitizen', 'partner', 'dependents',\n",
    "               'phoneservice', 'multiplelines', 'internetservice',\n",
    "               'onlinesecurity', 'onlinebackup', 'deviceprotection',\n",
    "               'techsupport', 'streamingtv', 'streamingmovies',\n",
    "               'contract', 'paperlessbilling', 'paymentmethod']\n",
    "numerical = ['tenure', 'monthlycharges', 'totalcharges']"
   ]
  },
  {
   "cell_type": "code",
   "execution_count": 22,
   "id": "73152d19",
   "metadata": {},
   "outputs": [
    {
     "data": {
      "text/plain": [
       "gender              2\n",
       "seniorcitizen       2\n",
       "partner             2\n",
       "dependents          2\n",
       "phoneservice        2\n",
       "multiplelines       3\n",
       "internetservice     3\n",
       "onlinesecurity      3\n",
       "onlinebackup        3\n",
       "deviceprotection    3\n",
       "techsupport         3\n",
       "streamingtv         3\n",
       "streamingmovies     3\n",
       "contract            3\n",
       "paperlessbilling    2\n",
       "paymentmethod       4\n",
       "dtype: int64"
      ]
     },
     "execution_count": 22,
     "metadata": {},
     "output_type": "execute_result"
    }
   ],
   "source": [
    "#Primeiro vamos ver quantos valores exclusivos cada variavel possui \n",
    "df_train_full[categorical].nunique()"
   ]
  },
  {
   "cell_type": "markdown",
   "id": "86a6b11f",
   "metadata": {},
   "source": [
    "Vemos que todas as variáveis têm poucos valores únicos. "
   ]
  },
  {
   "cell_type": "markdown",
   "id": "291ae9b6",
   "metadata": {},
   "source": [
    "### Importância do Recurso\n",
    "\n",
    "Saber como outras variáveis ​​afetam a variável de destino, churn, é a chave para entender os dados e construir um bom modelo. Esse processo é chamado de análise de importância de recursos e geralmente é feito como parte da análise exploratória de dados para descobrir quais variáveis ​​serão úteis para o modelo. Ele também nos fornece informações adicionais sobre o conjunto de dados e ajuda a responder perguntas como `“O que faz os clientes desistirem?”` e `“Quais são as características das pessoas que churn ?”`\n",
    "\n",
    "Temos dois tipos diferentes de características: categóricas e numéricas. Cada tipo tem maneiras diferentes de medir a importância do recurso, então veremos cada um separadamente.\n",
    "\n",
    "#### **taxa de churn**\n",
    "\n",
    "Vamos começar examinando as variáveis ​​categóricas. A primeira coisa que podemos fazer é olhar a taxa de churn para cada variável. Sabemos que uma variável categórica tem um conjunto de valores que pode assumir e cada valor define um grupo dentro do conjunto de dados.\n",
    "\n",
    "Podemos olhar para todos os valores distintos de uma variável. Então, para cada variável, há um grupo de clientes: todos os clientes que têm esse valor. Para cada um desses grupos, podemos calcular a taxa de churn, que é a taxa de churn do grupo. Quando o tivermos, podemos compará-lo com a taxa de churn global – a taxa de churn calculada para todas as observações de uma só vez.\n",
    "\n",
    "Se a diferença entre as taxas for pequena, o valor não é importante na previsão do churn, pois esse grupo de clientes não é muito diferente do restante dos clientes. Por outro lado, se a diferença não for pequena, algo dentro desse grupo o diferencia dos demais. Um algoritmo de aprendizado de máquina deve ser capaz de pegar isso e usá-lo ao fazer previsões."
   ]
  },
  {
   "cell_type": "code",
   "execution_count": 23,
   "id": "4564538b",
   "metadata": {},
   "outputs": [
    {
     "name": "stdout",
     "output_type": "stream",
     "text": [
      "gender == female:  0.277\n",
      "Gender == Male: 0.263\n"
     ]
    }
   ],
   "source": [
    "# verificando primeiro a variavel gender | fazendo para os clientes do sexo feminino\n",
    "female_mean = df_train_full[df_train_full.gender == 'female'].churn.mean()\n",
    "print('gender == female: ', round(female_mean, 3))\n",
    "\n",
    "# fazendo para os clientes do sexo masculino \n",
    "male_mean = df_train_full[df_train_full.gender == 'male'].churn.mean()\n",
    "print('Gender == Male:', round(male_mean, 3))"
   ]
  },
  {
   "cell_type": "markdown",
   "id": "50916d5f",
   "metadata": {},
   "source": [
    "Os números são bem próximos, o que significa que gender não é uma variável útil ao prever a churn"
   ]
  },
  {
   "cell_type": "code",
   "execution_count": 24,
   "id": "d5e07152",
   "metadata": {},
   "outputs": [
    {
     "name": "stdout",
     "output_type": "stream",
     "text": [
      "Partner == Yes:  0.205\n",
      "Partner == No:  0.33\n"
     ]
    }
   ],
   "source": [
    "#Vamos verificar a variavel partner (leva valores sim e não)\n",
    "partner_yes = df_train_full[df_train_full.partner == 'yes'].churn.mean()\n",
    "print('Partner == Yes: ', round(partner_yes, 3))\n",
    "\n",
    "partner_no = df_train_full[df_train_full.partner == 'no'].churn.mean()\n",
    "print('Partner == No: ', round(partner_no, 3))\n"
   ]
  },
  {
   "cell_type": "markdown",
   "id": "8adffd17",
   "metadata": {},
   "source": [
    "Como vemos, as taxas para quem tem companheiro são bem diferentes das taxas para quem não tem: 20% e 33%, respectivamente. Isso significa que os clientes sem parceiro têm maior probabilidade de desistir do que aqueles com parceiro"
   ]
  },
  {
   "cell_type": "markdown",
   "id": "1730f281",
   "metadata": {},
   "source": [
    "#### Proporção de risco\n",
    "\n",
    "Além de observar a diferença entre a tarifa do grupo e a tarifa global, é interessante observar a relação entre elas. Em estatística, a razão entre as probabilidades em diferentes grupos é chamada de razão de risco , onde o risco se refere ao risco de ter o efeito. No nosso caso, o efeito é churn, então é o risco de churning :\n",
    "\n",
    "risco = taxa de grupo / taxa global\n",
    "\n",
    "Para gender == female, por exemplo, o risco de rotatividade é de 1,02:\n",
    "\n",
    "risco = 27,7% / 27% = 1,02\n",
    "\n",
    "Risco é um número entre zero e infinito. Tem uma boa interpretação que informa a probabilidade de os elementos do grupo terem o efeito (churn) em comparação com toda a população.\n",
    "\n",
    "Se a diferença entre a taxa do grupo e a taxa global for pequena, o risco é próximo de 1: esse grupo tem o mesmo nível de risco que o restante da população. Os clientes do grupo têm tanta probabilidade de rotatividade (churn) quanto qualquer outra pessoa. Em outras palavras, um grupo com risco próximo a 1 não tem risco algum (figura 3.15, grupo A).\n",
    "\n",
    "Se o risco for menor que 1, o grupo tem riscos menores: o churn neste grupo é menor que o churn global. Por exemplo, o valor 0,5 significa que os clientes deste grupo têm duas vezes menos probabilidade de desistir do que os clientes em geral (figura 3.15, grupo B).\n",
    "\n",
    "Por outro lado, se o valor for maior que 1, o grupo é arriscado: há mais churn no grupo do que na população. Portanto, um risco de 2 significa que os clientes do grupo têm duas vezes mais chances de desistir\n",
    "\n",
    "![Texto Alternativo](figure_3-15.png)\n"
   ]
  },
  {
   "cell_type": "code",
   "execution_count": 25,
   "id": "8e378f11",
   "metadata": {},
   "outputs": [
    {
     "data": {
      "text/html": [
       "<div>\n",
       "<style scoped>\n",
       "    .dataframe tbody tr th:only-of-type {\n",
       "        vertical-align: middle;\n",
       "    }\n",
       "\n",
       "    .dataframe tbody tr th {\n",
       "        vertical-align: top;\n",
       "    }\n",
       "\n",
       "    .dataframe thead th {\n",
       "        text-align: right;\n",
       "    }\n",
       "</style>\n",
       "<table border=\"1\" class=\"dataframe\">\n",
       "  <thead>\n",
       "    <tr style=\"text-align: right;\">\n",
       "      <th></th>\n",
       "      <th>mean</th>\n",
       "      <th>diff</th>\n",
       "      <th>risk</th>\n",
       "    </tr>\n",
       "    <tr>\n",
       "      <th>gender</th>\n",
       "      <th></th>\n",
       "      <th></th>\n",
       "      <th></th>\n",
       "    </tr>\n",
       "  </thead>\n",
       "  <tbody>\n",
       "    <tr>\n",
       "      <th>female</th>\n",
       "      <td>0.276824</td>\n",
       "      <td>0.006856</td>\n",
       "      <td>1.025396</td>\n",
       "    </tr>\n",
       "    <tr>\n",
       "      <th>male</th>\n",
       "      <td>0.263214</td>\n",
       "      <td>-0.006755</td>\n",
       "      <td>0.974980</td>\n",
       "    </tr>\n",
       "  </tbody>\n",
       "</table>\n",
       "</div>"
      ],
      "text/plain": [
       "            mean      diff      risk\n",
       "gender                              \n",
       "female  0.276824  0.006856  1.025396\n",
       "male    0.263214 -0.006755  0.974980"
      ]
     },
     "execution_count": 25,
     "metadata": {},
     "output_type": "execute_result"
    }
   ],
   "source": [
    "# Vamos fazer a proporção de risco para todas as variáveis categóricas \n",
    "global_mean = df_train_full.churn.mean() # calcula a media da coluna churn\n",
    " \n",
    "df_group = df_train_full.groupby(by='gender').churn.agg(['mean'])# o df está sendo agrupado com base na coluna gender, a coluna churn é selecionada dentro desse grupo. Por fim, é aplicada a função de agregação mean a essa coluna\n",
    "df_group['diff'] = df_group['mean'] - global_mean # criamos uma coluna diff onde manteremos a diferença entre a média do grupo e a média global\n",
    "df_group['risk'] = df_group['mean'] / global_mean # criamos a coluna risk onde calculamos a fração entre a média do grupo e a média global\n",
    " \n",
    "df_group"
   ]
  },
  {
   "cell_type": "code",
   "execution_count": 26,
   "id": "6740393c",
   "metadata": {},
   "outputs": [
    {
     "data": {
      "text/html": [
       "<div>\n",
       "<style scoped>\n",
       "    .dataframe tbody tr th:only-of-type {\n",
       "        vertical-align: middle;\n",
       "    }\n",
       "\n",
       "    .dataframe tbody tr th {\n",
       "        vertical-align: top;\n",
       "    }\n",
       "\n",
       "    .dataframe thead th {\n",
       "        text-align: right;\n",
       "    }\n",
       "</style>\n",
       "<table border=\"1\" class=\"dataframe\">\n",
       "  <thead>\n",
       "    <tr style=\"text-align: right;\">\n",
       "      <th></th>\n",
       "      <th>mean</th>\n",
       "      <th>diff</th>\n",
       "      <th>rate</th>\n",
       "    </tr>\n",
       "    <tr>\n",
       "      <th>gender</th>\n",
       "      <th></th>\n",
       "      <th></th>\n",
       "      <th></th>\n",
       "    </tr>\n",
       "  </thead>\n",
       "  <tbody>\n",
       "    <tr>\n",
       "      <th>female</th>\n",
       "      <td>0.276824</td>\n",
       "      <td>0.006856</td>\n",
       "      <td>1.025396</td>\n",
       "    </tr>\n",
       "    <tr>\n",
       "      <th>male</th>\n",
       "      <td>0.263214</td>\n",
       "      <td>-0.006755</td>\n",
       "      <td>0.974980</td>\n",
       "    </tr>\n",
       "  </tbody>\n",
       "</table>\n",
       "</div>"
      ],
      "text/plain": [
       "            mean      diff      rate\n",
       "gender                              \n",
       "female  0.276824  0.006856  1.025396\n",
       "male    0.263214 -0.006755  0.974980"
      ]
     },
     "metadata": {},
     "output_type": "display_data"
    },
    {
     "data": {
      "text/html": [
       "<div>\n",
       "<style scoped>\n",
       "    .dataframe tbody tr th:only-of-type {\n",
       "        vertical-align: middle;\n",
       "    }\n",
       "\n",
       "    .dataframe tbody tr th {\n",
       "        vertical-align: top;\n",
       "    }\n",
       "\n",
       "    .dataframe thead th {\n",
       "        text-align: right;\n",
       "    }\n",
       "</style>\n",
       "<table border=\"1\" class=\"dataframe\">\n",
       "  <thead>\n",
       "    <tr style=\"text-align: right;\">\n",
       "      <th></th>\n",
       "      <th>mean</th>\n",
       "      <th>diff</th>\n",
       "      <th>rate</th>\n",
       "    </tr>\n",
       "    <tr>\n",
       "      <th>seniorcitizen</th>\n",
       "      <th></th>\n",
       "      <th></th>\n",
       "      <th></th>\n",
       "    </tr>\n",
       "  </thead>\n",
       "  <tbody>\n",
       "    <tr>\n",
       "      <th>0</th>\n",
       "      <td>0.242270</td>\n",
       "      <td>-0.027698</td>\n",
       "      <td>0.897403</td>\n",
       "    </tr>\n",
       "    <tr>\n",
       "      <th>1</th>\n",
       "      <td>0.413377</td>\n",
       "      <td>0.143409</td>\n",
       "      <td>1.531208</td>\n",
       "    </tr>\n",
       "  </tbody>\n",
       "</table>\n",
       "</div>"
      ],
      "text/plain": [
       "                   mean      diff      rate\n",
       "seniorcitizen                              \n",
       "0              0.242270 -0.027698  0.897403\n",
       "1              0.413377  0.143409  1.531208"
      ]
     },
     "metadata": {},
     "output_type": "display_data"
    },
    {
     "data": {
      "text/html": [
       "<div>\n",
       "<style scoped>\n",
       "    .dataframe tbody tr th:only-of-type {\n",
       "        vertical-align: middle;\n",
       "    }\n",
       "\n",
       "    .dataframe tbody tr th {\n",
       "        vertical-align: top;\n",
       "    }\n",
       "\n",
       "    .dataframe thead th {\n",
       "        text-align: right;\n",
       "    }\n",
       "</style>\n",
       "<table border=\"1\" class=\"dataframe\">\n",
       "  <thead>\n",
       "    <tr style=\"text-align: right;\">\n",
       "      <th></th>\n",
       "      <th>mean</th>\n",
       "      <th>diff</th>\n",
       "      <th>rate</th>\n",
       "    </tr>\n",
       "    <tr>\n",
       "      <th>partner</th>\n",
       "      <th></th>\n",
       "      <th></th>\n",
       "      <th></th>\n",
       "    </tr>\n",
       "  </thead>\n",
       "  <tbody>\n",
       "    <tr>\n",
       "      <th>no</th>\n",
       "      <td>0.329809</td>\n",
       "      <td>0.059841</td>\n",
       "      <td>1.221659</td>\n",
       "    </tr>\n",
       "    <tr>\n",
       "      <th>yes</th>\n",
       "      <td>0.205033</td>\n",
       "      <td>-0.064935</td>\n",
       "      <td>0.759472</td>\n",
       "    </tr>\n",
       "  </tbody>\n",
       "</table>\n",
       "</div>"
      ],
      "text/plain": [
       "             mean      diff      rate\n",
       "partner                              \n",
       "no       0.329809  0.059841  1.221659\n",
       "yes      0.205033 -0.064935  0.759472"
      ]
     },
     "metadata": {},
     "output_type": "display_data"
    },
    {
     "data": {
      "text/html": [
       "<div>\n",
       "<style scoped>\n",
       "    .dataframe tbody tr th:only-of-type {\n",
       "        vertical-align: middle;\n",
       "    }\n",
       "\n",
       "    .dataframe tbody tr th {\n",
       "        vertical-align: top;\n",
       "    }\n",
       "\n",
       "    .dataframe thead th {\n",
       "        text-align: right;\n",
       "    }\n",
       "</style>\n",
       "<table border=\"1\" class=\"dataframe\">\n",
       "  <thead>\n",
       "    <tr style=\"text-align: right;\">\n",
       "      <th></th>\n",
       "      <th>mean</th>\n",
       "      <th>diff</th>\n",
       "      <th>rate</th>\n",
       "    </tr>\n",
       "    <tr>\n",
       "      <th>dependents</th>\n",
       "      <th></th>\n",
       "      <th></th>\n",
       "      <th></th>\n",
       "    </tr>\n",
       "  </thead>\n",
       "  <tbody>\n",
       "    <tr>\n",
       "      <th>no</th>\n",
       "      <td>0.313760</td>\n",
       "      <td>0.043792</td>\n",
       "      <td>1.162212</td>\n",
       "    </tr>\n",
       "    <tr>\n",
       "      <th>yes</th>\n",
       "      <td>0.165666</td>\n",
       "      <td>-0.104302</td>\n",
       "      <td>0.613651</td>\n",
       "    </tr>\n",
       "  </tbody>\n",
       "</table>\n",
       "</div>"
      ],
      "text/plain": [
       "                mean      diff      rate\n",
       "dependents                              \n",
       "no          0.313760  0.043792  1.162212\n",
       "yes         0.165666 -0.104302  0.613651"
      ]
     },
     "metadata": {},
     "output_type": "display_data"
    },
    {
     "data": {
      "text/html": [
       "<div>\n",
       "<style scoped>\n",
       "    .dataframe tbody tr th:only-of-type {\n",
       "        vertical-align: middle;\n",
       "    }\n",
       "\n",
       "    .dataframe tbody tr th {\n",
       "        vertical-align: top;\n",
       "    }\n",
       "\n",
       "    .dataframe thead th {\n",
       "        text-align: right;\n",
       "    }\n",
       "</style>\n",
       "<table border=\"1\" class=\"dataframe\">\n",
       "  <thead>\n",
       "    <tr style=\"text-align: right;\">\n",
       "      <th></th>\n",
       "      <th>mean</th>\n",
       "      <th>diff</th>\n",
       "      <th>rate</th>\n",
       "    </tr>\n",
       "    <tr>\n",
       "      <th>phoneservice</th>\n",
       "      <th></th>\n",
       "      <th></th>\n",
       "      <th></th>\n",
       "    </tr>\n",
       "  </thead>\n",
       "  <tbody>\n",
       "    <tr>\n",
       "      <th>no</th>\n",
       "      <td>0.241316</td>\n",
       "      <td>-0.028652</td>\n",
       "      <td>0.893870</td>\n",
       "    </tr>\n",
       "    <tr>\n",
       "      <th>yes</th>\n",
       "      <td>0.273049</td>\n",
       "      <td>0.003081</td>\n",
       "      <td>1.011412</td>\n",
       "    </tr>\n",
       "  </tbody>\n",
       "</table>\n",
       "</div>"
      ],
      "text/plain": [
       "                  mean      diff      rate\n",
       "phoneservice                              \n",
       "no            0.241316 -0.028652  0.893870\n",
       "yes           0.273049  0.003081  1.011412"
      ]
     },
     "metadata": {},
     "output_type": "display_data"
    },
    {
     "data": {
      "text/html": [
       "<div>\n",
       "<style scoped>\n",
       "    .dataframe tbody tr th:only-of-type {\n",
       "        vertical-align: middle;\n",
       "    }\n",
       "\n",
       "    .dataframe tbody tr th {\n",
       "        vertical-align: top;\n",
       "    }\n",
       "\n",
       "    .dataframe thead th {\n",
       "        text-align: right;\n",
       "    }\n",
       "</style>\n",
       "<table border=\"1\" class=\"dataframe\">\n",
       "  <thead>\n",
       "    <tr style=\"text-align: right;\">\n",
       "      <th></th>\n",
       "      <th>mean</th>\n",
       "      <th>diff</th>\n",
       "      <th>rate</th>\n",
       "    </tr>\n",
       "    <tr>\n",
       "      <th>multiplelines</th>\n",
       "      <th></th>\n",
       "      <th></th>\n",
       "      <th></th>\n",
       "    </tr>\n",
       "  </thead>\n",
       "  <tbody>\n",
       "    <tr>\n",
       "      <th>no</th>\n",
       "      <td>0.257407</td>\n",
       "      <td>-0.012561</td>\n",
       "      <td>0.953474</td>\n",
       "    </tr>\n",
       "    <tr>\n",
       "      <th>no_phone_service</th>\n",
       "      <td>0.241316</td>\n",
       "      <td>-0.028652</td>\n",
       "      <td>0.893870</td>\n",
       "    </tr>\n",
       "    <tr>\n",
       "      <th>yes</th>\n",
       "      <td>0.290742</td>\n",
       "      <td>0.020773</td>\n",
       "      <td>1.076948</td>\n",
       "    </tr>\n",
       "  </tbody>\n",
       "</table>\n",
       "</div>"
      ],
      "text/plain": [
       "                      mean      diff      rate\n",
       "multiplelines                                 \n",
       "no                0.257407 -0.012561  0.953474\n",
       "no_phone_service  0.241316 -0.028652  0.893870\n",
       "yes               0.290742  0.020773  1.076948"
      ]
     },
     "metadata": {},
     "output_type": "display_data"
    },
    {
     "data": {
      "text/html": [
       "<div>\n",
       "<style scoped>\n",
       "    .dataframe tbody tr th:only-of-type {\n",
       "        vertical-align: middle;\n",
       "    }\n",
       "\n",
       "    .dataframe tbody tr th {\n",
       "        vertical-align: top;\n",
       "    }\n",
       "\n",
       "    .dataframe thead th {\n",
       "        text-align: right;\n",
       "    }\n",
       "</style>\n",
       "<table border=\"1\" class=\"dataframe\">\n",
       "  <thead>\n",
       "    <tr style=\"text-align: right;\">\n",
       "      <th></th>\n",
       "      <th>mean</th>\n",
       "      <th>diff</th>\n",
       "      <th>rate</th>\n",
       "    </tr>\n",
       "    <tr>\n",
       "      <th>internetservice</th>\n",
       "      <th></th>\n",
       "      <th></th>\n",
       "      <th></th>\n",
       "    </tr>\n",
       "  </thead>\n",
       "  <tbody>\n",
       "    <tr>\n",
       "      <th>dsl</th>\n",
       "      <td>0.192347</td>\n",
       "      <td>-0.077621</td>\n",
       "      <td>0.712482</td>\n",
       "    </tr>\n",
       "    <tr>\n",
       "      <th>fiber_optic</th>\n",
       "      <td>0.425171</td>\n",
       "      <td>0.155203</td>\n",
       "      <td>1.574895</td>\n",
       "    </tr>\n",
       "    <tr>\n",
       "      <th>no</th>\n",
       "      <td>0.077805</td>\n",
       "      <td>-0.192163</td>\n",
       "      <td>0.288201</td>\n",
       "    </tr>\n",
       "  </tbody>\n",
       "</table>\n",
       "</div>"
      ],
      "text/plain": [
       "                     mean      diff      rate\n",
       "internetservice                              \n",
       "dsl              0.192347 -0.077621  0.712482\n",
       "fiber_optic      0.425171  0.155203  1.574895\n",
       "no               0.077805 -0.192163  0.288201"
      ]
     },
     "metadata": {},
     "output_type": "display_data"
    },
    {
     "data": {
      "text/html": [
       "<div>\n",
       "<style scoped>\n",
       "    .dataframe tbody tr th:only-of-type {\n",
       "        vertical-align: middle;\n",
       "    }\n",
       "\n",
       "    .dataframe tbody tr th {\n",
       "        vertical-align: top;\n",
       "    }\n",
       "\n",
       "    .dataframe thead th {\n",
       "        text-align: right;\n",
       "    }\n",
       "</style>\n",
       "<table border=\"1\" class=\"dataframe\">\n",
       "  <thead>\n",
       "    <tr style=\"text-align: right;\">\n",
       "      <th></th>\n",
       "      <th>mean</th>\n",
       "      <th>diff</th>\n",
       "      <th>rate</th>\n",
       "    </tr>\n",
       "    <tr>\n",
       "      <th>onlinesecurity</th>\n",
       "      <th></th>\n",
       "      <th></th>\n",
       "      <th></th>\n",
       "    </tr>\n",
       "  </thead>\n",
       "  <tbody>\n",
       "    <tr>\n",
       "      <th>no</th>\n",
       "      <td>0.420921</td>\n",
       "      <td>0.150953</td>\n",
       "      <td>1.559152</td>\n",
       "    </tr>\n",
       "    <tr>\n",
       "      <th>no_internet_service</th>\n",
       "      <td>0.077805</td>\n",
       "      <td>-0.192163</td>\n",
       "      <td>0.288201</td>\n",
       "    </tr>\n",
       "    <tr>\n",
       "      <th>yes</th>\n",
       "      <td>0.153226</td>\n",
       "      <td>-0.116742</td>\n",
       "      <td>0.567570</td>\n",
       "    </tr>\n",
       "  </tbody>\n",
       "</table>\n",
       "</div>"
      ],
      "text/plain": [
       "                         mean      diff      rate\n",
       "onlinesecurity                                   \n",
       "no                   0.420921  0.150953  1.559152\n",
       "no_internet_service  0.077805 -0.192163  0.288201\n",
       "yes                  0.153226 -0.116742  0.567570"
      ]
     },
     "metadata": {},
     "output_type": "display_data"
    },
    {
     "data": {
      "text/html": [
       "<div>\n",
       "<style scoped>\n",
       "    .dataframe tbody tr th:only-of-type {\n",
       "        vertical-align: middle;\n",
       "    }\n",
       "\n",
       "    .dataframe tbody tr th {\n",
       "        vertical-align: top;\n",
       "    }\n",
       "\n",
       "    .dataframe thead th {\n",
       "        text-align: right;\n",
       "    }\n",
       "</style>\n",
       "<table border=\"1\" class=\"dataframe\">\n",
       "  <thead>\n",
       "    <tr style=\"text-align: right;\">\n",
       "      <th></th>\n",
       "      <th>mean</th>\n",
       "      <th>diff</th>\n",
       "      <th>rate</th>\n",
       "    </tr>\n",
       "    <tr>\n",
       "      <th>onlinebackup</th>\n",
       "      <th></th>\n",
       "      <th></th>\n",
       "      <th></th>\n",
       "    </tr>\n",
       "  </thead>\n",
       "  <tbody>\n",
       "    <tr>\n",
       "      <th>no</th>\n",
       "      <td>0.404323</td>\n",
       "      <td>0.134355</td>\n",
       "      <td>1.497672</td>\n",
       "    </tr>\n",
       "    <tr>\n",
       "      <th>no_internet_service</th>\n",
       "      <td>0.077805</td>\n",
       "      <td>-0.192163</td>\n",
       "      <td>0.288201</td>\n",
       "    </tr>\n",
       "    <tr>\n",
       "      <th>yes</th>\n",
       "      <td>0.217232</td>\n",
       "      <td>-0.052736</td>\n",
       "      <td>0.804660</td>\n",
       "    </tr>\n",
       "  </tbody>\n",
       "</table>\n",
       "</div>"
      ],
      "text/plain": [
       "                         mean      diff      rate\n",
       "onlinebackup                                     \n",
       "no                   0.404323  0.134355  1.497672\n",
       "no_internet_service  0.077805 -0.192163  0.288201\n",
       "yes                  0.217232 -0.052736  0.804660"
      ]
     },
     "metadata": {},
     "output_type": "display_data"
    },
    {
     "data": {
      "text/html": [
       "<div>\n",
       "<style scoped>\n",
       "    .dataframe tbody tr th:only-of-type {\n",
       "        vertical-align: middle;\n",
       "    }\n",
       "\n",
       "    .dataframe tbody tr th {\n",
       "        vertical-align: top;\n",
       "    }\n",
       "\n",
       "    .dataframe thead th {\n",
       "        text-align: right;\n",
       "    }\n",
       "</style>\n",
       "<table border=\"1\" class=\"dataframe\">\n",
       "  <thead>\n",
       "    <tr style=\"text-align: right;\">\n",
       "      <th></th>\n",
       "      <th>mean</th>\n",
       "      <th>diff</th>\n",
       "      <th>rate</th>\n",
       "    </tr>\n",
       "    <tr>\n",
       "      <th>deviceprotection</th>\n",
       "      <th></th>\n",
       "      <th></th>\n",
       "      <th></th>\n",
       "    </tr>\n",
       "  </thead>\n",
       "  <tbody>\n",
       "    <tr>\n",
       "      <th>no</th>\n",
       "      <td>0.395875</td>\n",
       "      <td>0.125907</td>\n",
       "      <td>1.466379</td>\n",
       "    </tr>\n",
       "    <tr>\n",
       "      <th>no_internet_service</th>\n",
       "      <td>0.077805</td>\n",
       "      <td>-0.192163</td>\n",
       "      <td>0.288201</td>\n",
       "    </tr>\n",
       "    <tr>\n",
       "      <th>yes</th>\n",
       "      <td>0.230412</td>\n",
       "      <td>-0.039556</td>\n",
       "      <td>0.853480</td>\n",
       "    </tr>\n",
       "  </tbody>\n",
       "</table>\n",
       "</div>"
      ],
      "text/plain": [
       "                         mean      diff      rate\n",
       "deviceprotection                                 \n",
       "no                   0.395875  0.125907  1.466379\n",
       "no_internet_service  0.077805 -0.192163  0.288201\n",
       "yes                  0.230412 -0.039556  0.853480"
      ]
     },
     "metadata": {},
     "output_type": "display_data"
    },
    {
     "data": {
      "text/html": [
       "<div>\n",
       "<style scoped>\n",
       "    .dataframe tbody tr th:only-of-type {\n",
       "        vertical-align: middle;\n",
       "    }\n",
       "\n",
       "    .dataframe tbody tr th {\n",
       "        vertical-align: top;\n",
       "    }\n",
       "\n",
       "    .dataframe thead th {\n",
       "        text-align: right;\n",
       "    }\n",
       "</style>\n",
       "<table border=\"1\" class=\"dataframe\">\n",
       "  <thead>\n",
       "    <tr style=\"text-align: right;\">\n",
       "      <th></th>\n",
       "      <th>mean</th>\n",
       "      <th>diff</th>\n",
       "      <th>rate</th>\n",
       "    </tr>\n",
       "    <tr>\n",
       "      <th>techsupport</th>\n",
       "      <th></th>\n",
       "      <th></th>\n",
       "      <th></th>\n",
       "    </tr>\n",
       "  </thead>\n",
       "  <tbody>\n",
       "    <tr>\n",
       "      <th>no</th>\n",
       "      <td>0.418914</td>\n",
       "      <td>0.148946</td>\n",
       "      <td>1.551717</td>\n",
       "    </tr>\n",
       "    <tr>\n",
       "      <th>no_internet_service</th>\n",
       "      <td>0.077805</td>\n",
       "      <td>-0.192163</td>\n",
       "      <td>0.288201</td>\n",
       "    </tr>\n",
       "    <tr>\n",
       "      <th>yes</th>\n",
       "      <td>0.159926</td>\n",
       "      <td>-0.110042</td>\n",
       "      <td>0.592390</td>\n",
       "    </tr>\n",
       "  </tbody>\n",
       "</table>\n",
       "</div>"
      ],
      "text/plain": [
       "                         mean      diff      rate\n",
       "techsupport                                      \n",
       "no                   0.418914  0.148946  1.551717\n",
       "no_internet_service  0.077805 -0.192163  0.288201\n",
       "yes                  0.159926 -0.110042  0.592390"
      ]
     },
     "metadata": {},
     "output_type": "display_data"
    },
    {
     "data": {
      "text/html": [
       "<div>\n",
       "<style scoped>\n",
       "    .dataframe tbody tr th:only-of-type {\n",
       "        vertical-align: middle;\n",
       "    }\n",
       "\n",
       "    .dataframe tbody tr th {\n",
       "        vertical-align: top;\n",
       "    }\n",
       "\n",
       "    .dataframe thead th {\n",
       "        text-align: right;\n",
       "    }\n",
       "</style>\n",
       "<table border=\"1\" class=\"dataframe\">\n",
       "  <thead>\n",
       "    <tr style=\"text-align: right;\">\n",
       "      <th></th>\n",
       "      <th>mean</th>\n",
       "      <th>diff</th>\n",
       "      <th>rate</th>\n",
       "    </tr>\n",
       "    <tr>\n",
       "      <th>streamingtv</th>\n",
       "      <th></th>\n",
       "      <th></th>\n",
       "      <th></th>\n",
       "    </tr>\n",
       "  </thead>\n",
       "  <tbody>\n",
       "    <tr>\n",
       "      <th>no</th>\n",
       "      <td>0.342832</td>\n",
       "      <td>0.072864</td>\n",
       "      <td>1.269897</td>\n",
       "    </tr>\n",
       "    <tr>\n",
       "      <th>no_internet_service</th>\n",
       "      <td>0.077805</td>\n",
       "      <td>-0.192163</td>\n",
       "      <td>0.288201</td>\n",
       "    </tr>\n",
       "    <tr>\n",
       "      <th>yes</th>\n",
       "      <td>0.302723</td>\n",
       "      <td>0.032755</td>\n",
       "      <td>1.121328</td>\n",
       "    </tr>\n",
       "  </tbody>\n",
       "</table>\n",
       "</div>"
      ],
      "text/plain": [
       "                         mean      diff      rate\n",
       "streamingtv                                      \n",
       "no                   0.342832  0.072864  1.269897\n",
       "no_internet_service  0.077805 -0.192163  0.288201\n",
       "yes                  0.302723  0.032755  1.121328"
      ]
     },
     "metadata": {},
     "output_type": "display_data"
    },
    {
     "data": {
      "text/html": [
       "<div>\n",
       "<style scoped>\n",
       "    .dataframe tbody tr th:only-of-type {\n",
       "        vertical-align: middle;\n",
       "    }\n",
       "\n",
       "    .dataframe tbody tr th {\n",
       "        vertical-align: top;\n",
       "    }\n",
       "\n",
       "    .dataframe thead th {\n",
       "        text-align: right;\n",
       "    }\n",
       "</style>\n",
       "<table border=\"1\" class=\"dataframe\">\n",
       "  <thead>\n",
       "    <tr style=\"text-align: right;\">\n",
       "      <th></th>\n",
       "      <th>mean</th>\n",
       "      <th>diff</th>\n",
       "      <th>rate</th>\n",
       "    </tr>\n",
       "    <tr>\n",
       "      <th>streamingmovies</th>\n",
       "      <th></th>\n",
       "      <th></th>\n",
       "      <th></th>\n",
       "    </tr>\n",
       "  </thead>\n",
       "  <tbody>\n",
       "    <tr>\n",
       "      <th>no</th>\n",
       "      <td>0.338906</td>\n",
       "      <td>0.068938</td>\n",
       "      <td>1.255358</td>\n",
       "    </tr>\n",
       "    <tr>\n",
       "      <th>no_internet_service</th>\n",
       "      <td>0.077805</td>\n",
       "      <td>-0.192163</td>\n",
       "      <td>0.288201</td>\n",
       "    </tr>\n",
       "    <tr>\n",
       "      <th>yes</th>\n",
       "      <td>0.307273</td>\n",
       "      <td>0.037305</td>\n",
       "      <td>1.138182</td>\n",
       "    </tr>\n",
       "  </tbody>\n",
       "</table>\n",
       "</div>"
      ],
      "text/plain": [
       "                         mean      diff      rate\n",
       "streamingmovies                                  \n",
       "no                   0.338906  0.068938  1.255358\n",
       "no_internet_service  0.077805 -0.192163  0.288201\n",
       "yes                  0.307273  0.037305  1.138182"
      ]
     },
     "metadata": {},
     "output_type": "display_data"
    },
    {
     "data": {
      "text/html": [
       "<div>\n",
       "<style scoped>\n",
       "    .dataframe tbody tr th:only-of-type {\n",
       "        vertical-align: middle;\n",
       "    }\n",
       "\n",
       "    .dataframe tbody tr th {\n",
       "        vertical-align: top;\n",
       "    }\n",
       "\n",
       "    .dataframe thead th {\n",
       "        text-align: right;\n",
       "    }\n",
       "</style>\n",
       "<table border=\"1\" class=\"dataframe\">\n",
       "  <thead>\n",
       "    <tr style=\"text-align: right;\">\n",
       "      <th></th>\n",
       "      <th>mean</th>\n",
       "      <th>diff</th>\n",
       "      <th>rate</th>\n",
       "    </tr>\n",
       "    <tr>\n",
       "      <th>contract</th>\n",
       "      <th></th>\n",
       "      <th></th>\n",
       "      <th></th>\n",
       "    </tr>\n",
       "  </thead>\n",
       "  <tbody>\n",
       "    <tr>\n",
       "      <th>month-to-month</th>\n",
       "      <td>0.431701</td>\n",
       "      <td>0.161733</td>\n",
       "      <td>1.599082</td>\n",
       "    </tr>\n",
       "    <tr>\n",
       "      <th>one_year</th>\n",
       "      <td>0.120573</td>\n",
       "      <td>-0.149395</td>\n",
       "      <td>0.446621</td>\n",
       "    </tr>\n",
       "    <tr>\n",
       "      <th>two_year</th>\n",
       "      <td>0.028274</td>\n",
       "      <td>-0.241694</td>\n",
       "      <td>0.104730</td>\n",
       "    </tr>\n",
       "  </tbody>\n",
       "</table>\n",
       "</div>"
      ],
      "text/plain": [
       "                    mean      diff      rate\n",
       "contract                                    \n",
       "month-to-month  0.431701  0.161733  1.599082\n",
       "one_year        0.120573 -0.149395  0.446621\n",
       "two_year        0.028274 -0.241694  0.104730"
      ]
     },
     "metadata": {},
     "output_type": "display_data"
    },
    {
     "data": {
      "text/html": [
       "<div>\n",
       "<style scoped>\n",
       "    .dataframe tbody tr th:only-of-type {\n",
       "        vertical-align: middle;\n",
       "    }\n",
       "\n",
       "    .dataframe tbody tr th {\n",
       "        vertical-align: top;\n",
       "    }\n",
       "\n",
       "    .dataframe thead th {\n",
       "        text-align: right;\n",
       "    }\n",
       "</style>\n",
       "<table border=\"1\" class=\"dataframe\">\n",
       "  <thead>\n",
       "    <tr style=\"text-align: right;\">\n",
       "      <th></th>\n",
       "      <th>mean</th>\n",
       "      <th>diff</th>\n",
       "      <th>rate</th>\n",
       "    </tr>\n",
       "    <tr>\n",
       "      <th>paperlessbilling</th>\n",
       "      <th></th>\n",
       "      <th></th>\n",
       "      <th></th>\n",
       "    </tr>\n",
       "  </thead>\n",
       "  <tbody>\n",
       "    <tr>\n",
       "      <th>no</th>\n",
       "      <td>0.172071</td>\n",
       "      <td>-0.097897</td>\n",
       "      <td>0.637375</td>\n",
       "    </tr>\n",
       "    <tr>\n",
       "      <th>yes</th>\n",
       "      <td>0.338151</td>\n",
       "      <td>0.068183</td>\n",
       "      <td>1.252560</td>\n",
       "    </tr>\n",
       "  </tbody>\n",
       "</table>\n",
       "</div>"
      ],
      "text/plain": [
       "                      mean      diff      rate\n",
       "paperlessbilling                              \n",
       "no                0.172071 -0.097897  0.637375\n",
       "yes               0.338151  0.068183  1.252560"
      ]
     },
     "metadata": {},
     "output_type": "display_data"
    },
    {
     "data": {
      "text/html": [
       "<div>\n",
       "<style scoped>\n",
       "    .dataframe tbody tr th:only-of-type {\n",
       "        vertical-align: middle;\n",
       "    }\n",
       "\n",
       "    .dataframe tbody tr th {\n",
       "        vertical-align: top;\n",
       "    }\n",
       "\n",
       "    .dataframe thead th {\n",
       "        text-align: right;\n",
       "    }\n",
       "</style>\n",
       "<table border=\"1\" class=\"dataframe\">\n",
       "  <thead>\n",
       "    <tr style=\"text-align: right;\">\n",
       "      <th></th>\n",
       "      <th>mean</th>\n",
       "      <th>diff</th>\n",
       "      <th>rate</th>\n",
       "    </tr>\n",
       "    <tr>\n",
       "      <th>paymentmethod</th>\n",
       "      <th></th>\n",
       "      <th></th>\n",
       "      <th></th>\n",
       "    </tr>\n",
       "  </thead>\n",
       "  <tbody>\n",
       "    <tr>\n",
       "      <th>bank_transfer_(automatic)</th>\n",
       "      <td>0.168171</td>\n",
       "      <td>-0.101797</td>\n",
       "      <td>0.622928</td>\n",
       "    </tr>\n",
       "    <tr>\n",
       "      <th>credit_card_(automatic)</th>\n",
       "      <td>0.164339</td>\n",
       "      <td>-0.105630</td>\n",
       "      <td>0.608733</td>\n",
       "    </tr>\n",
       "    <tr>\n",
       "      <th>electronic_check</th>\n",
       "      <td>0.455890</td>\n",
       "      <td>0.185922</td>\n",
       "      <td>1.688682</td>\n",
       "    </tr>\n",
       "    <tr>\n",
       "      <th>mailed_check</th>\n",
       "      <td>0.193870</td>\n",
       "      <td>-0.076098</td>\n",
       "      <td>0.718121</td>\n",
       "    </tr>\n",
       "  </tbody>\n",
       "</table>\n",
       "</div>"
      ],
      "text/plain": [
       "                               mean      diff      rate\n",
       "paymentmethod                                          \n",
       "bank_transfer_(automatic)  0.168171 -0.101797  0.622928\n",
       "credit_card_(automatic)    0.164339 -0.105630  0.608733\n",
       "electronic_check           0.455890  0.185922  1.688682\n",
       "mailed_check               0.193870 -0.076098  0.718121"
      ]
     },
     "metadata": {},
     "output_type": "display_data"
    }
   ],
   "source": [
    "# Vamos fazer isso para todas as variaveis categóricas. \n",
    "# podemos iterar por eles e aplicar o mesmo código para cada um: \n",
    "from IPython.display import display \n",
    " \n",
    "for col in categorical:\n",
    "    df_group = df_train_full.groupby(by=col).churn.agg(['mean'])\n",
    "    df_group['diff'] = df_group['mean'] - global_mean\n",
    "    df_group['rate'] = df_group['mean'] / global_mean\n",
    "    display(df_group)"
   ]
  },
  {
   "cell_type": "markdown",
   "id": "cbd31a81",
   "metadata": {},
   "source": [
    "A partir dos resultados percebemos que: \n",
    "\n",
    "* Quanto ao sexo, não há muita diferença entre mulheres e homens. Ambas as médias são aproximadamente as mesmas, e para ambos os grupos os riscos são próximos de 1.\n",
    "* Idosos tendem a desistir mais do que não idosos: o risco de rotatividade é de 1,53 para idosos e 0,89 para não idosos.\n",
    "* Pessoas com um parceiro mudam menos do que pessoas sem parceiro. Os riscos são 0,75 e 1,22, respectivamente.\n",
    "* As pessoas que usam o serviço telefônico não correm risco de churn: o risco é próximo a 1 e quase não há diferença com a taxa de churn global. As pessoas que não usam o serviço telefônico têm ainda menos probabilidade de churn: o risco é inferior a 1 e a diferença com a taxa de churn global é negativa."
   ]
  },
  {
   "cell_type": "markdown",
   "id": "eb6c3bd1",
   "metadata": {},
   "source": [
    "Algumas das variáveis ​​apresentam diferenças bastante significativas:\n",
    "\n",
    "* Clientes sem suporte técnico tendem a desistir mais do que aqueles que o fazem .\n",
    "* As pessoas com contratos mensais cancelam o contrato com muito mais frequência do que outras, e as pessoas com contratos de dois anos mudam muito raramente.\n",
    "\n",
    "![Texto Alternativo](001.jpg)\n",
    "\n",
    "![Texto Alternativo](002.jpg)\n",
    "\n",
    "Assim, apenas observando as diferenças e os riscos, podemos identificar as características mais discriminativas: as características que ajudam a detectar o churn"
   ]
  },
  {
   "cell_type": "markdown",
   "id": "9d864909",
   "metadata": {},
   "source": [
    "#### Informação mútua\n",
    "\n",
    "A métrica de informação mútua (mutual information) é um conceito fundamental na teoria da informação e é comumente usado em aprendizado de máquina para avaliar a relação entre duas variáveis. A informação mútua mede a quantidade de informação que as duas variáveis compartilham.\n",
    "\n",
    "No nosso caso, saber que o cliente tem um contrato mês a mês pode indicar que esse cliente tem mais probabilidade de churn do que não.\n",
    "\n",
    "Valores mais altos de informação mútua significam maior grau de dependência: se a informação mútua entre uma variável categórica e o alvo for alta, esta variável categórica será bastante útil para prever o alvo. Por outro lado, se a informação mútua for baixa, a variável categórica e o alvo são independentes e, portanto, a variável não será útil para prever o alvo.\n",
    "\n",
    "A informação mútua já está implementada no Scikit-learn na função mutual_info_score do metricspackage , então podemos apenas usá-lo:"
   ]
  },
  {
   "cell_type": "code",
   "execution_count": 27,
   "id": "fb4b4002",
   "metadata": {},
   "outputs": [
    {
     "data": {
      "text/html": [
       "<div>\n",
       "<style scoped>\n",
       "    .dataframe tbody tr th:only-of-type {\n",
       "        vertical-align: middle;\n",
       "    }\n",
       "\n",
       "    .dataframe tbody tr th {\n",
       "        vertical-align: top;\n",
       "    }\n",
       "\n",
       "    .dataframe thead th {\n",
       "        text-align: right;\n",
       "    }\n",
       "</style>\n",
       "<table border=\"1\" class=\"dataframe\">\n",
       "  <thead>\n",
       "    <tr style=\"text-align: right;\">\n",
       "      <th></th>\n",
       "      <th>MI</th>\n",
       "    </tr>\n",
       "  </thead>\n",
       "  <tbody>\n",
       "    <tr>\n",
       "      <th>contract</th>\n",
       "      <td>0.098320</td>\n",
       "    </tr>\n",
       "    <tr>\n",
       "      <th>onlinesecurity</th>\n",
       "      <td>0.063085</td>\n",
       "    </tr>\n",
       "    <tr>\n",
       "      <th>techsupport</th>\n",
       "      <td>0.061032</td>\n",
       "    </tr>\n",
       "    <tr>\n",
       "      <th>internetservice</th>\n",
       "      <td>0.055868</td>\n",
       "    </tr>\n",
       "    <tr>\n",
       "      <th>onlinebackup</th>\n",
       "      <td>0.046923</td>\n",
       "    </tr>\n",
       "    <tr>\n",
       "      <th>deviceprotection</th>\n",
       "      <td>0.043453</td>\n",
       "    </tr>\n",
       "    <tr>\n",
       "      <th>paymentmethod</th>\n",
       "      <td>0.043210</td>\n",
       "    </tr>\n",
       "    <tr>\n",
       "      <th>streamingtv</th>\n",
       "      <td>0.031853</td>\n",
       "    </tr>\n",
       "    <tr>\n",
       "      <th>streamingmovies</th>\n",
       "      <td>0.031581</td>\n",
       "    </tr>\n",
       "    <tr>\n",
       "      <th>paperlessbilling</th>\n",
       "      <td>0.017589</td>\n",
       "    </tr>\n",
       "    <tr>\n",
       "      <th>dependents</th>\n",
       "      <td>0.012346</td>\n",
       "    </tr>\n",
       "    <tr>\n",
       "      <th>partner</th>\n",
       "      <td>0.009968</td>\n",
       "    </tr>\n",
       "    <tr>\n",
       "      <th>seniorcitizen</th>\n",
       "      <td>0.009410</td>\n",
       "    </tr>\n",
       "    <tr>\n",
       "      <th>multiplelines</th>\n",
       "      <td>0.000857</td>\n",
       "    </tr>\n",
       "    <tr>\n",
       "      <th>phoneservice</th>\n",
       "      <td>0.000229</td>\n",
       "    </tr>\n",
       "    <tr>\n",
       "      <th>gender</th>\n",
       "      <td>0.000117</td>\n",
       "    </tr>\n",
       "  </tbody>\n",
       "</table>\n",
       "</div>"
      ],
      "text/plain": [
       "                        MI\n",
       "contract          0.098320\n",
       "onlinesecurity    0.063085\n",
       "techsupport       0.061032\n",
       "internetservice   0.055868\n",
       "onlinebackup      0.046923\n",
       "deviceprotection  0.043453\n",
       "paymentmethod     0.043210\n",
       "streamingtv       0.031853\n",
       "streamingmovies   0.031581\n",
       "paperlessbilling  0.017589\n",
       "dependents        0.012346\n",
       "partner           0.009968\n",
       "seniorcitizen     0.009410\n",
       "multiplelines     0.000857\n",
       "phoneservice      0.000229\n",
       "gender            0.000117"
      ]
     },
     "execution_count": 27,
     "metadata": {},
     "output_type": "execute_result"
    }
   ],
   "source": [
    "from sklearn.metrics import mutual_info_score\n",
    " \n",
    "def calculate_mi(series): #recebe uma serie de dados como argumento\n",
    "    return mutual_info_score(series, df_train_full.churn) # retorna o valor da informalção mútua entre a série de dados ea coluna churn\n",
    " \n",
    "df_mi = df_train_full[categorical].apply(calculate_mi) # aplicamos a função calculate_mi a cada coluna dentro da variavel 'categorical'\n",
    "df_mi = df_mi.sort_values(ascending=False).to_frame(name='MI') # O df é classificado em ordem decrescente com base nos valores da informação mutua. to_frame é usado para converter a serie classificada com uma coluna MI \n",
    "# a coluna MI representa os valores da informação mútua para cada variavel categórica. \n",
    "df_mi"
   ]
  },
  {
   "cell_type": "markdown",
   "id": "19e9d953",
   "metadata": {},
   "source": [
    "Como vemos, `contract`, `onlinesecurity`, e `techsupport`estão entre as características mais importantes "
   ]
  },
  {
   "cell_type": "markdown",
   "id": "99cc2973",
   "metadata": {},
   "source": [
    "#### Coeficiente de correlação\n",
    "\n",
    "A informação mútua é uma forma de quantificar o grau de dependência entre duas variáveis ​​categóricas, mas não funciona quando uma das características é numérica, por isso não podemos aplicá-la às três variáveis ​​numéricas que temos.\n",
    "\n",
    "Podemos, no entanto, medir a dependência entre uma variável de destino binária e uma variável numérica. Podemos fingir que a variável binária é numérica (contendo apenas os números zero e um) e então usar os métodos clássicos da estatística para verificar qualquer dependência entre essas variáveis\n",
    "\n",
    "Coeficiente de correlação (às vezes chamado de coeficiente de correlação de Pearson ). É um valor de –1 a 1:\n",
    "\n",
    "* Correlação positiva significa que quando uma variável sobe, a outra variável tende a subir também. No caso de um destino binário, quando os valores da variável são altos, vemos uns com mais frequência do que zeros. Mas quando os valores da variável são baixos, os zeros se tornam mais frequentes do que os uns.\n",
    "* Correlação zero significa nenhuma relação entre duas variáveis: elas são completamente independentes.\n",
    "* A correlação negativa ocorre quando uma variável sobe e a outra desce. No caso binário, se os valores forem altos, veremos mais zeros do que uns na variável de destino. Quando os valores são baixos, vemos mais uns."
   ]
  },
  {
   "cell_type": "code",
   "execution_count": 28,
   "id": "df9eef05",
   "metadata": {},
   "outputs": [
    {
     "data": {
      "text/plain": [
       "tenure           -0.351885\n",
       "monthlycharges    0.196805\n",
       "totalcharges     -0.196353\n",
       "dtype: float64"
      ]
     },
     "execution_count": 28,
     "metadata": {},
     "output_type": "execute_result"
    }
   ],
   "source": [
    "#calculando o coeficiente de correlação para as variaveis numericas\n",
    "df_train_full[numerical].corrwith(df_train_full.churn)"
   ]
  },
  {
   "cell_type": "markdown",
   "id": "1305349a",
   "metadata": {},
   "source": [
    "#### verificando os resultados \n",
    "\n",
    "* A correlação entre `tenure` e churn é –0,35: tem sinal negativo, então quanto mais tempo os clientes ficam, menos tendem a desistir. Para clientes que permanecem na empresa por dois meses ou menos, o churn rate é de 60%; para clientes com prazo entre 3 e 12 meses, o churn rate é de 40%; e para clientes com permanência superior a um ano, o churn rate é de 17%. Assim, quanto maior o valor da posse, menor a taxa de churn (figura 3.21A) .\n",
    "* `monthlycharges` tem um coeficiente positivo de 0,19, o que significa que os clientes que pagam mais tendem a sair com mais frequência. Apenas 8% daqueles que pagam menos de US 20 mensais desistiram; clientes que pagam entre US 21 e US 50 rotacionam com mais frequência, com uma taxa de rotatividade de 18%; e 32% das pessoas que pagam mais de US 50 desistiram (figura 3.21B).\n",
    "* `totalcharges` tem uma correlação negativa, o que faz sentido: quanto mais tempo as pessoas ficam na empresa, mais elas pagam no total, então é menos provável que elas saiam. Neste caso, esperamos um padrão semelhante ao `tenure`. Para valores pequenos, a taxa de churn é alta; para valores maiores, é menor."
   ]
  },
  {
   "cell_type": "markdown",
   "id": "34df56c4",
   "metadata": {},
   "source": [
    "## Engenharia de Recursos \n",
    "\n",
    "**Codificação one-hot para variáveis categóricas**\n",
    "\n",
    "Precisamos converter nossos dados categóricos em uma forma de matriz ou codificar. "
   ]
  },
  {
   "cell_type": "code",
   "execution_count": 29,
   "id": "472c2dcb",
   "metadata": {},
   "outputs": [],
   "source": [
    "# convertendo nosso df em uma lista de dicionários\n",
    "train_dict = df_train[categorical + numerical].to_dict(orient='records')"
   ]
  },
  {
   "cell_type": "markdown",
   "id": "5d4ad30e",
   "metadata": {},
   "source": [
    "Cada coluna do dataframe é a chave neste dicionário, com valores provenientes dos valores reais da linha do dataframe.\n",
    "\n",
    "Agora podemos usar DictVectorizer. Nós o criamos e depois o encaixamos na lista de dicionários que criamos anteriormente:"
   ]
  },
  {
   "cell_type": "code",
   "execution_count": 30,
   "id": "92d08a05",
   "metadata": {},
   "outputs": [
    {
     "data": {
      "text/plain": [
       "DictVectorizer(sparse=False)"
      ]
     },
     "execution_count": 30,
     "metadata": {},
     "output_type": "execute_result"
    }
   ],
   "source": [
    "from sklearn.feature_extraction import DictVectorizer\n",
    " \n",
    "dv = DictVectorizer(sparse=False) #sparse=False significa que a matriz não será esparsa, em vez disso, será uma matriz numpy simples\n",
    "dv.fit(train_dict)"
   ]
  },
  {
   "cell_type": "markdown",
   "id": "87df5119",
   "metadata": {},
   "source": [
    "Neste código criamos um DictVectorizerexemplo, que chamamos dv, e \"treiná-lo\" invocando o fitmétodo . O fitO método analisa o conteúdo desses dicionários e descobre os valores possíveis para cada variável e como mapeá-los para as colunas na matriz de saída. Se um recurso for categórico, ele aplicará o esquema de codificação one-hot, mas se for numérico, ele permanecerá intacto."
   ]
  },
  {
   "cell_type": "markdown",
   "id": "ba5928ce",
   "metadata": {},
   "source": [
    "Depois de ajustar o vetorizador, podemos usá-lo para converter os dicionários em uma matriz usando o transformmétodo :"
   ]
  },
  {
   "cell_type": "code",
   "execution_count": 31,
   "id": "5c6d340c",
   "metadata": {},
   "outputs": [],
   "source": [
    "X_train = dv.transform(train_dict) # Depois de ajustar o vetorizador, podemos usá-lo para converter os dicionários em uma matriz usando o transformmétodo :"
   ]
  },
  {
   "cell_type": "code",
   "execution_count": 32,
   "id": "98519d41",
   "metadata": {},
   "outputs": [
    {
     "data": {
      "text/plain": [
       "array([0.0000e+00, 0.0000e+00, 1.0000e+00, 1.0000e+00, 0.0000e+00,\n",
       "       0.0000e+00, 0.0000e+00, 1.0000e+00, 0.0000e+00, 1.0000e+00,\n",
       "       1.0000e+00, 0.0000e+00, 0.0000e+00, 8.6100e+01, 1.0000e+00,\n",
       "       0.0000e+00, 0.0000e+00, 0.0000e+00, 0.0000e+00, 1.0000e+00,\n",
       "       0.0000e+00, 0.0000e+00, 1.0000e+00, 0.0000e+00, 1.0000e+00,\n",
       "       0.0000e+00, 1.0000e+00, 1.0000e+00, 0.0000e+00, 0.0000e+00,\n",
       "       0.0000e+00, 0.0000e+00, 1.0000e+00, 0.0000e+00, 0.0000e+00,\n",
       "       0.0000e+00, 1.0000e+00, 0.0000e+00, 0.0000e+00, 1.0000e+00,\n",
       "       0.0000e+00, 0.0000e+00, 1.0000e+00, 7.1000e+01, 6.0459e+03])"
      ]
     },
     "execution_count": 32,
     "metadata": {},
     "output_type": "execute_result"
    }
   ],
   "source": [
    "# vamos dar uma olhada na primeira linha\n",
    "X_train[0]"
   ]
  },
  {
   "cell_type": "markdown",
   "id": "399fa7dc",
   "metadata": {},
   "source": [
    "Podemos aprender os nomes de todas as colunas: "
   ]
  },
  {
   "cell_type": "code",
   "execution_count": 34,
   "id": "1cc0a659",
   "metadata": {},
   "outputs": [
    {
     "data": {
      "text/plain": [
       "['contract=month-to-month',\n",
       " 'contract=one_year',\n",
       " 'contract=two_year',\n",
       " 'dependents=no',\n",
       " 'dependents=yes',\n",
       " 'deviceprotection=no',\n",
       " 'deviceprotection=no_internet_service',\n",
       " 'deviceprotection=yes',\n",
       " 'gender=female',\n",
       " 'gender=male',\n",
       " 'internetservice=dsl',\n",
       " 'internetservice=fiber_optic',\n",
       " 'internetservice=no',\n",
       " 'monthlycharges',\n",
       " 'multiplelines=no',\n",
       " 'multiplelines=no_phone_service',\n",
       " 'multiplelines=yes',\n",
       " 'onlinebackup=no',\n",
       " 'onlinebackup=no_internet_service',\n",
       " 'onlinebackup=yes',\n",
       " 'onlinesecurity=no',\n",
       " 'onlinesecurity=no_internet_service',\n",
       " 'onlinesecurity=yes',\n",
       " 'paperlessbilling=no',\n",
       " 'paperlessbilling=yes',\n",
       " 'partner=no',\n",
       " 'partner=yes',\n",
       " 'paymentmethod=bank_transfer_(automatic)',\n",
       " 'paymentmethod=credit_card_(automatic)',\n",
       " 'paymentmethod=electronic_check',\n",
       " 'paymentmethod=mailed_check',\n",
       " 'phoneservice=no',\n",
       " 'phoneservice=yes',\n",
       " 'seniorcitizen',\n",
       " 'streamingmovies=no',\n",
       " 'streamingmovies=no_internet_service',\n",
       " 'streamingmovies=yes',\n",
       " 'streamingtv=no',\n",
       " 'streamingtv=no_internet_service',\n",
       " 'streamingtv=yes',\n",
       " 'techsupport=no',\n",
       " 'techsupport=no_internet_service',\n",
       " 'techsupport=yes',\n",
       " 'tenure',\n",
       " 'totalcharges']"
      ]
     },
     "execution_count": 34,
     "metadata": {},
     "output_type": "execute_result"
    }
   ],
   "source": [
    "dv.get_feature_names()"
   ]
  },
  {
   "cell_type": "markdown",
   "id": "3c60a5b2",
   "metadata": {},
   "source": [
    "Como vemos, para cada recurso categórico, ele cria várias colunas para cada um de seus valores distintos. Para `contract`, Nós temos `contract=month-to-month`, `contract=one_year`, e `contract=two_year`, e para `dependents`, Nós temos `dependents=no` e `dependents=yes`. Recursos como `tenure` e `totalcharges` mantem os nomes originais porque são numéricos; portanto, `DictVectorizer` não os muda ."
   ]
  },
  {
   "cell_type": "markdown",
   "id": "dd42df90",
   "metadata": {},
   "source": [
    "## Treinamento \n",
    "\n",
    "**Regressão Logística** \n",
    "\n",
    "\n",
    "A regressão logística é um modelo estatístico amplamente utilizado para prever a probabilidade de ocorrência de um evento binário, como sucesso ou fracasso, sim ou não, verdadeiro ou falso. É uma técnica de aprendizado supervisionado que se baseia na análise da relação entre variáveis independentes e uma variável dependente categórica.\n"
   ]
  },
  {
   "cell_type": "markdown",
   "id": "de040dd2",
   "metadata": {},
   "source": [
    "**Função Sigmoide** \n",
    "\n",
    "Precisamos da função sigmoide na regressão logística porque ela mapeia a saída do modelo para um intervalo de valores entre 0 e 1, representando uma probabilidade. Isso permite interpretar a saída do modelo como a probabilidade de um evento binário ocorrer. Além disso, a função sigmoide possui uma forma curva que é adequada para modelar relações não lineares entre as variáveis independentes e a variável dependente.\n",
    "\n",
    "Resumidamente a Regressão Logística nada mais é do que uma Regressão Linear com a função sigmoide para garantir que as previsões do modelo sempre fique entre 0 e 1. "
   ]
  },
  {
   "cell_type": "code",
   "execution_count": 35,
   "id": "eb9abe31",
   "metadata": {},
   "outputs": [],
   "source": [
    "# função sigmoide\n",
    "import math \n",
    "\n",
    "def sigmoid(score): \n",
    "    return 1 / (1 + math.exp(-score))"
   ]
  },
  {
   "cell_type": "code",
   "execution_count": 36,
   "id": "46cb9cdf",
   "metadata": {},
   "outputs": [],
   "source": [
    "# regressão logistica para python \n",
    "def logistic_regression(xi):\n",
    "    score = bias\n",
    "    for j in range(n):\n",
    "        score = score + xi[j] * w[j]\n",
    "    prob = sigmoid(score)\n",
    "    return prob"
   ]
  },
  {
   "cell_type": "markdown",
   "id": "860bea18",
   "metadata": {},
   "source": [
    "Os parâmetros do modelo de regressão logística são os mesmos da regressão linear:\n",
    "\n",
    "w0 = é o termo de viés (bias). \n",
    "w = ( w1, w2, ..., wn ) = é o vetor de pesos. "
   ]
  },
  {
   "cell_type": "code",
   "execution_count": 37,
   "id": "75251589",
   "metadata": {},
   "outputs": [],
   "source": [
    "# importando o modelo \n",
    "from sklearn.linear_model import LogisticRegression \n",
    "\n",
    "# https://scikit-learn.org/stable/modules/generated/sklearn.linear_model.LogisticRegression.html"
   ]
  },
  {
   "cell_type": "code",
   "execution_count": 39,
   "id": "dd95d226",
   "metadata": {},
   "outputs": [
    {
     "data": {
      "text/plain": [
       "LogisticRegression(random_state=1, solver='liblinear')"
      ]
     },
     "execution_count": 39,
     "metadata": {},
     "output_type": "execute_result"
    }
   ],
   "source": [
    "# Treinamos o modelo chamando o método fit\n",
    "model = LogisticRegression(solver='liblinear', random_state=1) #solver default atualmente é lbfgs, O liblinear é uma boa escolha para datasets pequenos.\n",
    "model.fit(X_train, y_train)"
   ]
  },
  {
   "cell_type": "markdown",
   "id": "35bb9b93",
   "metadata": {},
   "source": [
    "Parâmetros do modelo: \n",
    "\n",
    "`solver` - Refere-se ao algoritmo usado para otimizar a função de perda na regressão logística. Ele determina como o modelo encontra os melhores coeficientes para ajustar os dados.\n",
    "\n",
    "`random_state` - Ele define a semente para a geração dos números aleatórios usados no treinamento do modelo."
   ]
  },
  {
   "cell_type": "markdown",
   "id": "98a512da",
   "metadata": {},
   "source": [
    "### Aplicando aos dados de validação \n",
    "\n",
    "Precisamos aplicar primeiramente a Codificação one-hot a todas as variáveis categórias no conjunto de dados de validação. "
   ]
  },
  {
   "cell_type": "code",
   "execution_count": 41,
   "id": "b086127b",
   "metadata": {},
   "outputs": [],
   "source": [
    "# Primeiro, converter o dataframe em uma lista de dicionarios\n",
    "val_dict = df_val[categorical + numerical].to_dict(orient='records')\n",
    "\n",
    "# Em seguida alimentamos o DictVectorizer \n",
    "X_val = dv.transform(val_dict)\n",
    "\n",
    "# X_val agora é uma matriz com recursos do conjunto de dados de validação"
   ]
  },
  {
   "cell_type": "markdown",
   "id": "6ff94501",
   "metadata": {},
   "source": [
    "Para obter as probabilidades, usamos o método `predict_ proba` do modelo:"
   ]
  },
  {
   "cell_type": "code",
   "execution_count": 43,
   "id": "a5e82cff",
   "metadata": {},
   "outputs": [],
   "source": [
    "y_pred = model.predict_proba(X_val)\n"
   ]
  },
  {
   "cell_type": "markdown",
   "id": "7c0b98ef",
   "metadata": {},
   "source": [
    "O resultado de `predict_proba` é uma matriz NumPy bidimensional ou uma matriz de duas colunas. A primeira coluna da matriz contém a probabilidade de que o alvo seja negativo (o cliente não vai desistir) e a segunda coluna contém a probabilidade de que o alvo seja positivo (o alvo é um e o cliente irá desistir)"
   ]
  },
  {
   "cell_type": "code",
   "execution_count": 45,
   "id": "32cd5af7",
   "metadata": {},
   "outputs": [],
   "source": [
    "# Não precisamos das duas colunas, precisamos apenas da segunda \n",
    "y_pred = model.predict_proba(X_val)[:, 1]"
   ]
  },
  {
   "cell_type": "markdown",
   "id": "8c268751",
   "metadata": {},
   "source": [
    "Como resultado, obtemos uma matriz NumPy unidimensional que contém apenas os valores da segunda coluna.\n",
    "\n",
    "Lembre-se de como queríamos usar esse modelo: queríamos fidelizar os clientes, identificando aqueles que estão prestes a rescindir o contrato com a empresa e enviando mensagens promocionais, oferecendo descontos e outros benefícios. Fazemos isso na esperança de que, após receberem o benefício, permaneçam na empresa. Por outro lado, não queremos dar promoções a todos os nossos clientes, porque isso nos prejudicará financeiramente: teremos menos lucro, se houver.\n",
    "\n",
    "Para tomar a decisão real de enviar uma carta promocional aos nossos clientes, usar apenas a probabilidade não é suficiente. Precisamos de concretas previsões - valores binários de True(churn, então envie o e-mail) ou False(não churn, então não envie o e-mail).\n",
    "\n",
    "Para obter as previsões binárias, pegamos as probabilidades e as cortamos acima de um certo limite. Se a probabilidade de um cliente for maior que esse limite, prevemos o churn, caso contrário, não a churn. Se selecionarmos 0,5 como esse limite, é fácil fazer as previsões binárias. Nós apenas usamos o “ >=” operador:"
   ]
  },
  {
   "cell_type": "code",
   "execution_count": 46,
   "id": "3925db50",
   "metadata": {},
   "outputs": [
    {
     "data": {
      "text/plain": [
       "array([False, False, False, ..., False,  True, False])"
      ]
     },
     "execution_count": 46,
     "metadata": {},
     "output_type": "execute_result"
    }
   ],
   "source": [
    "y_pred >= 0.5"
   ]
  },
  {
   "cell_type": "code",
   "execution_count": 47,
   "id": "279ce65d",
   "metadata": {},
   "outputs": [],
   "source": [
    "# anexando os resultados em uma variavel churn \n",
    "churn = y_pred >= 0.5"
   ]
  },
  {
   "cell_type": "markdown",
   "id": "3c2a8982",
   "metadata": {},
   "source": [
    "### Avaliação Simples \n",
    "\n",
    "Calculando a precisão: vamos pegar cada previsão e compará-la com o valor real. "
   ]
  },
  {
   "cell_type": "code",
   "execution_count": 49,
   "id": "b0225db8",
   "metadata": {},
   "outputs": [
    {
     "data": {
      "text/plain": [
       "0.8016129032258065"
      ]
     },
     "execution_count": 49,
     "metadata": {},
     "output_type": "execute_result"
    }
   ],
   "source": [
    "(y_val == churn).mean()"
   ]
  },
  {
   "cell_type": "markdown",
   "id": "96587646",
   "metadata": {},
   "source": [
    "Isso significa que nosso modelo faz as previsões corretas em 80% dos casos. "
   ]
  },
  {
   "cell_type": "markdown",
   "id": "5dc4a123",
   "metadata": {},
   "source": [
    "### Interpretação do modelo"
   ]
  },
  {
   "cell_type": "code",
   "execution_count": 50,
   "id": "8bd9390d",
   "metadata": {},
   "outputs": [
    {
     "data": {
      "text/plain": [
       "-0.12198856763403255"
      ]
     },
     "execution_count": 50,
     "metadata": {},
     "output_type": "execute_result"
    }
   ],
   "source": [
    "# obtendo o termo de viés \n",
    "model.intercept_[0]"
   ]
  },
  {
   "cell_type": "code",
   "execution_count": 51,
   "id": "1e99b4d5",
   "metadata": {},
   "outputs": [
    {
     "data": {
      "text/plain": [
       "array([ 5.63350752e-01, -8.59117734e-02, -5.99427547e-01, -3.02788796e-02,\n",
       "       -9.17096881e-02,  9.99295858e-02, -1.15869847e-01, -1.06048306e-01,\n",
       "       -2.73675348e-02, -9.46210328e-02, -3.23344998e-01,  3.17226277e-01,\n",
       "       -1.15869847e-01,  7.84241261e-04, -1.68098703e-01,  1.27132848e-01,\n",
       "       -8.10227123e-02,  1.35702916e-01, -1.15869847e-01, -1.41821636e-01,\n",
       "        2.57855957e-01, -1.15869847e-01, -2.63974677e-01, -2.12616055e-01,\n",
       "        9.06274878e-02, -4.80222880e-02, -7.39662796e-02, -2.66755924e-02,\n",
       "       -1.36243628e-01,  1.74743460e-01, -1.33812807e-01,  1.27132848e-01,\n",
       "       -2.49121416e-01,  2.97088104e-01, -8.48581097e-02, -1.15869847e-01,\n",
       "        7.87393891e-02, -9.90741031e-02, -1.15869847e-01,  9.29553825e-02,\n",
       "        1.78137876e-01, -1.15869847e-01, -1.84256597e-01, -6.94867149e-02,\n",
       "        4.47687718e-04])"
      ]
     },
     "execution_count": 51,
     "metadata": {},
     "output_type": "execute_result"
    }
   ],
   "source": [
    "# obtendo o resto dos pesos \n",
    "model.coef_[0]"
   ]
  },
  {
   "cell_type": "markdown",
   "id": "d40785ee",
   "metadata": {},
   "source": [
    "Para ver qual recurso está associado a cada peso, vamos usar o método`get_feature_names`"
   ]
  },
  {
   "cell_type": "code",
   "execution_count": 52,
   "id": "f1d91af4",
   "metadata": {},
   "outputs": [
    {
     "name": "stderr",
     "output_type": "stream",
     "text": [
      "C:\\Users\\55119\\anaconda3\\lib\\site-packages\\sklearn\\utils\\deprecation.py:87: FutureWarning: Function get_feature_names is deprecated; get_feature_names is deprecated in 1.0 and will be removed in 1.2. Please use get_feature_names_out instead.\n",
      "  warnings.warn(msg, category=FutureWarning)\n"
     ]
    },
    {
     "data": {
      "text/plain": [
       "{'contract=month-to-month': 0.563,\n",
       " 'contract=one_year': -0.086,\n",
       " 'contract=two_year': -0.599,\n",
       " 'dependents=no': -0.03,\n",
       " 'dependents=yes': -0.092,\n",
       " 'deviceprotection=no': 0.1,\n",
       " 'deviceprotection=no_internet_service': -0.116,\n",
       " 'deviceprotection=yes': -0.106,\n",
       " 'gender=female': -0.027,\n",
       " 'gender=male': -0.095,\n",
       " 'internetservice=dsl': -0.323,\n",
       " 'internetservice=fiber_optic': 0.317,\n",
       " 'internetservice=no': -0.116,\n",
       " 'monthlycharges': 0.001,\n",
       " 'multiplelines=no': -0.168,\n",
       " 'multiplelines=no_phone_service': 0.127,\n",
       " 'multiplelines=yes': -0.081,\n",
       " 'onlinebackup=no': 0.136,\n",
       " 'onlinebackup=no_internet_service': -0.116,\n",
       " 'onlinebackup=yes': -0.142,\n",
       " 'onlinesecurity=no': 0.258,\n",
       " 'onlinesecurity=no_internet_service': -0.116,\n",
       " 'onlinesecurity=yes': -0.264,\n",
       " 'paperlessbilling=no': -0.213,\n",
       " 'paperlessbilling=yes': 0.091,\n",
       " 'partner=no': -0.048,\n",
       " 'partner=yes': -0.074,\n",
       " 'paymentmethod=bank_transfer_(automatic)': -0.027,\n",
       " 'paymentmethod=credit_card_(automatic)': -0.136,\n",
       " 'paymentmethod=electronic_check': 0.175,\n",
       " 'paymentmethod=mailed_check': -0.134,\n",
       " 'phoneservice=no': 0.127,\n",
       " 'phoneservice=yes': -0.249,\n",
       " 'seniorcitizen': 0.297,\n",
       " 'streamingmovies=no': -0.085,\n",
       " 'streamingmovies=no_internet_service': -0.116,\n",
       " 'streamingmovies=yes': 0.079,\n",
       " 'streamingtv=no': -0.099,\n",
       " 'streamingtv=no_internet_service': -0.116,\n",
       " 'streamingtv=yes': 0.093,\n",
       " 'techsupport=no': 0.178,\n",
       " 'techsupport=no_internet_service': -0.116,\n",
       " 'techsupport=yes': -0.184,\n",
       " 'tenure': -0.069,\n",
       " 'totalcharges': 0.0}"
      ]
     },
     "execution_count": 52,
     "metadata": {},
     "output_type": "execute_result"
    }
   ],
   "source": [
    "dict(zip(dv.get_feature_names(), model.coef_[0].round(3)))"
   ]
  },
  {
   "cell_type": "markdown",
   "id": "170a127f",
   "metadata": {},
   "source": [
    "###  Usando o modelo\n",
    "\n",
    "Primeiro, pegamos um cliente que queremos pontuar e colocamos todos os valores das variáveis ​​em um dicionário:\n",
    "\n"
   ]
  },
  {
   "cell_type": "code",
   "execution_count": 53,
   "id": "7661c203",
   "metadata": {},
   "outputs": [],
   "source": [
    "customer = {\n",
    "    'customerid': '8879-zkjof',\n",
    "    'gender': 'female',\n",
    "    'seniorcitizen': 0,\n",
    "    'partner': 'no',\n",
    "    'dependents': 'no',\n",
    "    'tenure': 41,\n",
    "    'phoneservice': 'yes',\n",
    "    'multiplelines': 'no',\n",
    "    'internetservice': 'dsl',\n",
    "    'onlinesecurity': 'yes',\n",
    "    'onlinebackup': 'no',\n",
    "    'deviceprotection': 'yes',\n",
    "    'techsupport': 'yes',\n",
    "    'streamingtv': 'yes',\n",
    "    'streamingmovies': 'yes',\n",
    "    'contract': 'one_year',\n",
    "    'paperlessbilling': 'yes',\n",
    "    'paymentmethod': 'bank_transfer_(automatic)',\n",
    "    'monthlycharges': 79.85,\n",
    "    'totalcharges': 3320.75,\n",
    "}"
   ]
  },
  {
   "cell_type": "markdown",
   "id": "2a3f58ca",
   "metadata": {},
   "source": [
    "**OBSERVAÇÃO** \n",
    "\n",
    "Quando preparamos itens para previsão, eles devem passar pelas mesmas etapas de pré-processamento que fizemos para treinar o modelo. Se não fizermos exatamente da mesma maneira, o modelo pode não obter as coisas que espera ver e, neste caso, as previsões podem realmente falhar. É por isso que no exemplo anterior, no customerdicionário, os nomes dos campos e os valores das strings ficam em minúsculas e os espaços são substituídos por sublinhados."
   ]
  },
  {
   "cell_type": "markdown",
   "id": "2e0d47d1",
   "metadata": {},
   "source": [
    "Vamos usar nosso modelo agora para ver se esse cliente vai ou não desistir. "
   ]
  },
  {
   "cell_type": "code",
   "execution_count": 54,
   "id": "6345be66",
   "metadata": {},
   "outputs": [],
   "source": [
    "#convertendo o dicionário em uma matriz \n",
    "X_test = dv.transform([customer])"
   ]
  },
  {
   "cell_type": "code",
   "execution_count": 55,
   "id": "4f4ca158",
   "metadata": {},
   "outputs": [
    {
     "data": {
      "text/plain": [
       "array([[0.00000e+00, 1.00000e+00, 0.00000e+00, 1.00000e+00, 0.00000e+00,\n",
       "        0.00000e+00, 0.00000e+00, 1.00000e+00, 1.00000e+00, 0.00000e+00,\n",
       "        1.00000e+00, 0.00000e+00, 0.00000e+00, 7.98500e+01, 1.00000e+00,\n",
       "        0.00000e+00, 0.00000e+00, 1.00000e+00, 0.00000e+00, 0.00000e+00,\n",
       "        0.00000e+00, 0.00000e+00, 1.00000e+00, 0.00000e+00, 1.00000e+00,\n",
       "        1.00000e+00, 0.00000e+00, 1.00000e+00, 0.00000e+00, 0.00000e+00,\n",
       "        0.00000e+00, 0.00000e+00, 1.00000e+00, 0.00000e+00, 0.00000e+00,\n",
       "        0.00000e+00, 1.00000e+00, 0.00000e+00, 0.00000e+00, 1.00000e+00,\n",
       "        0.00000e+00, 0.00000e+00, 1.00000e+00, 4.10000e+01, 3.32075e+03]])"
      ]
     },
     "execution_count": 55,
     "metadata": {},
     "output_type": "execute_result"
    }
   ],
   "source": [
    "X_test"
   ]
  },
  {
   "cell_type": "markdown",
   "id": "429876de",
   "metadata": {},
   "source": [
    "Vemos vários recursos de codificação únicos (uns e zeros), bem como alguns numéricos ( monthlycharges, tenure, e totalcharges).\n",
    "\n",
    "Agora pegamos esta matriz e a colocamos no modelo treinado: "
   ]
  },
  {
   "cell_type": "code",
   "execution_count": 57,
   "id": "3bb4ec86",
   "metadata": {},
   "outputs": [
    {
     "data": {
      "text/plain": [
       "array([[0.92667755, 0.07332245]])"
      ]
     },
     "execution_count": 57,
     "metadata": {},
     "output_type": "execute_result"
    }
   ],
   "source": [
    "model.predict_proba(X_test)"
   ]
  },
  {
   "cell_type": "markdown",
   "id": "1958659a",
   "metadata": {},
   "source": [
    "Ele returna uma matriz com as previsões. \n",
    "Para cada cliente ele gera dois numeros, que são a probabilidade de permanecer na empresa e a probabilidade churn(não permanecer) "
   ]
  },
  {
   "cell_type": "code",
   "execution_count": 58,
   "id": "e876b136",
   "metadata": {},
   "outputs": [
    {
     "data": {
      "text/plain": [
       "0.0733224506719823"
      ]
     },
     "execution_count": 58,
     "metadata": {},
     "output_type": "execute_result"
    }
   ],
   "source": [
    "# filtrando apenas para pegar o valor da primeira linha e da segunda coluna\n",
    "model.predict_proba(X_test)[0, 1]"
   ]
  },
  {
   "cell_type": "markdown",
   "id": "372ab85c",
   "metadata": {},
   "source": [
    "O resultado é a a probabilidade de churn desse cliente\n",
    "\n",
    "0,073 - A probabilidade desse cliente desistir é de 7% "
   ]
  },
  {
   "cell_type": "markdown",
   "id": "00748e42",
   "metadata": {},
   "source": [
    "**Testando com outro cliente**"
   ]
  },
  {
   "cell_type": "code",
   "execution_count": 59,
   "id": "2c8ffb3e",
   "metadata": {},
   "outputs": [],
   "source": [
    "customer = {\n",
    "    'gender': 'female',\n",
    "    'seniorcitizen': 1,\n",
    "    'partner': 'no',\n",
    "    'dependents': 'no',\n",
    "    'phoneservice': 'yes',\n",
    "    'multiplelines': 'yes',\n",
    "    'internetservice': 'fiber_optic',\n",
    "    'onlinesecurity': 'no',\n",
    "    'onlinebackup': 'no',\n",
    "    'deviceprotection': 'no',\n",
    "    'techsupport': 'no',\n",
    "    'streamingtv': 'yes',\n",
    "    'streamingmovies': 'no',\n",
    "    'contract': 'month-to-month',\n",
    "    'paperlessbilling': 'yes',\n",
    "    'paymentmethod': 'electronic_check',\n",
    "    'tenure': 1,\n",
    "    'monthlycharges': 85.7,\n",
    "    'totalcharges': 85.7\n",
    "}"
   ]
  },
  {
   "cell_type": "code",
   "execution_count": 60,
   "id": "130cb12c",
   "metadata": {},
   "outputs": [
    {
     "data": {
      "text/plain": [
       "0.8321647912113965"
      ]
     },
     "execution_count": 60,
     "metadata": {},
     "output_type": "execute_result"
    }
   ],
   "source": [
    "# fazendo a previsão \n",
    "X_test = dv.transform([customer])\n",
    "model.predict_proba(X_test)[0, 1]"
   ]
  },
  {
   "cell_type": "markdown",
   "id": "3f75e2b0",
   "metadata": {},
   "source": [
    "A saída do modelo é de 83% de probabilidade de churn, portanto, devemos enviar a esse cliente um e-mail promocional na esperança de retê-lo ."
   ]
  },
  {
   "cell_type": "code",
   "execution_count": null,
   "id": "d873386a",
   "metadata": {},
   "outputs": [],
   "source": []
  }
 ],
 "metadata": {
  "kernelspec": {
   "display_name": "Python 3 (ipykernel)",
   "language": "python",
   "name": "python3"
  },
  "language_info": {
   "codemirror_mode": {
    "name": "ipython",
    "version": 3
   },
   "file_extension": ".py",
   "mimetype": "text/x-python",
   "name": "python",
   "nbconvert_exporter": "python",
   "pygments_lexer": "ipython3",
   "version": "3.9.12"
  }
 },
 "nbformat": 4,
 "nbformat_minor": 5
}
