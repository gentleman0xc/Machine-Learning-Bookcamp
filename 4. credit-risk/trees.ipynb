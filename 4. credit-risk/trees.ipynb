{
 "cells": [
  {
   "cell_type": "markdown",
   "id": "f343b6f4",
   "metadata": {},
   "source": [
    "# Decision trees & ensemble learning\n",
    "\n",
    "\n",
    "##  Pontuação de risco de crédito\n",
    "\n",
    "Imagine que trabalhamos em um banco. Quando recebemos um pedido de empréstimo, precisamos ter certeza de que, se dermos o dinheiro, o cliente poderá pagá-lo de volta. Todo aplicativo traz um risco de inadimplência - a não devolução do dinheiro.\n",
    "\n",
    "Gostaríamos de minimizar esse risco: antes de concordar em conceder um empréstimo, queremos pontuar o cliente e avaliar as chances de inadimplência. Se for muito alto, rejeitamos o pedido. Esse processo é chamado de “pontuação de risco de crédito”.\n",
    "\n",
    "Usaremos aprendizado de máquina para calcular o risco de inadimplência. \n",
    "\n",
    "**O plano do projeto é o seguinte :**\n",
    "\n",
    "* Primeiro, obtemos os dados e fazemos algum pré-processamento inicial.\n",
    "* Em seguida, treinamos um modelo de árvore de decisão do Scikit-learn para prever a probabilidade de inadimplência.\n",
    "* Em seguida, explicamos como funcionam as árvores de decisão e quais parâmetros o modelo possui e mostramos como ajustar esses parâmetros para obter o melhor desempenho.\n",
    "* Em seguida, combinamos várias árvores de decisão em um modelo – uma floresta aleatória. Observamos seus parâmetros e os ajustamos para obter o melhor desempenho preditivo.\n",
    "* Por fim, exploramos uma maneira diferente de combinar árvores de decisão - aumento de gradiente. Usamos o XGBoost, uma biblioteca altamente eficiente que implementa o aumento de gradiente. Vamos treinar um modelo e ajustar seus parâmetros .\n",
    "\n",
    "A pontuação de risco de crédito é um problema de classificação binária: a meta é positiva (“1”) se o cliente inadimplir e negativa (“0”) caso contrário"
   ]
  },
  {
   "cell_type": "code",
   "execution_count": 1,
   "id": "f77b5d33",
   "metadata": {},
   "outputs": [],
   "source": [
    "#imports de lei \n",
    "import pandas as pd \n",
    "import numpy as np \n",
    "\n",
    "import seaborn as sns \n",
    "from matplotlib import pyplot as plt \n",
    "%matplotlib inline "
   ]
  },
  {
   "cell_type": "code",
   "execution_count": 2,
   "id": "854234e6",
   "metadata": {},
   "outputs": [],
   "source": [
    "# ler os dados\n",
    "df = pd.read_csv('CreditScoring.csv')"
   ]
  },
  {
   "cell_type": "code",
   "execution_count": 3,
   "id": "4e635bb6",
   "metadata": {},
   "outputs": [
    {
     "data": {
      "text/html": [
       "<div>\n",
       "<style scoped>\n",
       "    .dataframe tbody tr th:only-of-type {\n",
       "        vertical-align: middle;\n",
       "    }\n",
       "\n",
       "    .dataframe tbody tr th {\n",
       "        vertical-align: top;\n",
       "    }\n",
       "\n",
       "    .dataframe thead th {\n",
       "        text-align: right;\n",
       "    }\n",
       "</style>\n",
       "<table border=\"1\" class=\"dataframe\">\n",
       "  <thead>\n",
       "    <tr style=\"text-align: right;\">\n",
       "      <th></th>\n",
       "      <th>Status</th>\n",
       "      <th>Seniority</th>\n",
       "      <th>Home</th>\n",
       "      <th>Time</th>\n",
       "      <th>Age</th>\n",
       "      <th>Marital</th>\n",
       "      <th>Records</th>\n",
       "      <th>Job</th>\n",
       "      <th>Expenses</th>\n",
       "      <th>Income</th>\n",
       "      <th>Assets</th>\n",
       "      <th>Debt</th>\n",
       "      <th>Amount</th>\n",
       "      <th>Price</th>\n",
       "    </tr>\n",
       "  </thead>\n",
       "  <tbody>\n",
       "    <tr>\n",
       "      <th>0</th>\n",
       "      <td>1</td>\n",
       "      <td>9</td>\n",
       "      <td>1</td>\n",
       "      <td>60</td>\n",
       "      <td>30</td>\n",
       "      <td>2</td>\n",
       "      <td>1</td>\n",
       "      <td>3</td>\n",
       "      <td>73</td>\n",
       "      <td>129</td>\n",
       "      <td>0</td>\n",
       "      <td>0</td>\n",
       "      <td>800</td>\n",
       "      <td>846</td>\n",
       "    </tr>\n",
       "    <tr>\n",
       "      <th>1</th>\n",
       "      <td>1</td>\n",
       "      <td>17</td>\n",
       "      <td>1</td>\n",
       "      <td>60</td>\n",
       "      <td>58</td>\n",
       "      <td>3</td>\n",
       "      <td>1</td>\n",
       "      <td>1</td>\n",
       "      <td>48</td>\n",
       "      <td>131</td>\n",
       "      <td>0</td>\n",
       "      <td>0</td>\n",
       "      <td>1000</td>\n",
       "      <td>1658</td>\n",
       "    </tr>\n",
       "    <tr>\n",
       "      <th>2</th>\n",
       "      <td>2</td>\n",
       "      <td>10</td>\n",
       "      <td>2</td>\n",
       "      <td>36</td>\n",
       "      <td>46</td>\n",
       "      <td>2</td>\n",
       "      <td>2</td>\n",
       "      <td>3</td>\n",
       "      <td>90</td>\n",
       "      <td>200</td>\n",
       "      <td>3000</td>\n",
       "      <td>0</td>\n",
       "      <td>2000</td>\n",
       "      <td>2985</td>\n",
       "    </tr>\n",
       "    <tr>\n",
       "      <th>3</th>\n",
       "      <td>1</td>\n",
       "      <td>0</td>\n",
       "      <td>1</td>\n",
       "      <td>60</td>\n",
       "      <td>24</td>\n",
       "      <td>1</td>\n",
       "      <td>1</td>\n",
       "      <td>1</td>\n",
       "      <td>63</td>\n",
       "      <td>182</td>\n",
       "      <td>2500</td>\n",
       "      <td>0</td>\n",
       "      <td>900</td>\n",
       "      <td>1325</td>\n",
       "    </tr>\n",
       "    <tr>\n",
       "      <th>4</th>\n",
       "      <td>1</td>\n",
       "      <td>0</td>\n",
       "      <td>1</td>\n",
       "      <td>36</td>\n",
       "      <td>26</td>\n",
       "      <td>1</td>\n",
       "      <td>1</td>\n",
       "      <td>1</td>\n",
       "      <td>46</td>\n",
       "      <td>107</td>\n",
       "      <td>0</td>\n",
       "      <td>0</td>\n",
       "      <td>310</td>\n",
       "      <td>910</td>\n",
       "    </tr>\n",
       "  </tbody>\n",
       "</table>\n",
       "</div>"
      ],
      "text/plain": [
       "   Status  Seniority  Home  Time  Age  Marital  Records  Job  Expenses  \\\n",
       "0       1          9     1    60   30        2        1    3        73   \n",
       "1       1         17     1    60   58        3        1    1        48   \n",
       "2       2         10     2    36   46        2        2    3        90   \n",
       "3       1          0     1    60   24        1        1    1        63   \n",
       "4       1          0     1    36   26        1        1    1        46   \n",
       "\n",
       "   Income  Assets  Debt  Amount  Price  \n",
       "0     129       0     0     800    846  \n",
       "1     131       0     0    1000   1658  \n",
       "2     200    3000     0    2000   2985  \n",
       "3     182    2500     0     900   1325  \n",
       "4     107       0     0     310    910  "
      ]
     },
     "execution_count": 3,
     "metadata": {},
     "output_type": "execute_result"
    }
   ],
   "source": [
    "# visualizando as cinco primeiras linhas \n",
    "df.head()"
   ]
  },
  {
   "cell_type": "markdown",
   "id": "72a188d0",
   "metadata": {},
   "source": [
    "Todas os nomes das colunas começam com letra maiúscula. vamos transformar todos em letras minúsculas. "
   ]
  },
  {
   "cell_type": "code",
   "execution_count": 4,
   "id": "55922a88",
   "metadata": {},
   "outputs": [],
   "source": [
    "df.columns = df.columns.str.lower()"
   ]
  },
  {
   "cell_type": "code",
   "execution_count": 5,
   "id": "41b1de05",
   "metadata": {},
   "outputs": [
    {
     "data": {
      "text/html": [
       "<div>\n",
       "<style scoped>\n",
       "    .dataframe tbody tr th:only-of-type {\n",
       "        vertical-align: middle;\n",
       "    }\n",
       "\n",
       "    .dataframe tbody tr th {\n",
       "        vertical-align: top;\n",
       "    }\n",
       "\n",
       "    .dataframe thead th {\n",
       "        text-align: right;\n",
       "    }\n",
       "</style>\n",
       "<table border=\"1\" class=\"dataframe\">\n",
       "  <thead>\n",
       "    <tr style=\"text-align: right;\">\n",
       "      <th></th>\n",
       "      <th>status</th>\n",
       "      <th>seniority</th>\n",
       "      <th>home</th>\n",
       "      <th>time</th>\n",
       "      <th>age</th>\n",
       "      <th>marital</th>\n",
       "      <th>records</th>\n",
       "      <th>job</th>\n",
       "      <th>expenses</th>\n",
       "      <th>income</th>\n",
       "      <th>assets</th>\n",
       "      <th>debt</th>\n",
       "      <th>amount</th>\n",
       "      <th>price</th>\n",
       "    </tr>\n",
       "  </thead>\n",
       "  <tbody>\n",
       "    <tr>\n",
       "      <th>0</th>\n",
       "      <td>1</td>\n",
       "      <td>9</td>\n",
       "      <td>1</td>\n",
       "      <td>60</td>\n",
       "      <td>30</td>\n",
       "      <td>2</td>\n",
       "      <td>1</td>\n",
       "      <td>3</td>\n",
       "      <td>73</td>\n",
       "      <td>129</td>\n",
       "      <td>0</td>\n",
       "      <td>0</td>\n",
       "      <td>800</td>\n",
       "      <td>846</td>\n",
       "    </tr>\n",
       "    <tr>\n",
       "      <th>1</th>\n",
       "      <td>1</td>\n",
       "      <td>17</td>\n",
       "      <td>1</td>\n",
       "      <td>60</td>\n",
       "      <td>58</td>\n",
       "      <td>3</td>\n",
       "      <td>1</td>\n",
       "      <td>1</td>\n",
       "      <td>48</td>\n",
       "      <td>131</td>\n",
       "      <td>0</td>\n",
       "      <td>0</td>\n",
       "      <td>1000</td>\n",
       "      <td>1658</td>\n",
       "    </tr>\n",
       "    <tr>\n",
       "      <th>2</th>\n",
       "      <td>2</td>\n",
       "      <td>10</td>\n",
       "      <td>2</td>\n",
       "      <td>36</td>\n",
       "      <td>46</td>\n",
       "      <td>2</td>\n",
       "      <td>2</td>\n",
       "      <td>3</td>\n",
       "      <td>90</td>\n",
       "      <td>200</td>\n",
       "      <td>3000</td>\n",
       "      <td>0</td>\n",
       "      <td>2000</td>\n",
       "      <td>2985</td>\n",
       "    </tr>\n",
       "    <tr>\n",
       "      <th>3</th>\n",
       "      <td>1</td>\n",
       "      <td>0</td>\n",
       "      <td>1</td>\n",
       "      <td>60</td>\n",
       "      <td>24</td>\n",
       "      <td>1</td>\n",
       "      <td>1</td>\n",
       "      <td>1</td>\n",
       "      <td>63</td>\n",
       "      <td>182</td>\n",
       "      <td>2500</td>\n",
       "      <td>0</td>\n",
       "      <td>900</td>\n",
       "      <td>1325</td>\n",
       "    </tr>\n",
       "    <tr>\n",
       "      <th>4</th>\n",
       "      <td>1</td>\n",
       "      <td>0</td>\n",
       "      <td>1</td>\n",
       "      <td>36</td>\n",
       "      <td>26</td>\n",
       "      <td>1</td>\n",
       "      <td>1</td>\n",
       "      <td>1</td>\n",
       "      <td>46</td>\n",
       "      <td>107</td>\n",
       "      <td>0</td>\n",
       "      <td>0</td>\n",
       "      <td>310</td>\n",
       "      <td>910</td>\n",
       "    </tr>\n",
       "  </tbody>\n",
       "</table>\n",
       "</div>"
      ],
      "text/plain": [
       "   status  seniority  home  time  age  marital  records  job  expenses  \\\n",
       "0       1          9     1    60   30        2        1    3        73   \n",
       "1       1         17     1    60   58        3        1    1        48   \n",
       "2       2         10     2    36   46        2        2    3        90   \n",
       "3       1          0     1    60   24        1        1    1        63   \n",
       "4       1          0     1    36   26        1        1    1        46   \n",
       "\n",
       "   income  assets  debt  amount  price  \n",
       "0     129       0     0     800    846  \n",
       "1     131       0     0    1000   1658  \n",
       "2     200    3000     0    2000   2985  \n",
       "3     182    2500     0     900   1325  \n",
       "4     107       0     0     310    910  "
      ]
     },
     "execution_count": 5,
     "metadata": {},
     "output_type": "execute_result"
    }
   ],
   "source": [
    "df.head()"
   ]
  },
  {
   "cell_type": "markdown",
   "id": "ed850a60",
   "metadata": {},
   "source": [
    "**Podemos ver que o DataFrame possui as seguintes colunas :**\n",
    "\n",
    "* `status`: se o cliente conseguiu pagar o empréstimo (1) ou não (2)\n",
    "* `seniorty`: experiência de trabalho em anos\n",
    "* `home`: tipo de casa própria: aluguel (1), proprietário (2) e outros\n",
    "* `time`: período planejado para o empréstimo (em meses)\n",
    "* `age`: idade do cliente\n",
    "* `marital` [estado]: solteiro (1), casado (2) e outros\n",
    "* `records`: se o cliente possui registros anteriores: não (1), sim (2) (não está claro na descrição do conjunto de dados que tipo de registros temos nesta coluna. Para os propósitos deste projeto, podemos assumir que é sobre registros no banco de dados do banco.)\n",
    "* `job`: tipo de job: full-time (1), part-time (2), e outros\n",
    "* `expenses` (despesas): quanto o cliente gasta por mês\n",
    "* `income` (Renda): quanto o cliente ganha por mês\n",
    "* `assets` (ativos): valor total de todos os ativos do cliente\n",
    "* `debt` (dívida): montante da dívida de crédito\n",
    "* `amount` (montante): valor solicitado do empréstimo\n",
    "* `price` (preço): preço de um item que o cliente deseja comprar\n",
    "\n",
    "Embora a maioria das colunas seja numérica, algumas são categóricas: status, casa, estado civil, registros e trabalho. Os valores que vemos no DataFrame, no entanto, são números, não strings. Isso significa que precisamos traduzi-los para seus nomes reais."
   ]
  },
  {
   "cell_type": "markdown",
   "id": "324a1ea1",
   "metadata": {},
   "source": [
    "Começamos com a coluna de status. O valor “1” significa “OK”, o valor “2” significa “padrão” e “0” significa que o valor está ausente — vamos substituí-lo por “unk” (abreviação de “desconhecido”)."
   ]
  },
  {
   "cell_type": "code",
   "execution_count": 6,
   "id": "4897c6c7",
   "metadata": {},
   "outputs": [
    {
     "data": {
      "text/html": [
       "<div>\n",
       "<style scoped>\n",
       "    .dataframe tbody tr th:only-of-type {\n",
       "        vertical-align: middle;\n",
       "    }\n",
       "\n",
       "    .dataframe tbody tr th {\n",
       "        vertical-align: top;\n",
       "    }\n",
       "\n",
       "    .dataframe thead th {\n",
       "        text-align: right;\n",
       "    }\n",
       "</style>\n",
       "<table border=\"1\" class=\"dataframe\">\n",
       "  <thead>\n",
       "    <tr style=\"text-align: right;\">\n",
       "      <th></th>\n",
       "      <th>status</th>\n",
       "      <th>seniority</th>\n",
       "      <th>home</th>\n",
       "      <th>time</th>\n",
       "      <th>age</th>\n",
       "      <th>marital</th>\n",
       "      <th>records</th>\n",
       "      <th>job</th>\n",
       "      <th>expenses</th>\n",
       "      <th>income</th>\n",
       "      <th>assets</th>\n",
       "      <th>debt</th>\n",
       "      <th>amount</th>\n",
       "      <th>price</th>\n",
       "    </tr>\n",
       "  </thead>\n",
       "  <tbody>\n",
       "    <tr>\n",
       "      <th>0</th>\n",
       "      <td>ok</td>\n",
       "      <td>9</td>\n",
       "      <td>1</td>\n",
       "      <td>60</td>\n",
       "      <td>30</td>\n",
       "      <td>2</td>\n",
       "      <td>1</td>\n",
       "      <td>3</td>\n",
       "      <td>73</td>\n",
       "      <td>129</td>\n",
       "      <td>0</td>\n",
       "      <td>0</td>\n",
       "      <td>800</td>\n",
       "      <td>846</td>\n",
       "    </tr>\n",
       "    <tr>\n",
       "      <th>1</th>\n",
       "      <td>ok</td>\n",
       "      <td>17</td>\n",
       "      <td>1</td>\n",
       "      <td>60</td>\n",
       "      <td>58</td>\n",
       "      <td>3</td>\n",
       "      <td>1</td>\n",
       "      <td>1</td>\n",
       "      <td>48</td>\n",
       "      <td>131</td>\n",
       "      <td>0</td>\n",
       "      <td>0</td>\n",
       "      <td>1000</td>\n",
       "      <td>1658</td>\n",
       "    </tr>\n",
       "    <tr>\n",
       "      <th>2</th>\n",
       "      <td>default</td>\n",
       "      <td>10</td>\n",
       "      <td>2</td>\n",
       "      <td>36</td>\n",
       "      <td>46</td>\n",
       "      <td>2</td>\n",
       "      <td>2</td>\n",
       "      <td>3</td>\n",
       "      <td>90</td>\n",
       "      <td>200</td>\n",
       "      <td>3000</td>\n",
       "      <td>0</td>\n",
       "      <td>2000</td>\n",
       "      <td>2985</td>\n",
       "    </tr>\n",
       "    <tr>\n",
       "      <th>3</th>\n",
       "      <td>ok</td>\n",
       "      <td>0</td>\n",
       "      <td>1</td>\n",
       "      <td>60</td>\n",
       "      <td>24</td>\n",
       "      <td>1</td>\n",
       "      <td>1</td>\n",
       "      <td>1</td>\n",
       "      <td>63</td>\n",
       "      <td>182</td>\n",
       "      <td>2500</td>\n",
       "      <td>0</td>\n",
       "      <td>900</td>\n",
       "      <td>1325</td>\n",
       "    </tr>\n",
       "    <tr>\n",
       "      <th>4</th>\n",
       "      <td>ok</td>\n",
       "      <td>0</td>\n",
       "      <td>1</td>\n",
       "      <td>36</td>\n",
       "      <td>26</td>\n",
       "      <td>1</td>\n",
       "      <td>1</td>\n",
       "      <td>1</td>\n",
       "      <td>46</td>\n",
       "      <td>107</td>\n",
       "      <td>0</td>\n",
       "      <td>0</td>\n",
       "      <td>310</td>\n",
       "      <td>910</td>\n",
       "    </tr>\n",
       "  </tbody>\n",
       "</table>\n",
       "</div>"
      ],
      "text/plain": [
       "    status  seniority  home  time  age  marital  records  job  expenses  \\\n",
       "0       ok          9     1    60   30        2        1    3        73   \n",
       "1       ok         17     1    60   58        3        1    1        48   \n",
       "2  default         10     2    36   46        2        2    3        90   \n",
       "3       ok          0     1    60   24        1        1    1        63   \n",
       "4       ok          0     1    36   26        1        1    1        46   \n",
       "\n",
       "   income  assets  debt  amount  price  \n",
       "0     129       0     0     800    846  \n",
       "1     131       0     0    1000   1658  \n",
       "2     200    3000     0    2000   2985  \n",
       "3     182    2500     0     900   1325  \n",
       "4     107       0     0     310    910  "
      ]
     },
     "execution_count": 6,
     "metadata": {},
     "output_type": "execute_result"
    }
   ],
   "source": [
    "# primeiro definimos o dicionário \n",
    "status_values = {\n",
    "    1: 'ok',\n",
    "    2: 'default',\n",
    "    0: 'unk'\n",
    "}\n",
    "\n",
    "# Podemos usar map para converter os números em strings (atraves do dicionario criado)\n",
    "df.status = df.status.map(status_values)\n",
    "df.head()"
   ]
  },
  {
   "cell_type": "code",
   "execution_count": 7,
   "id": "1612cbb5",
   "metadata": {},
   "outputs": [
    {
     "data": {
      "text/html": [
       "<div>\n",
       "<style scoped>\n",
       "    .dataframe tbody tr th:only-of-type {\n",
       "        vertical-align: middle;\n",
       "    }\n",
       "\n",
       "    .dataframe tbody tr th {\n",
       "        vertical-align: top;\n",
       "    }\n",
       "\n",
       "    .dataframe thead th {\n",
       "        text-align: right;\n",
       "    }\n",
       "</style>\n",
       "<table border=\"1\" class=\"dataframe\">\n",
       "  <thead>\n",
       "    <tr style=\"text-align: right;\">\n",
       "      <th></th>\n",
       "      <th>status</th>\n",
       "      <th>seniority</th>\n",
       "      <th>home</th>\n",
       "      <th>time</th>\n",
       "      <th>age</th>\n",
       "      <th>marital</th>\n",
       "      <th>records</th>\n",
       "      <th>job</th>\n",
       "      <th>expenses</th>\n",
       "      <th>income</th>\n",
       "      <th>assets</th>\n",
       "      <th>debt</th>\n",
       "      <th>amount</th>\n",
       "      <th>price</th>\n",
       "    </tr>\n",
       "  </thead>\n",
       "  <tbody>\n",
       "    <tr>\n",
       "      <th>0</th>\n",
       "      <td>ok</td>\n",
       "      <td>9</td>\n",
       "      <td>rent</td>\n",
       "      <td>60</td>\n",
       "      <td>30</td>\n",
       "      <td>2</td>\n",
       "      <td>1</td>\n",
       "      <td>3</td>\n",
       "      <td>73</td>\n",
       "      <td>129</td>\n",
       "      <td>0</td>\n",
       "      <td>0</td>\n",
       "      <td>800</td>\n",
       "      <td>846</td>\n",
       "    </tr>\n",
       "    <tr>\n",
       "      <th>1</th>\n",
       "      <td>ok</td>\n",
       "      <td>17</td>\n",
       "      <td>rent</td>\n",
       "      <td>60</td>\n",
       "      <td>58</td>\n",
       "      <td>3</td>\n",
       "      <td>1</td>\n",
       "      <td>1</td>\n",
       "      <td>48</td>\n",
       "      <td>131</td>\n",
       "      <td>0</td>\n",
       "      <td>0</td>\n",
       "      <td>1000</td>\n",
       "      <td>1658</td>\n",
       "    </tr>\n",
       "    <tr>\n",
       "      <th>2</th>\n",
       "      <td>default</td>\n",
       "      <td>10</td>\n",
       "      <td>owner</td>\n",
       "      <td>36</td>\n",
       "      <td>46</td>\n",
       "      <td>2</td>\n",
       "      <td>2</td>\n",
       "      <td>3</td>\n",
       "      <td>90</td>\n",
       "      <td>200</td>\n",
       "      <td>3000</td>\n",
       "      <td>0</td>\n",
       "      <td>2000</td>\n",
       "      <td>2985</td>\n",
       "    </tr>\n",
       "    <tr>\n",
       "      <th>3</th>\n",
       "      <td>ok</td>\n",
       "      <td>0</td>\n",
       "      <td>rent</td>\n",
       "      <td>60</td>\n",
       "      <td>24</td>\n",
       "      <td>1</td>\n",
       "      <td>1</td>\n",
       "      <td>1</td>\n",
       "      <td>63</td>\n",
       "      <td>182</td>\n",
       "      <td>2500</td>\n",
       "      <td>0</td>\n",
       "      <td>900</td>\n",
       "      <td>1325</td>\n",
       "    </tr>\n",
       "    <tr>\n",
       "      <th>4</th>\n",
       "      <td>ok</td>\n",
       "      <td>0</td>\n",
       "      <td>rent</td>\n",
       "      <td>36</td>\n",
       "      <td>26</td>\n",
       "      <td>1</td>\n",
       "      <td>1</td>\n",
       "      <td>1</td>\n",
       "      <td>46</td>\n",
       "      <td>107</td>\n",
       "      <td>0</td>\n",
       "      <td>0</td>\n",
       "      <td>310</td>\n",
       "      <td>910</td>\n",
       "    </tr>\n",
       "  </tbody>\n",
       "</table>\n",
       "</div>"
      ],
      "text/plain": [
       "    status  seniority   home  time  age  marital  records  job  expenses  \\\n",
       "0       ok          9   rent    60   30        2        1    3        73   \n",
       "1       ok         17   rent    60   58        3        1    1        48   \n",
       "2  default         10  owner    36   46        2        2    3        90   \n",
       "3       ok          0   rent    60   24        1        1    1        63   \n",
       "4       ok          0   rent    36   26        1        1    1        46   \n",
       "\n",
       "   income  assets  debt  amount  price  \n",
       "0     129       0     0     800    846  \n",
       "1     131       0     0    1000   1658  \n",
       "2     200    3000     0    2000   2985  \n",
       "3     182    2500     0     900   1325  \n",
       "4     107       0     0     310    910  "
      ]
     },
     "execution_count": 7,
     "metadata": {},
     "output_type": "execute_result"
    }
   ],
   "source": [
    "# cria o dicionário para a coluna home \n",
    "home_values = {\n",
    "    1: 'rent',\n",
    "    2: 'owner',\n",
    "    3: 'private',\n",
    "    4: 'ignore',\n",
    "    5: 'parents',\n",
    "    6: 'other',\n",
    "    0: 'unk'\n",
    "}\n",
    "\n",
    "#faz o mapeamento \n",
    "df.home = df.home.map(home_values)\n",
    "df.head()"
   ]
  },
  {
   "cell_type": "code",
   "execution_count": 8,
   "id": "6c26940b",
   "metadata": {},
   "outputs": [],
   "source": [
    "# fazendo o mesmo para todas as colunas restantes: \n",
    "marital_values = {\n",
    "    1: 'single',\n",
    "    2: 'married',\n",
    "    3: 'widow',\n",
    "    4: 'separated',\n",
    "    5: 'divorced',\n",
    "    0: 'unk'\n",
    "}\n",
    " \n",
    "df.marital = df.marital.map(marital_values)\n",
    " \n",
    " \n",
    "records_values = {\n",
    "    1: 'no',\n",
    "    2: 'yes',\n",
    "    0: 'unk'\n",
    "}\n",
    " \n",
    "df.records = df.records.map(records_values)\n",
    " \n",
    " \n",
    "job_values = {\n",
    "    1: 'fixed',\n",
    "    2: 'parttime',\n",
    "    3: 'freelance',\n",
    "    4: 'others',\n",
    "    0: 'unk'\n",
    "}\n",
    " \n",
    "df.job = df.job.map(job_values)"
   ]
  },
  {
   "cell_type": "code",
   "execution_count": 9,
   "id": "264d5bf3",
   "metadata": {},
   "outputs": [
    {
     "data": {
      "text/html": [
       "<div>\n",
       "<style scoped>\n",
       "    .dataframe tbody tr th:only-of-type {\n",
       "        vertical-align: middle;\n",
       "    }\n",
       "\n",
       "    .dataframe tbody tr th {\n",
       "        vertical-align: top;\n",
       "    }\n",
       "\n",
       "    .dataframe thead th {\n",
       "        text-align: right;\n",
       "    }\n",
       "</style>\n",
       "<table border=\"1\" class=\"dataframe\">\n",
       "  <thead>\n",
       "    <tr style=\"text-align: right;\">\n",
       "      <th></th>\n",
       "      <th>status</th>\n",
       "      <th>seniority</th>\n",
       "      <th>home</th>\n",
       "      <th>time</th>\n",
       "      <th>age</th>\n",
       "      <th>marital</th>\n",
       "      <th>records</th>\n",
       "      <th>job</th>\n",
       "      <th>expenses</th>\n",
       "      <th>income</th>\n",
       "      <th>assets</th>\n",
       "      <th>debt</th>\n",
       "      <th>amount</th>\n",
       "      <th>price</th>\n",
       "    </tr>\n",
       "  </thead>\n",
       "  <tbody>\n",
       "    <tr>\n",
       "      <th>0</th>\n",
       "      <td>ok</td>\n",
       "      <td>9</td>\n",
       "      <td>rent</td>\n",
       "      <td>60</td>\n",
       "      <td>30</td>\n",
       "      <td>married</td>\n",
       "      <td>no</td>\n",
       "      <td>freelance</td>\n",
       "      <td>73</td>\n",
       "      <td>129</td>\n",
       "      <td>0</td>\n",
       "      <td>0</td>\n",
       "      <td>800</td>\n",
       "      <td>846</td>\n",
       "    </tr>\n",
       "    <tr>\n",
       "      <th>1</th>\n",
       "      <td>ok</td>\n",
       "      <td>17</td>\n",
       "      <td>rent</td>\n",
       "      <td>60</td>\n",
       "      <td>58</td>\n",
       "      <td>widow</td>\n",
       "      <td>no</td>\n",
       "      <td>fixed</td>\n",
       "      <td>48</td>\n",
       "      <td>131</td>\n",
       "      <td>0</td>\n",
       "      <td>0</td>\n",
       "      <td>1000</td>\n",
       "      <td>1658</td>\n",
       "    </tr>\n",
       "    <tr>\n",
       "      <th>2</th>\n",
       "      <td>default</td>\n",
       "      <td>10</td>\n",
       "      <td>owner</td>\n",
       "      <td>36</td>\n",
       "      <td>46</td>\n",
       "      <td>married</td>\n",
       "      <td>yes</td>\n",
       "      <td>freelance</td>\n",
       "      <td>90</td>\n",
       "      <td>200</td>\n",
       "      <td>3000</td>\n",
       "      <td>0</td>\n",
       "      <td>2000</td>\n",
       "      <td>2985</td>\n",
       "    </tr>\n",
       "    <tr>\n",
       "      <th>3</th>\n",
       "      <td>ok</td>\n",
       "      <td>0</td>\n",
       "      <td>rent</td>\n",
       "      <td>60</td>\n",
       "      <td>24</td>\n",
       "      <td>single</td>\n",
       "      <td>no</td>\n",
       "      <td>fixed</td>\n",
       "      <td>63</td>\n",
       "      <td>182</td>\n",
       "      <td>2500</td>\n",
       "      <td>0</td>\n",
       "      <td>900</td>\n",
       "      <td>1325</td>\n",
       "    </tr>\n",
       "    <tr>\n",
       "      <th>4</th>\n",
       "      <td>ok</td>\n",
       "      <td>0</td>\n",
       "      <td>rent</td>\n",
       "      <td>36</td>\n",
       "      <td>26</td>\n",
       "      <td>single</td>\n",
       "      <td>no</td>\n",
       "      <td>fixed</td>\n",
       "      <td>46</td>\n",
       "      <td>107</td>\n",
       "      <td>0</td>\n",
       "      <td>0</td>\n",
       "      <td>310</td>\n",
       "      <td>910</td>\n",
       "    </tr>\n",
       "  </tbody>\n",
       "</table>\n",
       "</div>"
      ],
      "text/plain": [
       "    status  seniority   home  time  age  marital records        job  expenses  \\\n",
       "0       ok          9   rent    60   30  married      no  freelance        73   \n",
       "1       ok         17   rent    60   58    widow      no      fixed        48   \n",
       "2  default         10  owner    36   46  married     yes  freelance        90   \n",
       "3       ok          0   rent    60   24   single      no      fixed        63   \n",
       "4       ok          0   rent    36   26   single      no      fixed        46   \n",
       "\n",
       "   income  assets  debt  amount  price  \n",
       "0     129       0     0     800    846  \n",
       "1     131       0     0    1000   1658  \n",
       "2     200    3000     0    2000   2985  \n",
       "3     182    2500     0     900   1325  \n",
       "4     107       0     0     310    910  "
      ]
     },
     "execution_count": 9,
     "metadata": {},
     "output_type": "execute_result"
    }
   ],
   "source": [
    "# apos as transformaçoes, as colunas com variáveis categóricas contêm valores reais, não numeros \n",
    "df.head()"
   ]
  },
  {
   "cell_type": "markdown",
   "id": "9b79dd25",
   "metadata": {},
   "source": [
    "**Vejamos as variáveis numéricas:**"
   ]
  },
  {
   "cell_type": "code",
   "execution_count": 10,
   "id": "942a7848",
   "metadata": {},
   "outputs": [
    {
     "data": {
      "text/html": [
       "<div>\n",
       "<style scoped>\n",
       "    .dataframe tbody tr th:only-of-type {\n",
       "        vertical-align: middle;\n",
       "    }\n",
       "\n",
       "    .dataframe tbody tr th {\n",
       "        vertical-align: top;\n",
       "    }\n",
       "\n",
       "    .dataframe thead th {\n",
       "        text-align: right;\n",
       "    }\n",
       "</style>\n",
       "<table border=\"1\" class=\"dataframe\">\n",
       "  <thead>\n",
       "    <tr style=\"text-align: right;\">\n",
       "      <th></th>\n",
       "      <th>seniority</th>\n",
       "      <th>time</th>\n",
       "      <th>age</th>\n",
       "      <th>expenses</th>\n",
       "      <th>income</th>\n",
       "      <th>assets</th>\n",
       "      <th>debt</th>\n",
       "      <th>amount</th>\n",
       "      <th>price</th>\n",
       "    </tr>\n",
       "  </thead>\n",
       "  <tbody>\n",
       "    <tr>\n",
       "      <th>count</th>\n",
       "      <td>4455.0</td>\n",
       "      <td>4455.0</td>\n",
       "      <td>4455.0</td>\n",
       "      <td>4455.0</td>\n",
       "      <td>4455.0</td>\n",
       "      <td>4455.0</td>\n",
       "      <td>4455.0</td>\n",
       "      <td>4455.0</td>\n",
       "      <td>4455.0</td>\n",
       "    </tr>\n",
       "    <tr>\n",
       "      <th>mean</th>\n",
       "      <td>8.0</td>\n",
       "      <td>46.0</td>\n",
       "      <td>37.0</td>\n",
       "      <td>56.0</td>\n",
       "      <td>763317.0</td>\n",
       "      <td>1060341.0</td>\n",
       "      <td>404382.0</td>\n",
       "      <td>1039.0</td>\n",
       "      <td>1463.0</td>\n",
       "    </tr>\n",
       "    <tr>\n",
       "      <th>std</th>\n",
       "      <td>8.0</td>\n",
       "      <td>15.0</td>\n",
       "      <td>11.0</td>\n",
       "      <td>20.0</td>\n",
       "      <td>8703625.0</td>\n",
       "      <td>10217569.0</td>\n",
       "      <td>6344253.0</td>\n",
       "      <td>475.0</td>\n",
       "      <td>628.0</td>\n",
       "    </tr>\n",
       "    <tr>\n",
       "      <th>min</th>\n",
       "      <td>0.0</td>\n",
       "      <td>6.0</td>\n",
       "      <td>18.0</td>\n",
       "      <td>35.0</td>\n",
       "      <td>0.0</td>\n",
       "      <td>0.0</td>\n",
       "      <td>0.0</td>\n",
       "      <td>100.0</td>\n",
       "      <td>105.0</td>\n",
       "    </tr>\n",
       "    <tr>\n",
       "      <th>25%</th>\n",
       "      <td>2.0</td>\n",
       "      <td>36.0</td>\n",
       "      <td>28.0</td>\n",
       "      <td>35.0</td>\n",
       "      <td>80.0</td>\n",
       "      <td>0.0</td>\n",
       "      <td>0.0</td>\n",
       "      <td>700.0</td>\n",
       "      <td>1118.0</td>\n",
       "    </tr>\n",
       "    <tr>\n",
       "      <th>50%</th>\n",
       "      <td>5.0</td>\n",
       "      <td>48.0</td>\n",
       "      <td>36.0</td>\n",
       "      <td>51.0</td>\n",
       "      <td>120.0</td>\n",
       "      <td>3500.0</td>\n",
       "      <td>0.0</td>\n",
       "      <td>1000.0</td>\n",
       "      <td>1400.0</td>\n",
       "    </tr>\n",
       "    <tr>\n",
       "      <th>75%</th>\n",
       "      <td>12.0</td>\n",
       "      <td>60.0</td>\n",
       "      <td>45.0</td>\n",
       "      <td>72.0</td>\n",
       "      <td>166.0</td>\n",
       "      <td>6000.0</td>\n",
       "      <td>0.0</td>\n",
       "      <td>1300.0</td>\n",
       "      <td>1692.0</td>\n",
       "    </tr>\n",
       "    <tr>\n",
       "      <th>max</th>\n",
       "      <td>48.0</td>\n",
       "      <td>72.0</td>\n",
       "      <td>68.0</td>\n",
       "      <td>180.0</td>\n",
       "      <td>99999999.0</td>\n",
       "      <td>99999999.0</td>\n",
       "      <td>99999999.0</td>\n",
       "      <td>5000.0</td>\n",
       "      <td>11140.0</td>\n",
       "    </tr>\n",
       "  </tbody>\n",
       "</table>\n",
       "</div>"
      ],
      "text/plain": [
       "       seniority    time     age  expenses      income      assets  \\\n",
       "count     4455.0  4455.0  4455.0    4455.0      4455.0      4455.0   \n",
       "mean         8.0    46.0    37.0      56.0    763317.0   1060341.0   \n",
       "std          8.0    15.0    11.0      20.0   8703625.0  10217569.0   \n",
       "min          0.0     6.0    18.0      35.0         0.0         0.0   \n",
       "25%          2.0    36.0    28.0      35.0        80.0         0.0   \n",
       "50%          5.0    48.0    36.0      51.0       120.0      3500.0   \n",
       "75%         12.0    60.0    45.0      72.0       166.0      6000.0   \n",
       "max         48.0    72.0    68.0     180.0  99999999.0  99999999.0   \n",
       "\n",
       "             debt  amount    price  \n",
       "count      4455.0  4455.0   4455.0  \n",
       "mean     404382.0  1039.0   1463.0  \n",
       "std     6344253.0   475.0    628.0  \n",
       "min           0.0   100.0    105.0  \n",
       "25%           0.0   700.0   1118.0  \n",
       "50%           0.0  1000.0   1400.0  \n",
       "75%           0.0  1300.0   1692.0  \n",
       "max    99999999.0  5000.0  11140.0  "
      ]
     },
     "execution_count": 10,
     "metadata": {},
     "output_type": "execute_result"
    }
   ],
   "source": [
    "df.describe().round() # verifica as estatísticas resumidas de cada uma das colunas"
   ]
  },
  {
   "cell_type": "markdown",
   "id": "329b2c6d",
   "metadata": {},
   "source": [
    "**OBSERVAÇÃO**\n",
    "\n",
    "A saída de `describe` pode ser confuso. No nosso caso, existem valores em notação científica como 1,000000e+08 ou 8,703625e+06. Para forçar o Pandas a usar uma notação diferente, usamos `round`: remove a parte fracionária de um número e arredonda para o inteiro mais próximo."
   ]
  },
  {
   "cell_type": "markdown",
   "id": "aa1e606d",
   "metadata": {},
   "source": [
    "Vemos que em varias colunas o max é 999999999, isso indica valores ausentes. \n",
    "\n",
    "Identificamos 3 colunas que têm esse problema: `income`, `assets` e `debt`\n",
    "\n",
    "Vamos substituir por `NaN`. "
   ]
  },
  {
   "cell_type": "code",
   "execution_count": 11,
   "id": "a034a002",
   "metadata": {},
   "outputs": [],
   "source": [
    "for c in ['income', 'assets', 'debt']:\n",
    "    df[c] = df[c].replace(to_replace=99999999, value=np.nan) #substitui o valor 9999... por np.nan (NaN) usando o método replace"
   ]
  },
  {
   "cell_type": "code",
   "execution_count": 12,
   "id": "829dd7f1",
   "metadata": {},
   "outputs": [
    {
     "data": {
      "text/html": [
       "<div>\n",
       "<style scoped>\n",
       "    .dataframe tbody tr th:only-of-type {\n",
       "        vertical-align: middle;\n",
       "    }\n",
       "\n",
       "    .dataframe tbody tr th {\n",
       "        vertical-align: top;\n",
       "    }\n",
       "\n",
       "    .dataframe thead th {\n",
       "        text-align: right;\n",
       "    }\n",
       "</style>\n",
       "<table border=\"1\" class=\"dataframe\">\n",
       "  <thead>\n",
       "    <tr style=\"text-align: right;\">\n",
       "      <th></th>\n",
       "      <th>seniority</th>\n",
       "      <th>time</th>\n",
       "      <th>age</th>\n",
       "      <th>expenses</th>\n",
       "      <th>income</th>\n",
       "      <th>assets</th>\n",
       "      <th>debt</th>\n",
       "      <th>amount</th>\n",
       "      <th>price</th>\n",
       "    </tr>\n",
       "  </thead>\n",
       "  <tbody>\n",
       "    <tr>\n",
       "      <th>count</th>\n",
       "      <td>4455.0</td>\n",
       "      <td>4455.0</td>\n",
       "      <td>4455.0</td>\n",
       "      <td>4455.0</td>\n",
       "      <td>4421.0</td>\n",
       "      <td>4408.0</td>\n",
       "      <td>4437.0</td>\n",
       "      <td>4455.0</td>\n",
       "      <td>4455.0</td>\n",
       "    </tr>\n",
       "    <tr>\n",
       "      <th>mean</th>\n",
       "      <td>8.0</td>\n",
       "      <td>46.0</td>\n",
       "      <td>37.0</td>\n",
       "      <td>56.0</td>\n",
       "      <td>131.0</td>\n",
       "      <td>5403.0</td>\n",
       "      <td>343.0</td>\n",
       "      <td>1039.0</td>\n",
       "      <td>1463.0</td>\n",
       "    </tr>\n",
       "    <tr>\n",
       "      <th>std</th>\n",
       "      <td>8.0</td>\n",
       "      <td>15.0</td>\n",
       "      <td>11.0</td>\n",
       "      <td>20.0</td>\n",
       "      <td>86.0</td>\n",
       "      <td>11573.0</td>\n",
       "      <td>1246.0</td>\n",
       "      <td>475.0</td>\n",
       "      <td>628.0</td>\n",
       "    </tr>\n",
       "    <tr>\n",
       "      <th>min</th>\n",
       "      <td>0.0</td>\n",
       "      <td>6.0</td>\n",
       "      <td>18.0</td>\n",
       "      <td>35.0</td>\n",
       "      <td>0.0</td>\n",
       "      <td>0.0</td>\n",
       "      <td>0.0</td>\n",
       "      <td>100.0</td>\n",
       "      <td>105.0</td>\n",
       "    </tr>\n",
       "    <tr>\n",
       "      <th>25%</th>\n",
       "      <td>2.0</td>\n",
       "      <td>36.0</td>\n",
       "      <td>28.0</td>\n",
       "      <td>35.0</td>\n",
       "      <td>80.0</td>\n",
       "      <td>0.0</td>\n",
       "      <td>0.0</td>\n",
       "      <td>700.0</td>\n",
       "      <td>1118.0</td>\n",
       "    </tr>\n",
       "    <tr>\n",
       "      <th>50%</th>\n",
       "      <td>5.0</td>\n",
       "      <td>48.0</td>\n",
       "      <td>36.0</td>\n",
       "      <td>51.0</td>\n",
       "      <td>120.0</td>\n",
       "      <td>3000.0</td>\n",
       "      <td>0.0</td>\n",
       "      <td>1000.0</td>\n",
       "      <td>1400.0</td>\n",
       "    </tr>\n",
       "    <tr>\n",
       "      <th>75%</th>\n",
       "      <td>12.0</td>\n",
       "      <td>60.0</td>\n",
       "      <td>45.0</td>\n",
       "      <td>72.0</td>\n",
       "      <td>165.0</td>\n",
       "      <td>6000.0</td>\n",
       "      <td>0.0</td>\n",
       "      <td>1300.0</td>\n",
       "      <td>1692.0</td>\n",
       "    </tr>\n",
       "    <tr>\n",
       "      <th>max</th>\n",
       "      <td>48.0</td>\n",
       "      <td>72.0</td>\n",
       "      <td>68.0</td>\n",
       "      <td>180.0</td>\n",
       "      <td>959.0</td>\n",
       "      <td>300000.0</td>\n",
       "      <td>30000.0</td>\n",
       "      <td>5000.0</td>\n",
       "      <td>11140.0</td>\n",
       "    </tr>\n",
       "  </tbody>\n",
       "</table>\n",
       "</div>"
      ],
      "text/plain": [
       "       seniority    time     age  expenses  income    assets     debt  amount  \\\n",
       "count     4455.0  4455.0  4455.0    4455.0  4421.0    4408.0   4437.0  4455.0   \n",
       "mean         8.0    46.0    37.0      56.0   131.0    5403.0    343.0  1039.0   \n",
       "std          8.0    15.0    11.0      20.0    86.0   11573.0   1246.0   475.0   \n",
       "min          0.0     6.0    18.0      35.0     0.0       0.0      0.0   100.0   \n",
       "25%          2.0    36.0    28.0      35.0    80.0       0.0      0.0   700.0   \n",
       "50%          5.0    48.0    36.0      51.0   120.0    3000.0      0.0  1000.0   \n",
       "75%         12.0    60.0    45.0      72.0   165.0    6000.0      0.0  1300.0   \n",
       "max         48.0    72.0    68.0     180.0   959.0  300000.0  30000.0  5000.0   \n",
       "\n",
       "         price  \n",
       "count   4455.0  \n",
       "mean    1463.0  \n",
       "std      628.0  \n",
       "min      105.0  \n",
       "25%     1118.0  \n",
       "50%     1400.0  \n",
       "75%     1692.0  \n",
       "max    11140.0  "
      ]
     },
     "execution_count": 12,
     "metadata": {},
     "output_type": "execute_result"
    }
   ],
   "source": [
    "# verificando o resultado da transformação: \n",
    "df.describe().round()"
   ]
  },
  {
   "cell_type": "code",
   "execution_count": 13,
   "id": "8ee97ded",
   "metadata": {},
   "outputs": [
    {
     "data": {
      "text/plain": [
       "status        0\n",
       "seniority     0\n",
       "home          0\n",
       "time          0\n",
       "age           0\n",
       "marital       0\n",
       "records       0\n",
       "job           0\n",
       "expenses      0\n",
       "income       34\n",
       "assets       47\n",
       "debt         18\n",
       "amount        0\n",
       "price         0\n",
       "dtype: int64"
      ]
     },
     "execution_count": 13,
     "metadata": {},
     "output_type": "execute_result"
    }
   ],
   "source": [
    "# visualizando quantidade de NaN em cada coluna \n",
    "df.isnull().sum()"
   ]
  },
  {
   "cell_type": "markdown",
   "id": "52c6eb9c",
   "metadata": {},
   "source": [
    "Vamos olhar nossa variável de destino (target) `status`: "
   ]
  },
  {
   "cell_type": "code",
   "execution_count": 14,
   "id": "621621c5",
   "metadata": {},
   "outputs": [
    {
     "data": {
      "text/plain": [
       "ok         3200\n",
       "default    1254\n",
       "unk           1\n",
       "Name: status, dtype: int64"
      ]
     },
     "execution_count": 14,
     "metadata": {},
     "output_type": "execute_result"
    }
   ],
   "source": [
    "# retorna a contagem de cada valor: \n",
    "df.status.value_counts()"
   ]
  },
  {
   "cell_type": "markdown",
   "id": "a56c97c5",
   "metadata": {},
   "source": [
    "Há um registro para qual o status é `unk` (desconhecido). Vamos removê-lo.  \n",
    "\n",
    "Não é util para nós."
   ]
  },
  {
   "cell_type": "code",
   "execution_count": 15,
   "id": "51886400",
   "metadata": {},
   "outputs": [],
   "source": [
    "df = df[df.status != 'unk']"
   ]
  },
  {
   "cell_type": "markdown",
   "id": "a2eb63fc",
   "metadata": {},
   "source": [
    "### Preparação do conjunto de dados \n",
    "\n",
    "* Divida o conjunto de dados em treinamento, validação e teste.\n",
    "* Lidar com valores ausentes.\n",
    "* Use a codificação one-hot para codificar variáveis categóricas.\n",
    "* Crie a matriz de recursos X e a variável de destino y \n",
    "\n",
    "Vamos começar dividindo os dados. Vamos dividir os dados em três partes:\n",
    "\n",
    "* Dados de treinamento (60% do conjunto de dados original)\n",
    "* Dados de validação (20%)\n",
    "* Dados de teste (20%)"
   ]
  },
  {
   "cell_type": "code",
   "execution_count": 16,
   "id": "d9641781",
   "metadata": {},
   "outputs": [],
   "source": [
    "from sklearn.model_selection import train_test_split\n",
    "\n",
    "# com train_test_split podemos dividir um dataset em apenas duas partes\n",
    "# mas precisamos de três, portanto relizamos a divisão duas vezes.\n",
    "df_train_full, df_test = train_test_split(df, test_size=0.2, random_state=11)\n",
    "df_train, df_val = train_test_split(df_train_full, test_size=0.25, random_state=11)"
   ]
  },
  {
   "cell_type": "code",
   "execution_count": 17,
   "id": "9ebc3ac7",
   "metadata": {},
   "outputs": [
    {
     "data": {
      "text/plain": [
       "(2672, 891, 891)"
      ]
     },
     "execution_count": 17,
     "metadata": {},
     "output_type": "execute_result"
    }
   ],
   "source": [
    "# verificando o tamanho do nosso dataset\n",
    "len(df_train), len(df_val), len(df_test)"
   ]
  },
  {
   "cell_type": "markdown",
   "id": "2ff220c8",
   "metadata": {},
   "source": [
    "O resultado que queremos prever é status. Vamos usá-lo para treinar um modelo, então é nosso y — a variável de destino. Como nosso objetivo é determinar se alguém não paga o empréstimo, a classe positiva é default. Isso significa que y é “1” se o cliente for inadimplente e “0” caso contrário"
   ]
  },
  {
   "cell_type": "code",
   "execution_count": 18,
   "id": "fe2b9458",
   "metadata": {},
   "outputs": [],
   "source": [
    "# implementação \n",
    "y_train = (df_train.status == 'default').values\n",
    "y_val = (df_val.status == 'default').values"
   ]
  },
  {
   "cell_type": "code",
   "execution_count": 19,
   "id": "74dfbf68",
   "metadata": {},
   "outputs": [],
   "source": [
    "# remover o status do dataframe, para não usar acidentalmente para treinamento\n",
    "del df_train['status']\n",
    "del df_val['status']"
   ]
  },
  {
   "cell_type": "code",
   "execution_count": 20,
   "id": "8374cbe9",
   "metadata": {},
   "outputs": [],
   "source": [
    "# substituindo valores ausentes por 0\n",
    "df_train = df_train.fillna(0)\n",
    "df_val = df_val.fillna(0)"
   ]
  },
  {
   "cell_type": "markdown",
   "id": "1325666d",
   "metadata": {},
   "source": [
    "**Agora cuidaremos de X — a matriz de recursos.**\n",
    "\n",
    "**Codificação One-Hot** \n",
    "\n",
    "Serve para codificar as variáveis categóricas.\n",
    "\n",
    "Cada valor é codificado como “1” se estiver presente (“hot”) ou “0” se estiver ausente (“cold”)"
   ]
  },
  {
   "cell_type": "code",
   "execution_count": 21,
   "id": "ba242d37",
   "metadata": {},
   "outputs": [],
   "source": [
    "# primeiro convertemos o dataframe para lista de dicionário: \n",
    "dict_train = df_train.to_dict(orient='records')\n",
    "dict_val = df_val.to_dict(orient='records')"
   ]
  },
  {
   "cell_type": "markdown",
   "id": "63d0029a",
   "metadata": {},
   "source": [
    "Cada dicionário no resultado representa uma linha do DataFrame. Por exemplo, o primeiro registro em dict_trainse parece com isso:\n",
    "\n",
    "`\n",
    "{'seniority': 10,\n",
    " 'home': 'owner',\n",
    " 'time': 36,\n",
    " 'age': 36,\n",
    " 'marital': 'married',\n",
    " 'records': 'no',\n",
    " 'job': 'freelance',\n",
    " 'expenses': 75,\n",
    " 'income': 0.0,\n",
    " 'assets': 10000.0,\n",
    " 'debt': 0.0,\n",
    " 'amount': 1000,\n",
    " 'price': 1400}`"
   ]
  },
  {
   "cell_type": "code",
   "execution_count": 22,
   "id": "a0d5a19c",
   "metadata": {},
   "outputs": [],
   "source": [
    "# usando a lista de dicionário como entrada para o dictVectorizer: \n",
    "from sklearn.feature_extraction import DictVectorizer\n",
    " \n",
    "dv = DictVectorizer(sparse=False)\n",
    " \n",
    "X_train = dv.fit_transform(dict_train)\n",
    "X_val = dv.transform(dict_val)"
   ]
  },
  {
   "cell_type": "markdown",
   "id": "065bdc81",
   "metadata": {},
   "source": [
    "Como resultado, temos matrizes de recursos para conjuntos de dados de treinamento e validação"
   ]
  },
  {
   "cell_type": "markdown",
   "id": "b36956e8",
   "metadata": {},
   "source": [
    "## Decision Trees \n",
    "\n",
    "Uma árvore de decisão (Decision Trees) é uma estrutura de dados que codifica uma série de regras if-then-else. Cada nó em uma árvore contém uma condição. Se a condição for satisfeita, vamos para o lado direito da árvore; caso contrário, vamos para a esquerda. No final, chegamos à decisão final.\n",
    "\n",
    "É muito fácil representar uma árvore de decisão como um conjunto de if-elsedeclarações em Python. Por exemplo:\n",
    "\n",
    "`def assess_risk(client):\n",
    "    if client['records'] == 'yes':\n",
    "        if client['job'] == 'parttime':\n",
    "            return 'default'\n",
    "        else:\n",
    "            return 'ok'\n",
    "    else:\n",
    "        if client['assets'] > 6000:\n",
    "            return 'ok'\n",
    "        else:\n",
    "            return 'default'`"
   ]
  },
  {
   "cell_type": "code",
   "execution_count": 23,
   "id": "095709bc",
   "metadata": {},
   "outputs": [],
   "source": [
    "#import do scikit-learn para treinar uma arvore de decisão \n",
    "from sklearn.tree import DecisionTreeClassifier"
   ]
  },
  {
   "cell_type": "code",
   "execution_count": 24,
   "id": "c4c8cb13",
   "metadata": {},
   "outputs": [
    {
     "data": {
      "text/plain": [
       "DecisionTreeClassifier()"
      ]
     },
     "execution_count": 24,
     "metadata": {},
     "output_type": "execute_result"
    }
   ],
   "source": [
    "# Treinamento o modelo: \n",
    "dt = DecisionTreeClassifier()\n",
    "dt.fit(X_train, y_train)"
   ]
  },
  {
   "cell_type": "markdown",
   "id": "a37ad6cb",
   "metadata": {},
   "source": [
    "Para verificar se o resultado é bom, precisamos avaliar o desempenho preditivo do modelo no conjunto de validação. Vamos usar AUC (área sob a curva ROC) para isso."
   ]
  },
  {
   "cell_type": "code",
   "execution_count": 25,
   "id": "1f852236",
   "metadata": {},
   "outputs": [],
   "source": [
    "# import \n",
    "from sklearn.metrics import roc_auc_score"
   ]
  },
  {
   "cell_type": "code",
   "execution_count": 26,
   "id": "01228c10",
   "metadata": {},
   "outputs": [
    {
     "data": {
      "text/plain": [
       "1.0"
      ]
     },
     "execution_count": 26,
     "metadata": {},
     "output_type": "execute_result"
    }
   ],
   "source": [
    "#Avaliando o desempenho no dataset de treinamento \n",
    "y_pred = dt.predict_proba(X_train)[:, 1]\n",
    "roc_auc_score(y_train, y_pred)"
   ]
  },
  {
   "cell_type": "markdown",
   "id": "99d6f6fd",
   "metadata": {},
   "source": [
    "Quando a executamos, vemos que a pontuação é 100% – a pontuação perfeita. "
   ]
  },
  {
   "cell_type": "code",
   "execution_count": 27,
   "id": "00d17e0b",
   "metadata": {},
   "outputs": [
    {
     "data": {
      "text/plain": [
       "0.644359545663704"
      ]
     },
     "execution_count": 27,
     "metadata": {},
     "output_type": "execute_result"
    }
   ],
   "source": [
    "#verificando a pontuação na validação \n",
    "y_pred = dt.predict_proba(X_val)[:, 1]\n",
    "roc_auc_score(y_val, y_pred)"
   ]
  },
  {
   "cell_type": "markdown",
   "id": "409d9d1a",
   "metadata": {},
   "source": [
    "Após a execução, vemos que a AUC na validação é de apenas 65%.\n",
    "\n",
    "Acabamos de observar um caso de `overfitting` . A árvore aprendeu os dados de treinamento tão bem que simplesmente memorizou o resultado de cada cliente. No entanto, quando o aplicamos ao conjunto de validação, o modelo falhou. \n",
    "\n",
    "Temos várias maneiras de controlar a complexidade de uma árvore. Uma opção é restringir seu tamanho: podemos especificar o parametro max_depth,  que controla o número máximo de níveis. Quanto mais níveis uma árvore tiver, mais regras complexas ela poderá aprender\n",
    "\n",
    "Uma árvore com mais níveis pode aprender regras mais complexas. Uma árvore com dois níveis é menos complexa do que uma árvore com três níveis e, portanto, menos propensa ao overfitting."
   ]
  },
  {
   "cell_type": "code",
   "execution_count": 28,
   "id": "4779bf99",
   "metadata": {},
   "outputs": [
    {
     "data": {
      "text/plain": [
       "DecisionTreeClassifier(max_depth=2)"
      ]
     },
     "execution_count": 28,
     "metadata": {},
     "output_type": "execute_result"
    }
   ],
   "source": [
    "# mudando o max_depth para 2\n",
    "dt = DecisionTreeClassifier(max_depth=2) # o padrão do max_depth é None\n",
    "dt.fit(X_train, y_train)"
   ]
  },
  {
   "cell_type": "code",
   "execution_count": 29,
   "id": "f6d1edf4",
   "metadata": {},
   "outputs": [
    {
     "name": "stdout",
     "output_type": "stream",
     "text": [
      "|--- records=yes <= 0.50\n",
      "|   |--- job=parttime <= 0.50\n",
      "|   |   |--- class: False\n",
      "|   |--- job=parttime >  0.50\n",
      "|   |   |--- class: True\n",
      "|--- records=yes >  0.50\n",
      "|   |--- seniority <= 6.50\n",
      "|   |   |--- class: True\n",
      "|   |--- seniority >  6.50\n",
      "|   |   |--- class: False\n",
      "\n"
     ]
    }
   ],
   "source": [
    "# visualizando a arvore \n",
    "from sklearn.tree import export_text \n",
    " \n",
    "tree_text = export_text(dt, feature_names=dv.feature_names_)\n",
    "print(tree_text)"
   ]
  },
  {
   "cell_type": "markdown",
   "id": "bfe228f2",
   "metadata": {},
   "source": [
    " No final, se a classe for True, então a decisão é “default”; caso contrário, é “OK”.\n",
    " \n",
    " A condição `records=no > 0.50` significa que um cliente não tem registros. Lembre-se de que usamos a codificação one-hot para representar `records` com duas características: `records=yes` e `records=no`. Para um cliente sem registros, `records=no` está definido como “1” e `records=yes` para “0”. Por isso, \" `records=no > 0.50` é verdadeiro quando o valor para `records` é `no`"
   ]
  },
  {
   "cell_type": "code",
   "execution_count": 30,
   "id": "8d3b97ad",
   "metadata": {},
   "outputs": [
    {
     "name": "stdout",
     "output_type": "stream",
     "text": [
      "train auc 0.7054989859726213\n",
      "validation auc 0.6685264343319367\n"
     ]
    }
   ],
   "source": [
    "# vamos conferir a pontuação: \n",
    "y_pred = dt.predict_proba(X_train)[:, 1]\n",
    "auc = roc_auc_score(y_train, y_pred)\n",
    "print('train auc', auc)\n",
    " \n",
    "y_pred = dt.predict_proba(X_val)[:, 1]\n",
    "auc = roc_auc_score(y_val, y_pred)\n",
    "print('validation auc', auc)"
   ]
  },
  {
   "cell_type": "markdown",
   "id": "11cdf037",
   "metadata": {},
   "source": [
    "* Desempenho nos dados de treino caiu de 100% para 70% (ele não pode mais memorizar) \n",
    "* desempenho nos dados de validação melhorou em 3% \n",
    "\n",
    "**No entanto, esta árvore tem outro problema - é muito simples.**"
   ]
  },
  {
   "cell_type": "markdown",
   "id": "0d7cb773",
   "metadata": {},
   "source": [
    "## Ajuste de parâmetros para árvore de decisão\n",
    "\n",
    "https://scikit-learn.org/stable/modules/generated/sklearn.tree.DecisionTreeClassifier.html"
   ]
  },
  {
   "cell_type": "code",
   "execution_count": 31,
   "id": "487127eb",
   "metadata": {},
   "outputs": [
    {
     "name": "stdout",
     "output_type": "stream",
     "text": [
      "   1 -> 0.606\n",
      "   2 -> 0.669\n",
      "   3 -> 0.739\n",
      "   4 -> 0.761\n",
      "   5 -> 0.766\n",
      "   6 -> 0.756\n",
      "  10 -> 0.683\n",
      "  15 -> 0.669\n",
      "  20 -> 0.652\n",
      "None -> 0.632\n"
     ]
    }
   ],
   "source": [
    "#encontrando os melhores parâmetros para max_depth\n",
    "for depth in [1, 2, 3, 4, 5, 6, 10, 15, 20, None]: # None = não há restrição de profundidade, a árvore crescerá o maximo que puder \n",
    "    dt = DecisionTreeClassifier(max_depth=depth) # cria um objeto classificador de decision tree com max_depth definida para o valor da iteração atual do loop\n",
    "    dt.fit(X_train, y_train)\n",
    "    y_pred = dt.predict_proba(X_val)[:, 1]\n",
    "    auc = roc_auc_score(y_val, y_pred)\n",
    "    print('%4s -> %.3f' % (depth, auc))"
   ]
  },
  {
   "cell_type": "markdown",
   "id": "56558628",
   "metadata": {},
   "source": [
    "vemos que `max_depth` de 5 dá a melhor AUC (76,6%), seguido por 4 e 6"
   ]
  },
  {
   "cell_type": "code",
   "execution_count": 32,
   "id": "bd727e3a",
   "metadata": {},
   "outputs": [
    {
     "name": "stdout",
     "output_type": "stream",
     "text": [
      "depth: 4\n",
      "1 -> 0.761\n",
      "5 -> 0.761\n",
      "10 -> 0.761\n",
      "15 -> 0.764\n",
      "20 -> 0.761\n",
      "50 -> 0.753\n",
      "100 -> 0.756\n",
      "200 -> 0.747\n",
      "\n",
      "depth: 5\n",
      "1 -> 0.766\n",
      "5 -> 0.768\n",
      "10 -> 0.762\n",
      "15 -> 0.772\n",
      "20 -> 0.774\n",
      "50 -> 0.768\n",
      "100 -> 0.763\n",
      "200 -> 0.759\n",
      "\n",
      "depth: 6\n",
      "1 -> 0.745\n",
      "5 -> 0.760\n",
      "10 -> 0.778\n",
      "15 -> 0.785\n",
      "20 -> 0.774\n",
      "50 -> 0.772\n",
      "100 -> 0.776\n",
      "200 -> 0.768\n",
      "\n"
     ]
    }
   ],
   "source": [
    "#iteramos sob os 3 melhores parâmetros de max_depth\n",
    "for m in [4, 5, 6]: \n",
    "    print('depth: %s' % m)\n",
    "    \n",
    "    # encontrando os melhores parâmetros para min_leaf_size \n",
    "    for s in [1, 5, 10, 15, 20, 50, 100, 200]: \n",
    "        dt = DecisionTreeClassifier(max_depth=m, min_samples_leaf=s)\n",
    "        dt.fit(X_train, y_train) \n",
    "        y_pred = dt.predict_proba(X_val)[:, 1]\n",
    "        auc = roc_auc_score(y_val, y_pred)\n",
    "        print('%s -> %.3f' % (s, auc))\n",
    "    \n",
    "    print()\n",
    "        \n",
    "\n"
   ]
  },
  {
   "cell_type": "markdown",
   "id": "68d0bd2e",
   "metadata": {},
   "source": [
    "Depois de executá-lo, vemos que o melhor AUC é de 78,5% com parâmetros min_sample_ leaf =15 e max_depth=6.\n",
    "\n",
    "Como vemos, o valor que usamos para min_leaf_sizeinfluencia o melhor valor de max_depth."
   ]
  },
  {
   "cell_type": "code",
   "execution_count": 33,
   "id": "ec753035",
   "metadata": {},
   "outputs": [
    {
     "data": {
      "text/plain": [
       "DecisionTreeClassifier(max_depth=6, min_samples_leaf=15)"
      ]
     },
     "execution_count": 33,
     "metadata": {},
     "output_type": "execute_result"
    }
   ],
   "source": [
    "# usando os melhores parâmetros para treinar o modelo final: \n",
    "dt = DecisionTreeClassifier(max_depth=6, min_samples_leaf=15)\n",
    "dt.fit(X_train, y_train)"
   ]
  },
  {
   "cell_type": "markdown",
   "id": "116a390f",
   "metadata": {},
   "source": [
    "As árvores de decisão são modelos simples e eficazes, mas tornam-se ainda mais poderosas quando combinamos várias árvores."
   ]
  },
  {
   "cell_type": "markdown",
   "id": "515ea782",
   "metadata": {},
   "source": [
    "### Treinando uma random forest \n",
    "\n",
    "`Random forest` é um algoritmo de aprendizagem de máquina supervisionado que consiste em um conjunto de árvores de decisão. Cada árvore de decisão é treinada separadamente em um subconjunto aleatório dos dados de treinamento. Em seguida, as previsões de todas as árvores são combinadas para gerar uma predição final."
   ]
  },
  {
   "cell_type": "code",
   "execution_count": 34,
   "id": "49015c10",
   "metadata": {},
   "outputs": [],
   "source": [
    "from sklearn.ensemble import RandomForestClassifier"
   ]
  },
  {
   "cell_type": "code",
   "execution_count": 35,
   "id": "14bb77e9",
   "metadata": {},
   "outputs": [
    {
     "data": {
      "text/plain": [
       "RandomForestClassifier(n_estimators=10, random_state=3)"
      ]
     },
     "execution_count": 35,
     "metadata": {},
     "output_type": "execute_result"
    }
   ],
   "source": [
    "rf = RandomForestClassifier(n_estimators=10, random_state=3) # n_estimators é o numero de arvores que queremos ter no conjunto, random_state é a semente (serve para dar o mesmo resultado)\n",
    "rf.fit(X_train, y_train)"
   ]
  },
  {
   "cell_type": "code",
   "execution_count": 36,
   "id": "b58181d1",
   "metadata": {},
   "outputs": [
    {
     "data": {
      "text/plain": [
       "0.7811145285897654"
      ]
     },
     "execution_count": 36,
     "metadata": {},
     "output_type": "execute_result"
    }
   ],
   "source": [
    "# avaliando o desempenho do resultado \n",
    "y_pred = rf.predict_proba(X_val)[:, 1]\n",
    "roc_auc_score(y_val, y_pred)"
   ]
  },
  {
   "cell_type": "markdown",
   "id": "4861e439",
   "metadata": {},
   "source": [
    "obtemos uma AUC de 78%\n",
    "\n",
    "Vamos analisar outros valores para `n_estimators` para ver quantas arvores nós precisamos. "
   ]
  },
  {
   "cell_type": "code",
   "execution_count": 37,
   "id": "c5d39b11",
   "metadata": {},
   "outputs": [
    {
     "name": "stdout",
     "output_type": "stream",
     "text": [
      "10 -> 0.781\n",
      "20 -> 0.801\n",
      "30 -> 0.813\n",
      "40 -> 0.815\n",
      "50 -> 0.816\n",
      "60 -> 0.817\n",
      "70 -> 0.818\n",
      "80 -> 0.818\n",
      "90 -> 0.820\n",
      "100 -> 0.819\n",
      "110 -> 0.819\n",
      "120 -> 0.821\n",
      "130 -> 0.822\n",
      "140 -> 0.822\n",
      "150 -> 0.820\n",
      "160 -> 0.820\n",
      "170 -> 0.819\n",
      "180 -> 0.820\n",
      "190 -> 0.820\n",
      "200 -> 0.820\n"
     ]
    }
   ],
   "source": [
    "aucs = [] # Cria uma lista com resultados AUC\n",
    " \n",
    "for i in range(10, 201, 10):# Treina progressivamente mais árvores em cada iteração\n",
    "    rf = RandomForestClassifier(n_estimators=i, random_state=3)\n",
    "    rf.fit(X_train, y_train)\n",
    "    \n",
    "     # avalia o desempenho \n",
    "    y_pred = rf.predict_proba(X_val)[:, 1]\n",
    "    auc = roc_auc_score(y_val, y_pred)\n",
    "    print('%s -> %.3f' % (i, auc))\n",
    " \n",
    "    # Adiciona a pontuação à lista com outras pontuações\n",
    "    aucs.append(auc)"
   ]
  },
  {
   "cell_type": "code",
   "execution_count": 38,
   "id": "38898bb1",
   "metadata": {},
   "outputs": [
    {
     "data": {
      "text/plain": [
       "Text(0, 0.5, 'AUC')"
      ]
     },
     "execution_count": 38,
     "metadata": {},
     "output_type": "execute_result"
    },
    {
     "data": {
      "image/png": "[encoded data removed]",
      "text/plain": [
       "<Figure size 432x288 with 1 Axes>"
      ]
     },
     "metadata": {
      "needs_background": "light"
     },
     "output_type": "display_data"
    }
   ],
   "source": [
    "# plotando os resultados: \n",
    "plt.plot(range(10, 201, 10), aucs)\n",
    "plt.title('Numero de arvores vs AUC')\n",
    "plt.xlabel('Numero de arvores')\n",
    "plt.ylabel('AUC')"
   ]
  },
  {
   "cell_type": "markdown",
   "id": "94e93ec8",
   "metadata": {},
   "source": [
    "Vemos que o maior desempenho foi de 82% \n",
    "\n",
    "O número de árvores não é o único parâmetro que podemos alterar para obter um melhor desempenho"
   ]
  },
  {
   "cell_type": "markdown",
   "id": "fc01cc6f",
   "metadata": {},
   "source": [
    "## Ajuste de parâmetros para floresta aleatória\n",
    "\n",
    "Um conjunto de floresta aleatória consiste em várias árvores de decisão, portanto, os parâmetros mais importantes que precisamos ajustar para a floresta aleatória são os mesmos:\n",
    "\n",
    "`max_depth`\n",
    "\n",
    "`min_leaf_size`"
   ]
  },
  {
   "cell_type": "code",
   "execution_count": 39,
   "id": "fe792f0f",
   "metadata": {},
   "outputs": [
    {
     "name": "stdout",
     "output_type": "stream",
     "text": [
      "depth 5\n",
      "10 -> 0.788\n",
      "20 -> 0.798\n",
      "30 -> 0.800\n",
      "40 -> 0.800\n",
      "50 -> 0.800\n",
      "60 -> 0.801\n",
      "70 -> 0.802\n",
      "80 -> 0.803\n",
      "90 -> 0.804\n",
      "100 -> 0.804\n",
      "110 -> 0.807\n",
      "120 -> 0.806\n",
      "130 -> 0.808\n",
      "140 -> 0.807\n",
      "150 -> 0.807\n",
      "160 -> 0.807\n",
      "170 -> 0.807\n",
      "180 -> 0.807\n",
      "190 -> 0.807\n",
      "200 -> 0.807\n",
      "\n",
      "depth 10\n",
      "10 -> 0.791\n",
      "20 -> 0.808\n",
      "30 -> 0.812\n",
      "40 -> 0.818\n",
      "50 -> 0.817\n",
      "60 -> 0.819\n",
      "70 -> 0.820\n",
      "80 -> 0.820\n",
      "90 -> 0.820\n",
      "100 -> 0.821\n",
      "110 -> 0.823\n",
      "120 -> 0.823\n",
      "130 -> 0.825\n",
      "140 -> 0.824\n",
      "150 -> 0.824\n",
      "160 -> 0.825\n",
      "170 -> 0.825\n",
      "180 -> 0.825\n",
      "190 -> 0.825\n",
      "200 -> 0.825\n",
      "\n",
      "depth 20\n",
      "10 -> 0.776\n",
      "20 -> 0.803\n",
      "30 -> 0.813\n",
      "40 -> 0.817\n",
      "50 -> 0.815\n",
      "60 -> 0.813\n",
      "70 -> 0.814\n",
      "80 -> 0.815\n",
      "90 -> 0.814\n",
      "100 -> 0.815\n",
      "110 -> 0.817\n",
      "120 -> 0.816\n",
      "130 -> 0.818\n",
      "140 -> 0.818\n",
      "150 -> 0.818\n",
      "160 -> 0.818\n",
      "170 -> 0.817\n",
      "180 -> 0.817\n",
      "190 -> 0.817\n",
      "200 -> 0.818\n",
      "\n"
     ]
    }
   ],
   "source": [
    "# max_depth\n",
    "all_aucs = {} # cria um dicionário para armazenar os resultados AUC\n",
    "\n",
    "# iteração entre diferentes valores de depth\n",
    "for depth in [5, 10, 20]: \n",
    "    print('depth %s' % depth)\n",
    "    aucs = [] # Cria uma lista com os resultados AUC para o nível de profundidade atual\n",
    "    \n",
    "    for i in range(10, 201, 10): \n",
    "        rf = RandomForestClassifier(n_estimators=i, max_depth=depth, random_state=1)\n",
    "        rf.fit(X_train, y_train)\n",
    "        y_pred = rf.predict_proba(X_val)[:, 1]\n",
    "        auc = roc_auc_score(y_val, y_pred)\n",
    "        print('%s -> %.3f' % (i, auc))\n",
    "        aucs.append(auc)\n",
    "    \n",
    "        \n",
    "    all_aucs[depth] = aucs\n",
    "    print()\n",
    "    "
   ]
  },
  {
   "cell_type": "markdown",
   "id": "79ed1117",
   "metadata": {},
   "source": [
    "Agora para cada valor de max_depth, temos uma série de pontuações AUC. Podemos plotá-los agora:"
   ]
  },
  {
   "cell_type": "code",
   "execution_count": 40,
   "id": "a96c9ca9",
   "metadata": {},
   "outputs": [
    {
     "data": {
      "text/plain": [
       "<matplotlib.legend.Legend at 0x25f50717c40>"
      ]
     },
     "execution_count": 40,
     "metadata": {},
     "output_type": "execute_result"
    },
    {
     "data": {
      "image/png": "[encoded data removed]",
      "text/plain": [
       "<Figure size 432x288 with 1 Axes>"
      ]
     },
     "metadata": {
      "needs_background": "light"
     },
     "output_type": "display_data"
    }
   ],
   "source": [
    "num_trees = list(range(10, 201, 10))\n",
    "plt.plot(num_trees, all_aucs[5], label='depth=5')\n",
    "plt.plot(num_trees, all_aucs[10], label='depth=10')\n",
    "plt.plot(num_trees, all_aucs[20], label='depth=20')\n",
    "plt.legend()"
   ]
  },
  {
   "cell_type": "markdown",
   "id": "6b68beed",
   "metadata": {},
   "source": [
    "Com max_depth=10, a AUC ultrapassa os 82%, enquanto que para outros valores tem um desempenho pior.\n",
    "\n",
    "Agora vamos sintonizar min_samples_leaf. Definimos o valor para o parâmetro max_depth da etapa anterior e, em seguida, siga a mesma abordagem anterior para determinar o melhor valor para min_samples_leaf:"
   ]
  },
  {
   "cell_type": "code",
   "execution_count": 41,
   "id": "0774cb2d",
   "metadata": {},
   "outputs": [
    {
     "name": "stdout",
     "output_type": "stream",
     "text": [
      "min_samples_leaf: 3\n",
      "10 -> 0.811\n",
      "30 -> 0.823\n",
      "50 -> 0.823\n",
      "70 -> 0.822\n",
      "90 -> 0.823\n",
      "110 -> 0.823\n",
      "130 -> 0.824\n",
      "150 -> 0.825\n",
      "170 -> 0.825\n",
      "190 -> 0.825\n",
      "\n",
      "min_samples_leaf: 5\n",
      "10 -> 0.813\n",
      "30 -> 0.818\n",
      "50 -> 0.821\n",
      "70 -> 0.822\n",
      "90 -> 0.822\n",
      "110 -> 0.825\n",
      "130 -> 0.825\n",
      "150 -> 0.825\n",
      "170 -> 0.825\n",
      "190 -> 0.826\n",
      "\n",
      "min_samples_leaf: 10\n",
      "10 -> 0.810\n",
      "30 -> 0.822\n",
      "50 -> 0.822\n",
      "70 -> 0.819\n",
      "90 -> 0.820\n",
      "110 -> 0.820\n",
      "130 -> 0.821\n",
      "150 -> 0.820\n",
      "170 -> 0.820\n",
      "190 -> 0.820\n",
      "\n"
     ]
    }
   ],
   "source": [
    "all_aucs = {}\n",
    " \n",
    "for m in [3, 5, 10]:\n",
    "    print('min_samples_leaf: %s' % m)\n",
    "    aucs = []\n",
    " \n",
    "    for i in range(10, 201, 20):\n",
    "        rf = RandomForestClassifier(n_estimators=i, max_depth=10, min_samples_leaf=m, random_state=1)\n",
    "        rf.fit(X_train, y_train)\n",
    "        y_pred = rf.predict_proba(X_val)[:, 1]\n",
    "        auc = roc_auc_score(y_val, y_pred)\n",
    "        print('%s -> %.3f' % (i, auc))\n",
    "        aucs.append(auc)\n",
    "   \n",
    "    all_aucs[m] = aucs\n",
    "    print()"
   ]
  },
  {
   "cell_type": "code",
   "execution_count": 42,
   "id": "ac7e8307",
   "metadata": {},
   "outputs": [
    {
     "data": {
      "text/plain": [
       "<matplotlib.legend.Legend at 0x25f5177e820>"
      ]
     },
     "execution_count": 42,
     "metadata": {},
     "output_type": "execute_result"
    },
    {
     "data": {
      "image/png": "[encoded data removed]",
      "text/plain": [
       "<Figure size 432x288 with 1 Axes>"
      ]
     },
     "metadata": {
      "needs_background": "light"
     },
     "output_type": "display_data"
    }
   ],
   "source": [
    "# Vamos plotar: \n",
    "num_trees = list(range(10, 201, 20))\n",
    "plt.plot(num_trees, all_aucs[3], label='min_samples_leaf=3')\n",
    "plt.plot(num_trees, all_aucs[5], label='min_samples_leaf=5')\n",
    "plt.plot(num_trees, all_aucs[10], label='min_samples_leaf=10')\n",
    "plt.legend()"
   ]
  },
  {
   "cell_type": "markdown",
   "id": "35d99d58",
   "metadata": {},
   "source": [
    "Vemos que AUC é um pouco melhor para pequenos valores de `min_samples_leafe` o melhor valor é 5.\n",
    "\n",
    "Assim, os melhores parâmetros de floresta aleatória para o nosso problema são\n",
    "\n",
    "* `max_depth=10`\n",
    "* `min_samples_leaf=5`\n",
    "\n",
    "Alcançamos a melhor AUC com 200 árvores, então devemos definir o parâmetro `n_estimators` para 200"
   ]
  },
  {
   "cell_type": "code",
   "execution_count": 43,
   "id": "d60b1e4b",
   "metadata": {},
   "outputs": [],
   "source": [
    "# treinando o modelo final: \n",
    "rf = RandomForestClassifier(n_estimators=200, max_depth=10, min_samples_leaf=5, random_state=1)"
   ]
  },
  {
   "cell_type": "markdown",
   "id": "7d4927ed",
   "metadata": {},
   "source": [
    "Para tornar um conjunto útil, as árvores em uma floresta aleatória devem ser diferentes umas das outras. Isso é feito por: \n",
    "\n",
    "**_Selecionar aleatoriamente um subconjunto diferente de recursos para cada árvore_**\n"
   ]
  },
  {
   "cell_type": "markdown",
   "id": "44864de9",
   "metadata": {},
   "source": [
    "## Gradient boosting\n",
    "\n",
    "A floresta aleatória não é a única maneira de combinar várias árvores de decisão. Há uma abordagem diferente: aumento de gradiente (gradient boosting).\n",
    "\n",
    "Podemos treinar modelos sequencialmente – cada próximo modelo tenta corrigir os erros do anterior:\n",
    "\n",
    "* Treine o primeiro modelo.\n",
    "* Veja os erros que ele comete.\n",
    "* Treine outro modelo que corrija esses erros.\n",
    "* Olhe para os erros novamente; repetir sequencialmente.\n",
    "\n",
    "Essa forma de combinar modelos é chamada de `boosting`. O `gradient boosting` é uma variação particular dessa abordagem que funciona especialmente bem com árvores\n",
    "\n",
    "Temos muitas boas implementações do modelo de aumento de gradiente: GradientBoostingClassifierde Scikit-learn, XGBoost, LightGBM e CatBoost. Desta vez, vamos usar o XGBoost."
   ]
  },
  {
   "cell_type": "code",
   "execution_count": 44,
   "id": "5e9a6bae",
   "metadata": {},
   "outputs": [
    {
     "name": "stdout",
     "output_type": "stream",
     "text": [
      "Requirement already satisfied: xgboost in c:\\users\\55119\\anaconda3\\lib\\site-packages (1.7.6)\n",
      "Requirement already satisfied: numpy in c:\\users\\55119\\anaconda3\\lib\\site-packages (from xgboost) (1.21.5)\n",
      "Requirement already satisfied: scipy in c:\\users\\55119\\anaconda3\\lib\\site-packages (from xgboost) (1.7.3)\n",
      "Note: you may need to restart the kernel to use updated packages.\n"
     ]
    }
   ],
   "source": [
    "pip install xgboost"
   ]
  },
  {
   "cell_type": "code",
   "execution_count": 45,
   "id": "27dadad7",
   "metadata": {},
   "outputs": [],
   "source": [
    "import xgboost as xgb"
   ]
  },
  {
   "cell_type": "markdown",
   "id": "86bd77b0",
   "metadata": {},
   "source": [
    "Antes de podermos treinar um modelo XGBoost, precisamos agrupar nossos dados em `DMatrix`—uma estrutura de dados especial para encontrar divisões de forma eficiente. "
   ]
  },
  {
   "cell_type": "code",
   "execution_count": 46,
   "id": "a6618a4e",
   "metadata": {},
   "outputs": [],
   "source": [
    "dtrain = xgb.DMatrix(X_train, label=y_train, feature_names=dv.feature_names_)"
   ]
  },
  {
   "cell_type": "markdown",
   "id": "881f30fa",
   "metadata": {},
   "source": [
    "Ao criar uma instância de DMatrix, passamos três parâmetros:\n",
    "\n",
    "* `X_train`: a matriz de recursos\n",
    "* `y_train`: a variável de destino\n",
    "* `feature_names`: os nomes dos recursos em X_train\n",
    "\n",
    "Vamos fazer o mesmo para o conjunto de dados de validação:"
   ]
  },
  {
   "cell_type": "code",
   "execution_count": 47,
   "id": "870cc1fd",
   "metadata": {},
   "outputs": [],
   "source": [
    "dval = xgb.DMatrix(X_val, label=y_val, feature_names=dv.feature_names_)"
   ]
  },
  {
   "cell_type": "markdown",
   "id": "ae3d3eb6",
   "metadata": {},
   "source": [
    "Especificando parâmetros para treinamento\n",
    "https://xgboost.readthedocs.io/en/latest/parameter.html"
   ]
  },
  {
   "cell_type": "code",
   "execution_count": 48,
   "id": "4508f982",
   "metadata": {},
   "outputs": [],
   "source": [
    "xgb_params = {\n",
    "    'eta': 0.3, #learning rate \n",
    "    'max_depth': 6,# especifica a profundidade maxima de cada árvore\n",
    "    'min_child_weight': 1, # Define a soma mínima do peso das instâncias necessária para criar uma nova partição em um nó folha da árvore.  Controla a complexidade do modelo, evitando particionamento de nós que têm um peso muito baixo. \n",
    " \n",
    "    'objective': 'binary:logistic', # especifica a tarefa de aprendizagem, 'binary:logistic' é usado para problemas de classificação binária, otimizando a função logística\n",
    "    'nthread': 8, # Especifica o número de threads paralelas a serem usadas durante o treinamento\n",
    "    'seed': 1, #  Define uma semente (seed) para garantir a reprodutibilidade dos resultados.\n",
    "    'silent': 1 # Controla a verbosidade do algoritmo. Quando definido como 1, o XGBoost não imprimirá mensagens durante o treinamento.\n",
    "}"
   ]
  },
  {
   "cell_type": "code",
   "execution_count": 49,
   "id": "bd571ee1",
   "metadata": {},
   "outputs": [
    {
     "name": "stdout",
     "output_type": "stream",
     "text": [
      "[14:09:19] WARNING: C:\\buildkite-agent\\builds\\buildkite-windows-cpu-autoscaling-group-i-0fdc6d574b9c0d168-1\\xgboost\\xgboost-ci-windows\\src\\learner.cc:767: \n",
      "Parameters: { \"silent\" } are not used.\n",
      "\n"
     ]
    }
   ],
   "source": [
    "model = xgb.train(xgb_params, dtrain, num_boost_round=10) #num_boost_round = numero de arvores para treinar "
   ]
  },
  {
   "cell_type": "code",
   "execution_count": 50,
   "id": "e4678018",
   "metadata": {},
   "outputs": [],
   "source": [
    "# avaliando o modelo: fazer previsão nos dados de validação\n",
    "y_pred = model.predict(dval)"
   ]
  },
  {
   "cell_type": "code",
   "execution_count": 51,
   "id": "c5a87bc9",
   "metadata": {},
   "outputs": [
    {
     "data": {
      "text/plain": [
       "array([0.08926772, 0.0468099 , 0.09692743, 0.17261842, 0.05435968,\n",
       "       0.12576081, 0.08033007, 0.61870354, 0.486538  , 0.04056795],\n",
       "      dtype=float32)"
      ]
     },
     "execution_count": 51,
     "metadata": {},
     "output_type": "execute_result"
    }
   ],
   "source": [
    "# visualizando as previsões:\n",
    "y_pred[:10]"
   ]
  },
  {
   "cell_type": "markdown",
   "id": "8eb5c55c",
   "metadata": {},
   "source": [
    "O resultado, `y_pred`, é uma matriz NumPy unidimensional com previsões: a pontuação de risco para cada cliente no conjunto de dados de validação"
   ]
  },
  {
   "cell_type": "code",
   "execution_count": 52,
   "id": "01da2f01",
   "metadata": {},
   "outputs": [
    {
     "data": {
      "text/plain": [
       "0.8152745150274878"
      ]
     },
     "execution_count": 52,
     "metadata": {},
     "output_type": "execute_result"
    }
   ],
   "source": [
    "#calculando o auc \n",
    "roc_auc_score(y_val, y_pred)"
   ]
  },
  {
   "cell_type": "markdown",
   "id": "a40f2809",
   "metadata": {},
   "source": [
    "Depois de executá-lo, obtemos 81,5%. Este é um resultado bastante bom, mas ainda é um pouco pior do que nosso melhor modelo de random forest  (82,5%)."
   ]
  },
  {
   "cell_type": "markdown",
   "id": "01b776b3",
   "metadata": {},
   "source": [
    "## Monitoramento de desempenho do modelo\n",
    "\n",
    "Para ter uma ideia de como a AUC muda à medida que o número de árvores cresce, podemos usar uma lista de observação - um recurso integrado no XGBoost para monitorar o desempenho do modelo.\n",
    "\n",
    "Uma watchlist é uma lista Python com tuplas. Cada tupla contém uma DMatrix e seu nome. Normalmente fazemos assim :"
   ]
  },
  {
   "cell_type": "code",
   "execution_count": 53,
   "id": "1a4d2bbc",
   "metadata": {},
   "outputs": [],
   "source": [
    "watchlist = [(dtrain, 'train'), (dval, 'val')]"
   ]
  },
  {
   "cell_type": "code",
   "execution_count": 54,
   "id": "97e72123",
   "metadata": {},
   "outputs": [],
   "source": [
    "# especificando a métrica usada na lista de parâmetros: \n",
    "\n",
    "xgb_params = {\n",
    "    'eta': 0.3,\n",
    "    'max_depth': 6,\n",
    "    'min_child_weight': 1,\n",
    " \n",
    "    'objective': 'binary:logistic',\n",
    "    'eval_metric': 'auc', # here, Define a métrica de avaliação para o AUC\n",
    "    'nthread': 8,\n",
    "    'seed': 1,\n",
    "    'silent': 1\n",
    "}"
   ]
  },
  {
   "cell_type": "markdown",
   "id": "3ecea620",
   "metadata": {},
   "source": [
    "Para usar a lista de observação durante o treinamento, precisamos especificar dois argumentos extras para o função train:\n",
    "\n",
    "* `evals`: a lista de observação.\n",
    "* `verbose_eval`: com que frequência imprimimos a métrica. Se definirmos como “10”, veremos o resultado após cada 10º passo."
   ]
  },
  {
   "cell_type": "code",
   "execution_count": 56,
   "id": "36028d55",
   "metadata": {},
   "outputs": [
    {
     "name": "stdout",
     "output_type": "stream",
     "text": [
      "[14:23:55] WARNING: C:\\buildkite-agent\\builds\\buildkite-windows-cpu-autoscaling-group-i-0fdc6d574b9c0d168-1\\xgboost\\xgboost-ci-windows\\src\\learner.cc:767: \n",
      "Parameters: { \"silent\" } are not used.\n",
      "\n",
      "[0]\ttrain-auc:0.86300\tval-auc:0.76818\n",
      "[10]\ttrain-auc:0.95002\tval-auc:0.81558\n",
      "[20]\ttrain-auc:0.97316\tval-auc:0.81775\n",
      "[30]\ttrain-auc:0.98772\tval-auc:0.81787\n",
      "[40]\ttrain-auc:0.99456\tval-auc:0.81387\n",
      "[50]\ttrain-auc:0.99688\tval-auc:0.81128\n",
      "[60]\ttrain-auc:0.99889\tval-auc:0.80801\n",
      "[70]\ttrain-auc:0.99944\tval-auc:0.80732\n",
      "[80]\ttrain-auc:0.99985\tval-auc:0.80677\n",
      "[90]\ttrain-auc:0.99992\tval-auc:0.80637\n",
      "[99]\ttrain-auc:0.99998\tval-auc:0.80546\n"
     ]
    }
   ],
   "source": [
    "# vamos treinar o xgboosta \n",
    "model = xgb.train(xgb_params, dtrain,\n",
    "                  num_boost_round=100,\n",
    "                  evals=watchlist, verbose_eval=10)"
   ]
  },
  {
   "cell_type": "markdown",
   "id": "55c0a55c",
   "metadata": {},
   "source": [
    "## Ajuste de parâmetros do xgboost \n",
    "\n",
    "\n",
    "Estamos interessados ​​principalmente nos três primeiros parâmetros. Esses parâmetros controlam o processo de treinamento:\n",
    "\n",
    "**Taxa de Aprendizagem**\n",
    "\n",
    "`eta`: Taxa de Aprendizagem. As árvores de decisão e a floresta aleatória não possuem esse parâmetro. Cobriremos isso mais tarde nesta seção quando o ajustarmos\n",
    "\n",
    "No boosting, cada árvore tenta corrigir os erros das iterações anteriores. A taxa de aprendizado determina o peso dessa correção. Se tivermos um grande valor para eta, a correção supera significativamente as previsões anteriores. Por outro lado, se o valor for pequeno, apenas uma pequena fração dessa correção é utilizada."
   ]
  },
  {
   "cell_type": "code",
   "execution_count": 57,
   "id": "8c52f7a4",
   "metadata": {},
   "outputs": [],
   "source": [
    "xgb_params = {\n",
    "    'eta': 0.1,\n",
    "    'max_depth': 6,\n",
    "    'min_child_weight': 1,\n",
    "\n",
    "    'objective': 'binary:logistic',\n",
    "    'eval_metric': 'auc',\n",
    "    'nthread': 8,\n",
    "    'seed': 1,\n",
    "    'silent': 1\n",
    "}"
   ]
  },
  {
   "cell_type": "code",
   "execution_count": 58,
   "id": "a393892b",
   "metadata": {},
   "outputs": [
    {
     "name": "stdout",
     "output_type": "stream",
     "text": [
      "[14:36:05] WARNING: C:\\buildkite-agent\\builds\\buildkite-windows-cpu-autoscaling-group-i-0fdc6d574b9c0d168-1\\xgboost\\xgboost-ci-windows\\src\\learner.cc:767: \n",
      "Parameters: { \"silent\" } are not used.\n",
      "\n",
      "[0]\ttrain-auc:0.86300\tval-auc:0.76818\n",
      "[10]\ttrain-auc:0.91558\tval-auc:0.80009\n",
      "[20]\ttrain-auc:0.93933\tval-auc:0.80920\n",
      "[30]\ttrain-auc:0.95411\tval-auc:0.81557\n",
      "[40]\ttrain-auc:0.96332\tval-auc:0.81843\n",
      "[50]\ttrain-auc:0.97014\tval-auc:0.82348\n",
      "[60]\ttrain-auc:0.97641\tval-auc:0.82446\n",
      "[70]\ttrain-auc:0.98124\tval-auc:0.82477\n",
      "[80]\ttrain-auc:0.98567\tval-auc:0.82329\n",
      "[90]\ttrain-auc:0.98818\tval-auc:0.82363\n",
      "[100]\ttrain-auc:0.99056\tval-auc:0.82371\n",
      "[110]\ttrain-auc:0.99305\tval-auc:0.82355\n",
      "[120]\ttrain-auc:0.99434\tval-auc:0.82208\n",
      "[130]\ttrain-auc:0.99510\tval-auc:0.82079\n",
      "[140]\ttrain-auc:0.99606\tval-auc:0.82025\n",
      "[150]\ttrain-auc:0.99690\tval-auc:0.81946\n",
      "[160]\ttrain-auc:0.99741\tval-auc:0.81907\n",
      "[170]\ttrain-auc:0.99794\tval-auc:0.81839\n",
      "[180]\ttrain-auc:0.99832\tval-auc:0.81830\n",
      "[190]\ttrain-auc:0.99874\tval-auc:0.81711\n",
      "[200]\ttrain-auc:0.99919\tval-auc:0.81770\n",
      "[210]\ttrain-auc:0.99938\tval-auc:0.81719\n",
      "[220]\ttrain-auc:0.99951\tval-auc:0.81622\n",
      "[230]\ttrain-auc:0.99969\tval-auc:0.81467\n",
      "[240]\ttrain-auc:0.99979\tval-auc:0.81416\n",
      "[250]\ttrain-auc:0.99987\tval-auc:0.81412\n",
      "[260]\ttrain-auc:0.99990\tval-auc:0.81392\n",
      "[270]\ttrain-auc:0.99994\tval-auc:0.81354\n",
      "[280]\ttrain-auc:0.99995\tval-auc:0.81286\n",
      "[290]\ttrain-auc:0.99997\tval-auc:0.81201\n",
      "[300]\ttrain-auc:0.99998\tval-auc:0.81187\n",
      "[310]\ttrain-auc:0.99998\tval-auc:0.81189\n",
      "[320]\ttrain-auc:1.00000\tval-auc:0.81104\n",
      "[330]\ttrain-auc:1.00000\tval-auc:0.81170\n",
      "[340]\ttrain-auc:1.00000\tval-auc:0.81194\n",
      "[350]\ttrain-auc:1.00000\tval-auc:0.81146\n",
      "[360]\ttrain-auc:1.00000\tval-auc:0.81152\n",
      "[370]\ttrain-auc:1.00000\tval-auc:0.81138\n",
      "[380]\ttrain-auc:1.00000\tval-auc:0.81186\n",
      "[390]\ttrain-auc:1.00000\tval-auc:0.81184\n",
      "[400]\ttrain-auc:1.00000\tval-auc:0.81201\n",
      "[410]\ttrain-auc:1.00000\tval-auc:0.81180\n",
      "[420]\ttrain-auc:1.00000\tval-auc:0.81205\n",
      "[430]\ttrain-auc:1.00000\tval-auc:0.81188\n",
      "[440]\ttrain-auc:1.00000\tval-auc:0.81184\n",
      "[450]\ttrain-auc:1.00000\tval-auc:0.81214\n",
      "[460]\ttrain-auc:1.00000\tval-auc:0.81200\n",
      "[470]\ttrain-auc:1.00000\tval-auc:0.81242\n",
      "[480]\ttrain-auc:1.00000\tval-auc:0.81262\n",
      "[490]\ttrain-auc:1.00000\tval-auc:0.81220\n",
      "[499]\ttrain-auc:1.00000\tval-auc:0.81226\n"
     ]
    }
   ],
   "source": [
    "# treinando o xgboosta com 500 iterações \n",
    "model = xgb.train(xgb_params, dtrain,\n",
    "                  num_boost_round=500, verbose_eval=10,\n",
    "                  evals=watchlist)"
   ]
  },
  {
   "cell_type": "markdown",
   "id": "eeba2151",
   "metadata": {},
   "source": [
    "Ao executá-lo, vemos que a melhor pontuação de validação é de 82,4%\n",
    "\n",
    "O próximo parâmetro que ajustamos é max_depth. O valor padrão é 6, então podemos tentar\n",
    "\n",
    "Um valor menor; por exemplo, 3\n",
    "Um valor mais alto; por exemplo, 10"
   ]
  },
  {
   "cell_type": "code",
   "execution_count": 61,
   "id": "8c9e2d4e",
   "metadata": {},
   "outputs": [
    {
     "name": "stdout",
     "output_type": "stream",
     "text": [
      "[14:42:33] WARNING: C:\\buildkite-agent\\builds\\buildkite-windows-cpu-autoscaling-group-i-0fdc6d574b9c0d168-1\\xgboost\\xgboost-ci-windows\\src\\learner.cc:767: \n",
      "Parameters: { \"silent\" } are not used.\n",
      "\n",
      "[0]\ttrain-auc:0.77424\tval-auc:0.73571\n",
      "[10]\ttrain-auc:0.84733\tval-auc:0.78964\n",
      "[20]\ttrain-auc:0.86359\tval-auc:0.80617\n",
      "[30]\ttrain-auc:0.87855\tval-auc:0.81478\n",
      "[40]\ttrain-auc:0.88701\tval-auc:0.81990\n",
      "[50]\ttrain-auc:0.89458\tval-auc:0.82595\n",
      "[60]\ttrain-auc:0.90159\tval-auc:0.82806\n",
      "[70]\ttrain-auc:0.90650\tval-auc:0.82801\n",
      "[80]\ttrain-auc:0.91110\tval-auc:0.82940\n",
      "[90]\ttrain-auc:0.91428\tval-auc:0.82997\n",
      "[100]\ttrain-auc:0.91801\tval-auc:0.83221\n",
      "[110]\ttrain-auc:0.92205\tval-auc:0.83290\n",
      "[120]\ttrain-auc:0.92460\tval-auc:0.83285\n",
      "[130]\ttrain-auc:0.92843\tval-auc:0.83414\n",
      "[140]\ttrain-auc:0.93100\tval-auc:0.83463\n",
      "[150]\ttrain-auc:0.93296\tval-auc:0.83525\n",
      "[160]\ttrain-auc:0.93551\tval-auc:0.83554\n",
      "[170]\ttrain-auc:0.93788\tval-auc:0.83638\n",
      "[180]\ttrain-auc:0.93971\tval-auc:0.83657\n",
      "[190]\ttrain-auc:0.94203\tval-auc:0.83562\n",
      "[200]\ttrain-auc:0.94334\tval-auc:0.83512\n",
      "[210]\ttrain-auc:0.94501\tval-auc:0.83546\n",
      "[220]\ttrain-auc:0.94693\tval-auc:0.83508\n",
      "[230]\ttrain-auc:0.94839\tval-auc:0.83417\n",
      "[240]\ttrain-auc:0.94999\tval-auc:0.83336\n",
      "[250]\ttrain-auc:0.95088\tval-auc:0.83341\n",
      "[260]\ttrain-auc:0.95235\tval-auc:0.83379\n",
      "[270]\ttrain-auc:0.95333\tval-auc:0.83389\n",
      "[280]\ttrain-auc:0.95470\tval-auc:0.83288\n",
      "[290]\ttrain-auc:0.95575\tval-auc:0.83274\n",
      "[300]\ttrain-auc:0.95733\tval-auc:0.83173\n",
      "[310]\ttrain-auc:0.95886\tval-auc:0.83222\n",
      "[320]\ttrain-auc:0.95972\tval-auc:0.83201\n",
      "[330]\ttrain-auc:0.96091\tval-auc:0.83139\n",
      "[340]\ttrain-auc:0.96172\tval-auc:0.83101\n",
      "[350]\ttrain-auc:0.96298\tval-auc:0.83059\n",
      "[360]\ttrain-auc:0.96416\tval-auc:0.83034\n",
      "[370]\ttrain-auc:0.96539\tval-auc:0.82945\n",
      "[380]\ttrain-auc:0.96669\tval-auc:0.82905\n",
      "[390]\ttrain-auc:0.96785\tval-auc:0.82876\n",
      "[400]\ttrain-auc:0.96875\tval-auc:0.82846\n",
      "[410]\ttrain-auc:0.96983\tval-auc:0.82744\n",
      "[420]\ttrain-auc:0.97055\tval-auc:0.82764\n",
      "[430]\ttrain-auc:0.97115\tval-auc:0.82695\n",
      "[440]\ttrain-auc:0.97213\tval-auc:0.82659\n",
      "[450]\ttrain-auc:0.97303\tval-auc:0.82662\n",
      "[460]\ttrain-auc:0.97357\tval-auc:0.82642\n",
      "[470]\ttrain-auc:0.97421\tval-auc:0.82591\n",
      "[480]\ttrain-auc:0.97497\tval-auc:0.82635\n",
      "[490]\ttrain-auc:0.97576\tval-auc:0.82604\n",
      "[499]\ttrain-auc:0.97642\tval-auc:0.82599\n"
     ]
    }
   ],
   "source": [
    "xgb_params = {\n",
    "    'eta': 0.1,\n",
    "    'max_depth': 3,\n",
    "    'min_child_weight': 1,\n",
    " \n",
    "    'objective': 'binary:logistic',\n",
    "    'eval_metric': 'auc',\n",
    "    'nthread': 8,\n",
    "    'seed': 1,\n",
    "    'silent': 1\n",
    "}\n",
    "\n",
    "model = xgb.train(xgb_params, dtrain,\n",
    "                  num_boost_round=500, verbose_eval=10,\n",
    "                  evals=watchlist)"
   ]
  },
  {
   "cell_type": "markdown",
   "id": "580009cf",
   "metadata": {},
   "source": [
    "A melhor AUC que obtemos com 3 é de 83,6%.\n",
    "Em seguida, com 10. Nesse caso, o melhor valor é 81,1% .\n",
    "\n",
    "O próximo parâmetro que ajustamos é min_child_weight. É o mesmo que min_leaf_sizenas árvores de decisão do Scikit-learn: controla o número mínimo de observações que uma árvore pode ter em uma folha.\n",
    "\n",
    "* Para min_child_weight=1, AUC é de 83,6%.\n",
    "* Para min_child_weight=10, AUC é de 83,3%.\n",
    "* Para min_child_weight=30, AUC é de 83,5%."
   ]
  },
  {
   "cell_type": "code",
   "execution_count": 63,
   "id": "261d4425",
   "metadata": {},
   "outputs": [
    {
     "name": "stdout",
     "output_type": "stream",
     "text": [
      "[14:46:21] WARNING: C:\\buildkite-agent\\builds\\buildkite-windows-cpu-autoscaling-group-i-0fdc6d574b9c0d168-1\\xgboost\\xgboost-ci-windows\\src\\learner.cc:767: \n",
      "Parameters: { \"silent\" } are not used.\n",
      "\n",
      "[0]\ttrain-auc:0.77424\tval-auc:0.73571\n",
      "[10]\ttrain-auc:0.84733\tval-auc:0.78964\n",
      "[20]\ttrain-auc:0.86359\tval-auc:0.80617\n",
      "[30]\ttrain-auc:0.87855\tval-auc:0.81478\n",
      "[40]\ttrain-auc:0.88701\tval-auc:0.81990\n",
      "[50]\ttrain-auc:0.89458\tval-auc:0.82595\n",
      "[60]\ttrain-auc:0.90159\tval-auc:0.82806\n",
      "[70]\ttrain-auc:0.90650\tval-auc:0.82801\n",
      "[80]\ttrain-auc:0.91110\tval-auc:0.82940\n",
      "[90]\ttrain-auc:0.91428\tval-auc:0.82997\n",
      "[100]\ttrain-auc:0.91801\tval-auc:0.83221\n",
      "[110]\ttrain-auc:0.92205\tval-auc:0.83290\n",
      "[120]\ttrain-auc:0.92460\tval-auc:0.83285\n",
      "[130]\ttrain-auc:0.92843\tval-auc:0.83414\n",
      "[140]\ttrain-auc:0.93100\tval-auc:0.83463\n",
      "[150]\ttrain-auc:0.93296\tval-auc:0.83525\n",
      "[160]\ttrain-auc:0.93551\tval-auc:0.83554\n",
      "[170]\ttrain-auc:0.93788\tval-auc:0.83638\n",
      "[180]\ttrain-auc:0.93971\tval-auc:0.83657\n",
      "[189]\ttrain-auc:0.94177\tval-auc:0.83583\n"
     ]
    }
   ],
   "source": [
    "# parâmetros finais do modelo: \n",
    "xgb_params = {\n",
    "    'eta': 0.1,\n",
    "    'max_depth': 3,\n",
    "    'min_child_weight': 1,\n",
    " \n",
    "    'objective': 'binary:logistic',\n",
    "    'eval_metric': 'auc',\n",
    "    'nthread': 8,\n",
    "    'seed': 1,\n",
    "    'silent': 1\n",
    "}\n",
    "\n",
    "model = xgb.train(xgb_params, dtrain,\n",
    "                  num_boost_round=190, verbose_eval=10,\n",
    "                  evals=watchlist)"
   ]
  },
  {
   "cell_type": "markdown",
   "id": "6ef91cad",
   "metadata": {},
   "source": [
    "O melhor que o modelo de floresta aleatória (random forest) foi capaz de obter 82,5% de AUC, enquanto o melhor que o modelo de aumento de gradiente conseguiu foi 1% a mais (83,6%) ."
   ]
  },
  {
   "cell_type": "markdown",
   "id": "699243b6",
   "metadata": {},
   "source": [
    "## Testando o modelo final\n",
    "\n",
    "Ainda precisamos fazer duas coisas antes de podermos usá-lo:\n",
    "\n",
    "* Retreine o modelo final em conjuntos de dados de treinamento e validação combinados. Não precisamos mais do conjunto de dados de validação, então podemos usar mais dados para treinamento, o que tornará o modelo um pouco melhor.\n",
    "* Teste o modelo no conjunto de teste. Esta é a parte dos dados que mantivemos de lado desde o início. Agora, nós o usamos para garantir que o modelo não tenha superajustado e tenha um bom desempenho em dados completamente invisíveis.\n",
    "\n",
    "Os próximos passos são:\n",
    "\n",
    "* Aplique o mesmo pré-processamento para df_full_traine df_testcomo fizemos para df_traine df_val. Como resultado, obtemos as matrizes de atributos X_traine X_testbem como nossas variáveis ​​de destino y_traine y_test.\n",
    "* Treine um modelo no conjunto de dados combinado com os parâmetros que selecionamos anteriormente.\n",
    "* Aplique o modelo aos dados de teste para obter as previsões de teste.\n",
    "* Verifique se o modelo tem um bom desempenho e não superajusta."
   ]
  },
  {
   "cell_type": "code",
   "execution_count": 64,
   "id": "f6990d5b",
   "metadata": {},
   "outputs": [],
   "source": [
    "#criando a variavel de destino \n",
    "y_train = (df_train_full.status == 'default').values\n",
    "y_test = (df_test.status == 'default').values"
   ]
  },
  {
   "cell_type": "code",
   "execution_count": 65,
   "id": "e1618839",
   "metadata": {},
   "outputs": [],
   "source": [
    "# removendo a variavel de destino \n",
    "del df_train_full['status']\n",
    "del df_test['status']"
   ]
  },
  {
   "cell_type": "code",
   "execution_count": 66,
   "id": "9b721cac",
   "metadata": {},
   "outputs": [],
   "source": [
    "#convertemos o df em listas de dicionarios\n",
    "dict_train = df_train_full.fillna(0).to_dict(orient='records')\n",
    "dict_test = df_test.fillna(0).to_dict(orient='records')\n",
    "\n",
    "# codificação one-hot \n",
    "dv = DictVectorizer(sparse=False)\n",
    "X_train = dv.fit_transform(dict_train)\n",
    "X_test = dv.transform(dict_test)"
   ]
  },
  {
   "cell_type": "code",
   "execution_count": 67,
   "id": "41f60e06",
   "metadata": {},
   "outputs": [
    {
     "name": "stdout",
     "output_type": "stream",
     "text": [
      "[14:56:23] WARNING: C:\\buildkite-agent\\builds\\buildkite-windows-cpu-autoscaling-group-i-0fdc6d574b9c0d168-1\\xgboost\\xgboost-ci-windows\\src\\learner.cc:767: \n",
      "Parameters: { \"silent\" } are not used.\n",
      "\n"
     ]
    }
   ],
   "source": [
    "# treinando o modelo xgboosta \n",
    "dtrain = xgb.DMatrix(X_train, label=y_train, feature_names=dv.feature_names_)\n",
    "dtest = xgb.DMatrix(X_test, label=y_test, feature_names=dv.feature_names_)\n",
    " \n",
    "xgb_params = {\n",
    "    'eta': 0.1,\n",
    "    'max_depth': 3,\n",
    "    'min_child_weight': 1,\n",
    " \n",
    "    'objective': 'binary:logistic',\n",
    "    'eval_metric': 'auc',\n",
    "    'nthread': 8,\n",
    "    'seed': 1,\n",
    "    'silent': 1\n",
    "}\n",
    " \n",
    "num_trees = 160\n",
    " \n",
    "model = xgb.train(xgb_params, dtrain, num_boost_round=num_trees)"
   ]
  },
  {
   "cell_type": "code",
   "execution_count": 69,
   "id": "465d8de5",
   "metadata": {},
   "outputs": [
    {
     "data": {
      "text/plain": [
       "0.8322845901959826"
      ]
     },
     "execution_count": 69,
     "metadata": {},
     "output_type": "execute_result"
    }
   ],
   "source": [
    "# avaliando o desempenho no conjunto de teste: \n",
    "y_pred_xgb = model.predict(dtest)\n",
    "roc_auc_score(y_test, y_pred_xgb)"
   ]
  },
  {
   "cell_type": "markdown",
   "id": "ee777a0f",
   "metadata": {},
   "source": [
    "A saída é de 83,2%, o que é comparável a 83,6% — o desempenho no conjunto de validação. Isso significa que nosso modelo não é superajustado (overfit)e pode funcionar bem com clientes que ainda não atendeu."
   ]
  },
  {
   "cell_type": "code",
   "execution_count": null,
   "id": "05cadf07",
   "metadata": {},
   "outputs": [],
   "source": []
  }
 ],
 "metadata": {
  "kernelspec": {
   "display_name": "Python 3 (ipykernel)",
   "language": "python",
   "name": "python3"
  },
  "language_info": {
   "codemirror_mode": {
    "name": "ipython",
    "version": 3
   },
   "file_extension": ".py",
   "mimetype": "text/x-python",
   "name": "python",
   "nbconvert_exporter": "python",
   "pygments_lexer": "ipython3",
   "version": "3.9.12"
  }
 },
 "nbformat": 4,
 "nbformat_minor": 5
}
