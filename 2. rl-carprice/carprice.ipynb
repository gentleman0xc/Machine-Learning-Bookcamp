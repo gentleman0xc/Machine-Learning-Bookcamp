{
 "cells": [
  {
   "cell_type": "markdown",
   "id": "edb9bc07",
   "metadata": {},
   "source": [
    "# Previsão de Preço com Regressão Linear \n",
    "\n",
    "Suponha que temos um site onde as pessoas podem vender e comprar carros usados. Ao postar um anúncio em nosso site, os vendedores geralmente lutam para encontrar um preço significativo. Queremos ajudar nossos usuários com recomendações automáticas de preços. Pedimos aos vendedores que especifiquem o modelo, marca, ano, quilometragem e outras características importantes de um carro e, com base nessas informações, queremos sugerir o melhor preço .\n",
    "\n",
    "Um dos gerentes de produto da empresa acidentalmente encontrou um conjunto de dados aberto com preços de carros e nos pediu para dar uma olhada. Verificamos os dados e vimos que continham todos os recursos importantes, bem como o preço recomendado - exatamente o que precisávamos para nosso caso de uso. Assim, decidimos usar esse conjunto de dados para construir o algoritmo de recomendação de preço.\n"
   ]
  },
  {
   "cell_type": "markdown",
   "id": "ce3e9ba7",
   "metadata": {},
   "source": [
    "## Analise Exploratória de dados "
   ]
  },
  {
   "cell_type": "code",
   "execution_count": 1,
   "id": "83f5c2db",
   "metadata": {},
   "outputs": [],
   "source": [
    "# importações\n",
    "import numpy as np # operações numericas \n",
    "import pandas as pd # dados tabulares \n",
    "\n",
    "from matplotlib import pyplot as plt \n",
    "import seaborn as sns \n",
    "# diz ao jupyter para esperar gráficos no notebook, para que ele possa renderiza-los\n",
    "%matplotlib inline "
   ]
  },
  {
   "cell_type": "code",
   "execution_count": 2,
   "id": "60ef73fd",
   "metadata": {},
   "outputs": [],
   "source": [
    "# Lendo e preparando os dados \n",
    "df = pd.read_csv('data.csv')"
   ]
  },
  {
   "cell_type": "code",
   "execution_count": 3,
   "id": "e48a1a73",
   "metadata": {},
   "outputs": [
    {
     "data": {
      "text/plain": [
       "11914"
      ]
     },
     "execution_count": 3,
     "metadata": {},
     "output_type": "execute_result"
    }
   ],
   "source": [
    "# verificando quantas linhas existem\n",
    "len(df) #existem quase 12mil carros nesse dataset"
   ]
  },
  {
   "cell_type": "code",
   "execution_count": 4,
   "id": "e0f54960",
   "metadata": {},
   "outputs": [
    {
     "data": {
      "text/html": [
       "<div>\n",
       "<style scoped>\n",
       "    .dataframe tbody tr th:only-of-type {\n",
       "        vertical-align: middle;\n",
       "    }\n",
       "\n",
       "    .dataframe tbody tr th {\n",
       "        vertical-align: top;\n",
       "    }\n",
       "\n",
       "    .dataframe thead th {\n",
       "        text-align: right;\n",
       "    }\n",
       "</style>\n",
       "<table border=\"1\" class=\"dataframe\">\n",
       "  <thead>\n",
       "    <tr style=\"text-align: right;\">\n",
       "      <th></th>\n",
       "      <th>Make</th>\n",
       "      <th>Model</th>\n",
       "      <th>Year</th>\n",
       "      <th>Engine Fuel Type</th>\n",
       "      <th>Engine HP</th>\n",
       "      <th>Engine Cylinders</th>\n",
       "      <th>Transmission Type</th>\n",
       "      <th>Driven_Wheels</th>\n",
       "      <th>Number of Doors</th>\n",
       "      <th>Market Category</th>\n",
       "      <th>Vehicle Size</th>\n",
       "      <th>Vehicle Style</th>\n",
       "      <th>highway MPG</th>\n",
       "      <th>city mpg</th>\n",
       "      <th>Popularity</th>\n",
       "      <th>MSRP</th>\n",
       "    </tr>\n",
       "  </thead>\n",
       "  <tbody>\n",
       "    <tr>\n",
       "      <th>0</th>\n",
       "      <td>BMW</td>\n",
       "      <td>1 Series M</td>\n",
       "      <td>2011</td>\n",
       "      <td>premium unleaded (required)</td>\n",
       "      <td>335.0</td>\n",
       "      <td>6.0</td>\n",
       "      <td>MANUAL</td>\n",
       "      <td>rear wheel drive</td>\n",
       "      <td>2.0</td>\n",
       "      <td>Factory Tuner,Luxury,High-Performance</td>\n",
       "      <td>Compact</td>\n",
       "      <td>Coupe</td>\n",
       "      <td>26</td>\n",
       "      <td>19</td>\n",
       "      <td>3916</td>\n",
       "      <td>46135</td>\n",
       "    </tr>\n",
       "    <tr>\n",
       "      <th>1</th>\n",
       "      <td>BMW</td>\n",
       "      <td>1 Series</td>\n",
       "      <td>2011</td>\n",
       "      <td>premium unleaded (required)</td>\n",
       "      <td>300.0</td>\n",
       "      <td>6.0</td>\n",
       "      <td>MANUAL</td>\n",
       "      <td>rear wheel drive</td>\n",
       "      <td>2.0</td>\n",
       "      <td>Luxury,Performance</td>\n",
       "      <td>Compact</td>\n",
       "      <td>Convertible</td>\n",
       "      <td>28</td>\n",
       "      <td>19</td>\n",
       "      <td>3916</td>\n",
       "      <td>40650</td>\n",
       "    </tr>\n",
       "    <tr>\n",
       "      <th>2</th>\n",
       "      <td>BMW</td>\n",
       "      <td>1 Series</td>\n",
       "      <td>2011</td>\n",
       "      <td>premium unleaded (required)</td>\n",
       "      <td>300.0</td>\n",
       "      <td>6.0</td>\n",
       "      <td>MANUAL</td>\n",
       "      <td>rear wheel drive</td>\n",
       "      <td>2.0</td>\n",
       "      <td>Luxury,High-Performance</td>\n",
       "      <td>Compact</td>\n",
       "      <td>Coupe</td>\n",
       "      <td>28</td>\n",
       "      <td>20</td>\n",
       "      <td>3916</td>\n",
       "      <td>36350</td>\n",
       "    </tr>\n",
       "    <tr>\n",
       "      <th>3</th>\n",
       "      <td>BMW</td>\n",
       "      <td>1 Series</td>\n",
       "      <td>2011</td>\n",
       "      <td>premium unleaded (required)</td>\n",
       "      <td>230.0</td>\n",
       "      <td>6.0</td>\n",
       "      <td>MANUAL</td>\n",
       "      <td>rear wheel drive</td>\n",
       "      <td>2.0</td>\n",
       "      <td>Luxury,Performance</td>\n",
       "      <td>Compact</td>\n",
       "      <td>Coupe</td>\n",
       "      <td>28</td>\n",
       "      <td>18</td>\n",
       "      <td>3916</td>\n",
       "      <td>29450</td>\n",
       "    </tr>\n",
       "    <tr>\n",
       "      <th>4</th>\n",
       "      <td>BMW</td>\n",
       "      <td>1 Series</td>\n",
       "      <td>2011</td>\n",
       "      <td>premium unleaded (required)</td>\n",
       "      <td>230.0</td>\n",
       "      <td>6.0</td>\n",
       "      <td>MANUAL</td>\n",
       "      <td>rear wheel drive</td>\n",
       "      <td>2.0</td>\n",
       "      <td>Luxury</td>\n",
       "      <td>Compact</td>\n",
       "      <td>Convertible</td>\n",
       "      <td>28</td>\n",
       "      <td>18</td>\n",
       "      <td>3916</td>\n",
       "      <td>34500</td>\n",
       "    </tr>\n",
       "  </tbody>\n",
       "</table>\n",
       "</div>"
      ],
      "text/plain": [
       "  Make       Model  Year             Engine Fuel Type  Engine HP  \\\n",
       "0  BMW  1 Series M  2011  premium unleaded (required)      335.0   \n",
       "1  BMW    1 Series  2011  premium unleaded (required)      300.0   \n",
       "2  BMW    1 Series  2011  premium unleaded (required)      300.0   \n",
       "3  BMW    1 Series  2011  premium unleaded (required)      230.0   \n",
       "4  BMW    1 Series  2011  premium unleaded (required)      230.0   \n",
       "\n",
       "   Engine Cylinders Transmission Type     Driven_Wheels  Number of Doors  \\\n",
       "0               6.0            MANUAL  rear wheel drive              2.0   \n",
       "1               6.0            MANUAL  rear wheel drive              2.0   \n",
       "2               6.0            MANUAL  rear wheel drive              2.0   \n",
       "3               6.0            MANUAL  rear wheel drive              2.0   \n",
       "4               6.0            MANUAL  rear wheel drive              2.0   \n",
       "\n",
       "                         Market Category Vehicle Size Vehicle Style  \\\n",
       "0  Factory Tuner,Luxury,High-Performance      Compact         Coupe   \n",
       "1                     Luxury,Performance      Compact   Convertible   \n",
       "2                Luxury,High-Performance      Compact         Coupe   \n",
       "3                     Luxury,Performance      Compact         Coupe   \n",
       "4                                 Luxury      Compact   Convertible   \n",
       "\n",
       "   highway MPG  city mpg  Popularity   MSRP  \n",
       "0           26        19        3916  46135  \n",
       "1           28        19        3916  40650  \n",
       "2           28        20        3916  36350  \n",
       "3           28        18        3916  29450  \n",
       "4           28        18        3916  34500  "
      ]
     },
     "execution_count": 4,
     "metadata": {},
     "output_type": "execute_result"
    }
   ],
   "source": [
    "# verificando as cinco primeiras linhas do df\n",
    "df.head()"
   ]
  },
  {
   "cell_type": "markdown",
   "id": "2be5217b",
   "metadata": {},
   "source": [
    "Analisando, logo percebemos que os nomes das colunas as vezes possuem espaços e outras sublinhados ( _ ). Isso é inconveniente e confuso, mas podemos resolver isso normalizando os substituindo todos os espaços por sublinhados e todas as letras minusculas "
   ]
  },
  {
   "cell_type": "code",
   "execution_count": 5,
   "id": "2410568c",
   "metadata": {},
   "outputs": [],
   "source": [
    "df.columns = df.columns.str.lower().str.replace(' ', '_')\n",
    " \n",
    "string_columns = list(df.dtypes[df.dtypes == 'object'].index) # selecionamos colunas com valores strings\n",
    " \n",
    "for col in string_columns:\n",
    "    df[col] = df[col].str.lower().str.replace(' ', '_')"
   ]
  },
  {
   "cell_type": "markdown",
   "id": "b2ba828f",
   "metadata": {},
   "source": [
    "Utilizamos o atributo especial str. Usando-o, podemos aplicar operações de string a toda a coluna ao mesmo tempo sem escrever nenhum `for`.\n",
    "Nós o usamos para colocar em letras minusculas os nomes das colunas e o conteúdos dessas colunas bem como para substituir os espaços por sublinhados. "
   ]
  },
  {
   "cell_type": "code",
   "execution_count": 6,
   "id": "87c48fd3",
   "metadata": {},
   "outputs": [
    {
     "data": {
      "text/html": [
       "<div>\n",
       "<style scoped>\n",
       "    .dataframe tbody tr th:only-of-type {\n",
       "        vertical-align: middle;\n",
       "    }\n",
       "\n",
       "    .dataframe tbody tr th {\n",
       "        vertical-align: top;\n",
       "    }\n",
       "\n",
       "    .dataframe thead th {\n",
       "        text-align: right;\n",
       "    }\n",
       "</style>\n",
       "<table border=\"1\" class=\"dataframe\">\n",
       "  <thead>\n",
       "    <tr style=\"text-align: right;\">\n",
       "      <th></th>\n",
       "      <th>make</th>\n",
       "      <th>model</th>\n",
       "      <th>year</th>\n",
       "      <th>engine_fuel_type</th>\n",
       "      <th>engine_hp</th>\n",
       "      <th>engine_cylinders</th>\n",
       "      <th>transmission_type</th>\n",
       "      <th>driven_wheels</th>\n",
       "      <th>number_of_doors</th>\n",
       "      <th>market_category</th>\n",
       "      <th>vehicle_size</th>\n",
       "      <th>vehicle_style</th>\n",
       "      <th>highway_mpg</th>\n",
       "      <th>city_mpg</th>\n",
       "      <th>popularity</th>\n",
       "      <th>msrp</th>\n",
       "    </tr>\n",
       "  </thead>\n",
       "  <tbody>\n",
       "    <tr>\n",
       "      <th>0</th>\n",
       "      <td>bmw</td>\n",
       "      <td>1_series_m</td>\n",
       "      <td>2011</td>\n",
       "      <td>premium_unleaded_(required)</td>\n",
       "      <td>335.0</td>\n",
       "      <td>6.0</td>\n",
       "      <td>manual</td>\n",
       "      <td>rear_wheel_drive</td>\n",
       "      <td>2.0</td>\n",
       "      <td>factory_tuner,luxury,high-performance</td>\n",
       "      <td>compact</td>\n",
       "      <td>coupe</td>\n",
       "      <td>26</td>\n",
       "      <td>19</td>\n",
       "      <td>3916</td>\n",
       "      <td>46135</td>\n",
       "    </tr>\n",
       "    <tr>\n",
       "      <th>1</th>\n",
       "      <td>bmw</td>\n",
       "      <td>1_series</td>\n",
       "      <td>2011</td>\n",
       "      <td>premium_unleaded_(required)</td>\n",
       "      <td>300.0</td>\n",
       "      <td>6.0</td>\n",
       "      <td>manual</td>\n",
       "      <td>rear_wheel_drive</td>\n",
       "      <td>2.0</td>\n",
       "      <td>luxury,performance</td>\n",
       "      <td>compact</td>\n",
       "      <td>convertible</td>\n",
       "      <td>28</td>\n",
       "      <td>19</td>\n",
       "      <td>3916</td>\n",
       "      <td>40650</td>\n",
       "    </tr>\n",
       "    <tr>\n",
       "      <th>2</th>\n",
       "      <td>bmw</td>\n",
       "      <td>1_series</td>\n",
       "      <td>2011</td>\n",
       "      <td>premium_unleaded_(required)</td>\n",
       "      <td>300.0</td>\n",
       "      <td>6.0</td>\n",
       "      <td>manual</td>\n",
       "      <td>rear_wheel_drive</td>\n",
       "      <td>2.0</td>\n",
       "      <td>luxury,high-performance</td>\n",
       "      <td>compact</td>\n",
       "      <td>coupe</td>\n",
       "      <td>28</td>\n",
       "      <td>20</td>\n",
       "      <td>3916</td>\n",
       "      <td>36350</td>\n",
       "    </tr>\n",
       "    <tr>\n",
       "      <th>3</th>\n",
       "      <td>bmw</td>\n",
       "      <td>1_series</td>\n",
       "      <td>2011</td>\n",
       "      <td>premium_unleaded_(required)</td>\n",
       "      <td>230.0</td>\n",
       "      <td>6.0</td>\n",
       "      <td>manual</td>\n",
       "      <td>rear_wheel_drive</td>\n",
       "      <td>2.0</td>\n",
       "      <td>luxury,performance</td>\n",
       "      <td>compact</td>\n",
       "      <td>coupe</td>\n",
       "      <td>28</td>\n",
       "      <td>18</td>\n",
       "      <td>3916</td>\n",
       "      <td>29450</td>\n",
       "    </tr>\n",
       "    <tr>\n",
       "      <th>4</th>\n",
       "      <td>bmw</td>\n",
       "      <td>1_series</td>\n",
       "      <td>2011</td>\n",
       "      <td>premium_unleaded_(required)</td>\n",
       "      <td>230.0</td>\n",
       "      <td>6.0</td>\n",
       "      <td>manual</td>\n",
       "      <td>rear_wheel_drive</td>\n",
       "      <td>2.0</td>\n",
       "      <td>luxury</td>\n",
       "      <td>compact</td>\n",
       "      <td>convertible</td>\n",
       "      <td>28</td>\n",
       "      <td>18</td>\n",
       "      <td>3916</td>\n",
       "      <td>34500</td>\n",
       "    </tr>\n",
       "  </tbody>\n",
       "</table>\n",
       "</div>"
      ],
      "text/plain": [
       "  make       model  year             engine_fuel_type  engine_hp  \\\n",
       "0  bmw  1_series_m  2011  premium_unleaded_(required)      335.0   \n",
       "1  bmw    1_series  2011  premium_unleaded_(required)      300.0   \n",
       "2  bmw    1_series  2011  premium_unleaded_(required)      300.0   \n",
       "3  bmw    1_series  2011  premium_unleaded_(required)      230.0   \n",
       "4  bmw    1_series  2011  premium_unleaded_(required)      230.0   \n",
       "\n",
       "   engine_cylinders transmission_type     driven_wheels  number_of_doors  \\\n",
       "0               6.0            manual  rear_wheel_drive              2.0   \n",
       "1               6.0            manual  rear_wheel_drive              2.0   \n",
       "2               6.0            manual  rear_wheel_drive              2.0   \n",
       "3               6.0            manual  rear_wheel_drive              2.0   \n",
       "4               6.0            manual  rear_wheel_drive              2.0   \n",
       "\n",
       "                         market_category vehicle_size vehicle_style  \\\n",
       "0  factory_tuner,luxury,high-performance      compact         coupe   \n",
       "1                     luxury,performance      compact   convertible   \n",
       "2                luxury,high-performance      compact         coupe   \n",
       "3                     luxury,performance      compact         coupe   \n",
       "4                                 luxury      compact   convertible   \n",
       "\n",
       "   highway_mpg  city_mpg  popularity   msrp  \n",
       "0           26        19        3916  46135  \n",
       "1           28        19        3916  40650  \n",
       "2           28        20        3916  36350  \n",
       "3           28        18        3916  29450  \n",
       "4           28        18        3916  34500  "
      ]
     },
     "execution_count": 6,
     "metadata": {},
     "output_type": "execute_result"
    }
   ],
   "source": [
    "df.head()"
   ]
  },
  {
   "cell_type": "markdown",
   "id": "b9058deb",
   "metadata": {},
   "source": [
    "Colunas do dataset\n",
    "\n",
    "`make`: marca de um carro (BMW, Toyota e assim por diante)\n",
    "\n",
    "`modelo`: modelo de um carro\n",
    "\n",
    "`ano`: ano em que o carro foi fabricado\n",
    "\n",
    "`engine_fuel_type`: tipo de combustível que o motor precisa (diesel, elétrico e assim por diante)\n",
    "\n",
    "`engine_hp`: potência do motor\n",
    "\n",
    "`engine_cylinders`: número de cilindros no motor\n",
    "\n",
    "`tipo_transmissão`: tipo de transmissão (automática ou manual)\n",
    "\n",
    "`drive_wheels`: dianteiro, traseiro, todos\n",
    "\n",
    "`number_of_doors`: número de portas que um carro tem\n",
    "\n",
    "`market_category`: luxo, crossover e assim por diante\n",
    "\n",
    "`Vehicle_size`: compacto, médio ou grande\n",
    "\n",
    "`estilo_veículo`: sedã ou conversível\n",
    "\n",
    "`Highway_mpg`: milhas por galão (mpg) na rodovia\n",
    "\n",
    "`city_mpg`: milhas por galão na cidade\n",
    "\n",
    "`popularidade`: número de vezes que o carro foi mencionado em um stream do Twitter\n",
    "\n",
    "`msrp`: preço de varejo sugerido pelo fabricante\n",
    "\n",
    "Usaremos a ultima coluna para prever os preços dos carros "
   ]
  },
  {
   "cell_type": "markdown",
   "id": "aabc965b",
   "metadata": {},
   "source": [
    "### Analise da Variavel alvo \n",
    "\n",
    "A coluna MSRP contém informações importantes - É a nossa variavel de destino, o y, que é o valor que queremos aprender a prever"
   ]
  },
  {
   "cell_type": "code",
   "execution_count": 7,
   "id": "fe350eeb",
   "metadata": {},
   "outputs": [
    {
     "data": {
      "text/plain": [
       "<AxesSubplot:xlabel='msrp', ylabel='Count'>"
      ]
     },
     "execution_count": 7,
     "metadata": {},
     "output_type": "execute_result"
    },
    {
     "data": {
      "image/png": "[encoded data removed]",
      "text/plain": [
       "<Figure size 432x288 with 1 Axes>"
      ]
     },
     "metadata": {
      "needs_background": "light"
     },
     "output_type": "display_data"
    }
   ],
   "source": [
    "# hsitograma - observar os valores de y \n",
    "sns.histplot(df.msrp, bins=40)"
   ]
  },
  {
   "cell_type": "code",
   "execution_count": 8,
   "id": "f68a755e",
   "metadata": {},
   "outputs": [
    {
     "data": {
      "text/plain": [
       "<AxesSubplot:xlabel='msrp', ylabel='Count'>"
      ]
     },
     "execution_count": 8,
     "metadata": {},
     "output_type": "execute_result"
    },
    {
     "data": {
      "image/png": "[encoded data removed]",
      "text/plain": [
       "<Figure size 432x288 with 1 Axes>"
      ]
     },
     "metadata": {
      "needs_background": "light"
     },
     "output_type": "display_data"
    }
   ],
   "source": [
    "# ampliando e verificando valores abaixos de US$ 100.00 \n",
    "sns.histplot(df.msrp[df.msrp < 100000])"
   ]
  },
  {
   "cell_type": "markdown",
   "id": "268e6eab",
   "metadata": {},
   "source": [
    "Notamos que muitos carros custam US$ 1.000\n",
    "\n",
    "A cauda longa torna bastante difícil para nós ver a distribuição, mas tem um efeito ainda mais forte em um modelo : tal distribuição pode confundir muito o modelo, então ele não aprenderá bem o suficiente. Uma maneira de resolver esse problema é a transformação de log . Se aplicarmos a função log aos preços, remove o efeito indesejado\n",
    "\n",
    "`ynew = log(y + 1)`"
   ]
  },
  {
   "cell_type": "code",
   "execution_count": 9,
   "id": "690930d4",
   "metadata": {},
   "outputs": [],
   "source": [
    "# função numpy para realizar a transformação\n",
    "# calcula o logaritmo natural (x+1) dos valores presentes na coluna \"msrp\"\n",
    "log_price = np.log1p(df.msrp) "
   ]
  },
  {
   "cell_type": "code",
   "execution_count": 10,
   "id": "53ba25f8",
   "metadata": {},
   "outputs": [
    {
     "data": {
      "text/plain": [
       "<AxesSubplot:xlabel='msrp', ylabel='Count'>"
      ]
     },
     "execution_count": 10,
     "metadata": {},
     "output_type": "execute_result"
    },
    {
     "data": {
      "image/png": "[encoded data removed]",
      "text/plain": [
       "<Figure size 432x288 with 1 Axes>"
      ]
     },
     "metadata": {
      "needs_background": "light"
     },
     "output_type": "display_data"
    }
   ],
   "source": [
    "# verificando a distribuição dos preços apos a transformação\n",
    "sns.histplot(log_price)"
   ]
  },
  {
   "cell_type": "markdown",
   "id": "292f26fb",
   "metadata": {},
   "source": [
    "### Verificação dos valores ausentes"
   ]
  },
  {
   "cell_type": "code",
   "execution_count": 11,
   "id": "652c83ba",
   "metadata": {},
   "outputs": [
    {
     "data": {
      "text/plain": [
       "make                    0\n",
       "model                   0\n",
       "year                    0\n",
       "engine_fuel_type        3\n",
       "engine_hp              69\n",
       "engine_cylinders       30\n",
       "transmission_type       0\n",
       "driven_wheels           0\n",
       "number_of_doors         6\n",
       "market_category      3742\n",
       "vehicle_size            0\n",
       "vehicle_style           0\n",
       "highway_mpg             0\n",
       "city_mpg                0\n",
       "popularity              0\n",
       "msrp                    0\n",
       "dtype: int64"
      ]
     },
     "execution_count": 11,
     "metadata": {},
     "output_type": "execute_result"
    }
   ],
   "source": [
    "df.isnull().sum()"
   ]
  },
  {
   "cell_type": "markdown",
   "id": "51c67ed4",
   "metadata": {},
   "source": [
    "Analisamos nossa variavel de destino (msrp), ela não possui valores ausentes e isso é bom pois será muito util."
   ]
  },
  {
   "cell_type": "markdown",
   "id": "9ec0a252",
   "metadata": {},
   "source": [
    "### Estrutura de validação\n",
    "\n",
    "Iremos dividir nosso dataset em três partes: treino, validação e teste \n",
    "\n",
    "60% - treino\n",
    "\n",
    "20% - validação \n",
    "\n",
    "20% - testes \n",
    "\n"
   ]
  },
  {
   "cell_type": "code",
   "execution_count": 12,
   "id": "c42cb4f3",
   "metadata": {},
   "outputs": [],
   "source": [
    "# dividindo os dados \n",
    "n = len(df) # obtem o numero total de linhas do df\n",
    " \n",
    "n_val = int(0.2 * n) #Calcula o numero de amostras(20%)\n",
    "n_test = int(0.2 * n) # Calcula o numero de amostras (20%)\n",
    "n_train = n - (n_val + n_test) #Calcula o numero de amostras (60%)\n",
    " \n",
    "np.random.seed(2) #Define a semente do gerador de numeros aleatorios para garantir que toda vez que o executarmos, os resultados sejam os mesmos\n",
    "idx = np.arange(n) #Cria um array de numeros inteiros sequencias de 0 a 'n-1'\n",
    "np.random.shuffle(idx) # embaralha aleatoriamente os elementos do array 'idx'. Reeordenando aleatoriamente os indices dos dados\n",
    " \n",
    "df_shuffled = df.iloc[idx] # aplica a nova ordem dos indices ao df original, criando um novo df\n",
    " \n",
    "df_train = df_shuffled.iloc[:n_train].copy() # seleciona as primeiras 'n_train' linhas do dataframe df.shuffled   \n",
    "df_val = df_shuffled.iloc[n_train:n_train+n_val].copy() # seleciona as proximas 'n_val' linhas do df embaralhado\n",
    "df_test = df_shuffled.iloc[n_train+n_val:].copy() # seleciona as linhas restantes do df embaralhado a partir da posição 'n_train + n_val'\n",
    "\n",
    "# A função copy() é usada para garantir que uma cópia dos dados seja feita em vez de uma referência aos dados originais.\n"
   ]
  },
  {
   "cell_type": "code",
   "execution_count": 13,
   "id": "6f86b336",
   "metadata": {},
   "outputs": [],
   "source": [
    "# devido a cauda longa, devemos aplicar a transformação logaritmica \n",
    "y_train = np.log1p(df_train.msrp.values)\n",
    "y_val = np.log1p(df_val.msrp.values)\n",
    "y_test = np.log1p(df_test.msrp.values)"
   ]
  },
  {
   "cell_type": "markdown",
   "id": "300cd71c",
   "metadata": {},
   "source": [
    "Para evitar o uso acidental da variável de destino posteriormente, vamos removê-la dos dataframes :"
   ]
  },
  {
   "cell_type": "code",
   "execution_count": 14,
   "id": "d5574f39",
   "metadata": {},
   "outputs": [],
   "source": [
    "del df_train['msrp']\n",
    "del df_val['msrp']\n",
    "del df_test['msrp']"
   ]
  },
  {
   "cell_type": "markdown",
   "id": "1749acdd",
   "metadata": {},
   "source": [
    "**Obs.** A remoção da variável de destino é uma etapa opcional. Mas é útil garantir que não o usamos ao treinar um modelo: se isso acontecer, usaríamos o preço para prever o preço e nosso modelo teria precisão perfeita ."
   ]
  },
  {
   "cell_type": "markdown",
   "id": "b7cf4900",
   "metadata": {},
   "source": [
    "## Prevendo o preço com ML\n"
   ]
  },
  {
   "cell_type": "code",
   "execution_count": 15,
   "id": "ee7dab9f",
   "metadata": {},
   "outputs": [],
   "source": [
    "# Regressão Linear implementada com NumPy\n",
    "def train_linear_regression(X, y):\n",
    "    # adding the dummy column\n",
    "    ones = np.ones(X.shape[0])\n",
    "    X = np.column_stack([ones, X])\n",
    "   \n",
    "    # normal equation formula\n",
    "    XTX = X.T.dot(X)\n",
    "    XTX_inv = np.linalg.inv(XTX)\n",
    "    w = XTX_inv.dot(X.T).dot(y)\n",
    "   \n",
    "    return w[0], w[1:]"
   ]
  },
  {
   "cell_type": "markdown",
   "id": "c9922bb1",
   "metadata": {},
   "source": [
    "Já preparamos o y , mas ainda não temos o X : o que temos agora é um quadro de dados, não uma matriz. Portanto, precisamos extrair alguns recursos do nosso conjunto de dados para criar essa matriz X .\n",
    "\n",
    "engine_hp\n",
    "\n",
    "motores_cilindros\n",
    "\n",
    "rodovia_mpg\n",
    "\n",
    "city_mpg\n",
    "\n",
    "popularidade\n",
    "\n",
    "Vamos selecionar os recursos do quadro de dados e escrevê-los em uma nova variável, df_num:"
   ]
  },
  {
   "cell_type": "code",
   "execution_count": 16,
   "id": "9f8ad7f8",
   "metadata": {},
   "outputs": [],
   "source": [
    "base = ['engine_hp', 'engine_cylinders', 'highway_mpg', 'city_mpg',\n",
    "        'popularity']\n",
    "df_num = df_train[base]"
   ]
  },
  {
   "cell_type": "markdown",
   "id": "09b9c489",
   "metadata": {},
   "source": [
    "Vimos que no dataset algumas linhas possuem valores ausentes.\n",
    "A melhor maneira para corrigirmos isso é preenchendo com outro valor \n",
    "\n",
    "Iremos preencher os valores ausentes com 0 usando o método `fillna` do pandas"
   ]
  },
  {
   "cell_type": "code",
   "execution_count": 17,
   "id": "ccfda45d",
   "metadata": {},
   "outputs": [],
   "source": [
    "df_num = df_num.fillna(0)"
   ]
  },
  {
   "cell_type": "markdown",
   "id": "74d46777",
   "metadata": {},
   "source": [
    "**OBSERVAÇÃO:** Uma opção alternativa é substituir os valores ausentes pelos valores médios. Para algumas variáveis, por exemplo, o número de cilindros, o valor zero não faz muito sentido: um carro não pode ter cilindros zero. No entanto, isso tornará nosso código mais complexo e não terá um impacto significativo nos resultados. É por isso que seguimos uma abordagem mais simples e substituímos os valores ausentes por zeros ."
   ]
  },
  {
   "cell_type": "code",
   "execution_count": 18,
   "id": "97521146",
   "metadata": {},
   "outputs": [],
   "source": [
    "# Convertendo o dataframe em um array numpy \n",
    "X_train = df_num.values"
   ]
  },
  {
   "cell_type": "code",
   "execution_count": 19,
   "id": "0a9779cd",
   "metadata": {},
   "outputs": [],
   "source": [
    "w_0, w = train_linear_regression(X_train, y_train)"
   ]
  },
  {
   "cell_type": "markdown",
   "id": "b9aedeb6",
   "metadata": {},
   "source": [
    "Acabamos de treinar nosso modelo! Agora podemos aplicá-lo aos dados de treinamento para ver o quão bom ele prevê: "
   ]
  },
  {
   "cell_type": "code",
   "execution_count": 20,
   "id": "3d361056",
   "metadata": {},
   "outputs": [],
   "source": [
    "y_pred = w_0 + X_train.dot(w)"
   ]
  },
  {
   "cell_type": "markdown",
   "id": "89e7066c",
   "metadata": {},
   "source": [
    "implementamos um histplot para traçar os valores previstos e compará-los com os valores reais"
   ]
  },
  {
   "cell_type": "code",
   "execution_count": 61,
   "id": "8f9b3465",
   "metadata": {},
   "outputs": [
    {
     "data": {
      "text/plain": [
       "<matplotlib.legend.Legend at 0x25e3159e250>"
      ]
     },
     "execution_count": 61,
     "metadata": {},
     "output_type": "execute_result"
    },
    {
     "data": {
      "image/png": "[encoded data removed]",
      "text/plain": [
       "<Figure size 432x288 with 1 Axes>"
      ]
     },
     "metadata": {
      "needs_background": "light"
     },
     "output_type": "display_data"
    }
   ],
   "source": [
    "sns.histplot(y_pred, label='prediction')\n",
    "sns.histplot(y_train, label='target')\n",
    "plt.legend()"
   ]
  },
  {
   "cell_type": "markdown",
   "id": "50beb178",
   "metadata": {},
   "source": [
    "Podemos ver que a distribuição de valores que previmos parece bem diferente dos valores reais. Esse resultado pode indicar que o modelo não é poderoso o suficiente para capturar a distribuição da variável alvo. Isso não deve ser uma surpresa para nós: o modelo que usamos é bastante básico e inclui apenas cinco recursos muito simples ."
   ]
  },
  {
   "cell_type": "code",
   "execution_count": 22,
   "id": "8f50f190",
   "metadata": {},
   "outputs": [],
   "source": [
    "#RMSE\n",
    "\n",
    "def rmse(y, y_pred):\n",
    "    error = y_pred - y # calculamos a diferença entre previsoes e os preços reais\n",
    "    mse = (error ** 2).mean() # calculamos o quadrado de cada elemento do array error / em seguida, obter o valor médio do resultado\n",
    "    return np.sqrt(mse) # Calculamos a raiz quadrada do mse"
   ]
  },
  {
   "cell_type": "code",
   "execution_count": 23,
   "id": "81d28b9a",
   "metadata": {},
   "outputs": [
    {
     "data": {
      "text/plain": [
       "0.7554192603920132"
      ]
     },
     "execution_count": 23,
     "metadata": {},
     "output_type": "execute_result"
    }
   ],
   "source": [
    "# usando RMSE para avaliar nosso modelo \n",
    "rmse(y_train, y_pred)"
   ]
  },
  {
   "cell_type": "markdown",
   "id": "bff54752",
   "metadata": {},
   "source": [
    "O código imprime 0,75. Esse número nos diz que, em média, as previsões do modelo estão erradas em 0,75. Este resultado por si só pode não ser muito útil, mas podemos usá-lo para comparar este modelo com outros modelos. Se um modelo tiver um RMSE melhor (mais baixo) do que o outro, isso indica que o modelo é melhor."
   ]
  },
  {
   "cell_type": "markdown",
   "id": "b3bf7a50",
   "metadata": {},
   "source": [
    "## Validando o Modelo "
   ]
  },
  {
   "cell_type": "code",
   "execution_count": 24,
   "id": "41eaea68",
   "metadata": {},
   "outputs": [],
   "source": [
    "# Primeiro, criamos a matriz X_val, seguindo os mesmos passos para X_train\n",
    "df_num = df_val[base] \n",
    "df_num = df_num.fillna(0) \n",
    "X_val = df_num.values"
   ]
  },
  {
   "cell_type": "code",
   "execution_count": 25,
   "id": "7f9ee708",
   "metadata": {},
   "outputs": [],
   "source": [
    "y_pred = w_0 + X_val.dot(w)"
   ]
  },
  {
   "cell_type": "markdown",
   "id": "85665af8",
   "metadata": {},
   "source": [
    "O array y_pred contém as previsoes para o conjuntos de dados de validação. Agora nós usamos `y_pred` para comparar com os preços reais de `y_val`, usando a função RMSE que implementamos anteriormente: \n"
   ]
  },
  {
   "cell_type": "code",
   "execution_count": 26,
   "id": "1fb3e10a",
   "metadata": {},
   "outputs": [
    {
     "data": {
      "text/plain": [
       "0.7616530991301591"
      ]
     },
     "execution_count": 26,
     "metadata": {},
     "output_type": "execute_result"
    }
   ],
   "source": [
    "rmse(y_val, y_pred)"
   ]
  },
  {
   "cell_type": "markdown",
   "id": "b161037f",
   "metadata": {},
   "source": [
    "No código anterior, já vemos alguma duplicação: os testes de treinamento e validação requerem o mesmo pré-processamento e escrevemos o mesmo código duas vezes. Portanto, faz sentido mover essa lógica para uma função separada e evitar a duplicação do código."
   ]
  },
  {
   "cell_type": "code",
   "execution_count": 27,
   "id": "17ea90b8",
   "metadata": {},
   "outputs": [],
   "source": [
    "# Função para converter um DataFrame em uma Matriz\n",
    "def prepare_X(df): \n",
    "    df_num = df[base] \n",
    "    df_num = df_num.fillna(0) \n",
    "    X = df_num.values\n",
    "    return X"
   ]
  },
  {
   "cell_type": "code",
   "execution_count": 28,
   "id": "b0b133f9",
   "metadata": {},
   "outputs": [
    {
     "name": "stdout",
     "output_type": "stream",
     "text": [
      "validation: 0.7616530991301591\n"
     ]
    }
   ],
   "source": [
    "# Agora todo o treino e avaliação ficam mais simples ficando assim: \n",
    "\n",
    "X_train = prepare_X(df_train)\n",
    "w_0, w = train_linear_regression(X_train, y_train)\n",
    " \n",
    "X_val = prepare_X(df_val)\n",
    "y_pred = w_0 + X_val.dot(w)\n",
    "print('validation:', rmse(y_val, y_pred))"
   ]
  },
  {
   "cell_type": "markdown",
   "id": "f3e6a0e8",
   "metadata": {},
   "source": [
    "## Engenharia de Recursos Simples \n",
    "\n",
    "Já temos um modelo de linha de base simples com recursos simples. Para melhorar ainda mais nosso modelo, podemos adicionar mais recursos ao modelo: criamos outros e os adicionamos aos recursos existentes. Como já sabemos, esse processo é chamado de engenharia de recursos .\n",
    "\n",
    "Nosso objetivo é melhorar o RMSE calculado sobre os dados de validação ."
   ]
  },
  {
   "cell_type": "markdown",
   "id": "a27a8206",
   "metadata": {},
   "source": [
    "Primeiro, criamos um novo elemento, “idade”, a partir do elemento “ano”. A idade de um carro deve ser muito útil para prever seu preço: intuitivamente, quanto mais novo o carro, mais caro ele deve ser."
   ]
  },
  {
   "cell_type": "code",
   "execution_count": 29,
   "id": "3260088d",
   "metadata": {},
   "outputs": [
    {
     "data": {
      "text/plain": [
       "2017"
      ]
     },
     "execution_count": 29,
     "metadata": {},
     "output_type": "execute_result"
    }
   ],
   "source": [
    "df_train.year.max() #dataset criado em 2017"
   ]
  },
  {
   "cell_type": "code",
   "execution_count": 30,
   "id": "3a605db5",
   "metadata": {},
   "outputs": [],
   "source": [
    "df_train['age'] = 2017 - df_train.year"
   ]
  },
  {
   "cell_type": "markdown",
   "id": "bd4850d9",
   "metadata": {},
   "source": [
    "Já sabemos que precisaremos aplicar o mesmo pré-processamento duas vezes: nos conjuntos de treinamento e validação. Como não queremos repetir o código de extração de recurso várias vezes, vamos colocar essa lógica no prepare_Xfunção"
   ]
  },
  {
   "cell_type": "code",
   "execution_count": 31,
   "id": "78e6ccdb",
   "metadata": {},
   "outputs": [],
   "source": [
    "def prepare_X(df):\n",
    "    df = df.copy()\n",
    "    features = base.copy()\n",
    " \n",
    "    df['age'] = 2017 - df.year\n",
    "    features.append('age')\n",
    " \n",
    "    df_num = df[features]\n",
    "    df_num = df_num.fillna(0)\n",
    "    X = df_num.values\n",
    "    return X"
   ]
  },
  {
   "cell_type": "markdown",
   "id": "e63778eb",
   "metadata": {},
   "source": [
    "Vamos testar se adicionar o recurso `idade` leva a alguma melhoria: "
   ]
  },
  {
   "cell_type": "code",
   "execution_count": 32,
   "id": "d032a172",
   "metadata": {},
   "outputs": [
    {
     "name": "stdout",
     "output_type": "stream",
     "text": [
      "validation: 0.5172055461058329\n"
     ]
    }
   ],
   "source": [
    "X_train = prepare_X(df_train)\n",
    "w_0, w = train_linear_regression(X_train, y_train)\n",
    "\n",
    "X_val = prepare_X(df_val)\n",
    "y_pred = w_0 + X_val.dot(w)\n",
    "print('validation:', rmse(y_val, y_pred))"
   ]
  },
  {
   "cell_type": "markdown",
   "id": "12c0a9c8",
   "metadata": {},
   "source": [
    "Houve uma boa melhoria, concluimos que adicionar \"idade\" é realmente util ao fazer previsoes \n"
   ]
  },
  {
   "cell_type": "code",
   "execution_count": 35,
   "id": "245a7c06",
   "metadata": {},
   "outputs": [
    {
     "data": {
      "text/plain": [
       "<matplotlib.legend.Legend at 0x25e2f54b460>"
      ]
     },
     "execution_count": 35,
     "metadata": {},
     "output_type": "execute_result"
    },
    {
     "data": {
      "image/png": "[encoded data removed]",
      "text/plain": [
       "<Figure size 432x288 with 1 Axes>"
      ]
     },
     "metadata": {
      "needs_background": "light"
     },
     "output_type": "display_data"
    }
   ],
   "source": [
    "# observando a distribuição dos valores previstos\n",
    "sns.histplot(y_pred, label='prediction', color='red')\n",
    "sns.histplot(y_val, label='target', color='yellow')\n",
    "plt.legend()"
   ]
  },
  {
   "cell_type": "markdown",
   "id": "74397c71",
   "metadata": {},
   "source": [
    "### Manipulação de variaveis categóricas \n",
    "\n",
    "Variavel numero de portas (2, 3 e 4) \n",
    "Embora seja tentador colocar a variável no modelo como está, ela não é bem uma variável numérica: não podemos dizer que adicionando mais uma porta, o preço de um carro aumenta (ou diminui) uma certa quantia de dinheiro. Em vez disso, a variável é categórica.\n",
    "\n",
    "Usaremos um método de codificação de variaveis categóricas chamado codificação one-hot\n",
    "\n",
    "**One-hot encoding**  é uma técnica utilizada em ciência de dados e aprendizado de máquina para representar variáveis categóricas como vetores numéricos binários.\n",
    "\n",
    "Quando temos uma variável categórica, como por exemplo \"cor\" com os valores \"vermelho\", \"verde\" e \"azul\", não podemos simplesmente atribuir valores numéricos como 1, 2 e 3, pois isso pode gerar uma relação de ordem indesejada entre as categorias.\n",
    "\n",
    "No one-hot encoding, cada categoria é representada por um vetor binário de tamanho igual ao número total de categorias possíveis. O vetor contém apenas zeros, exceto pelo índice correspondente à categoria em questão, que é definido como 1. Por exemplo, usando o one-hot encoding para representar as cores, teríamos:\n",
    "\n",
    "`\"vermelho\" = [1, 0, 0]`\n",
    "\n",
    "`\"verde\" = [0, 1, 0]`\n",
    "\n",
    "`\"azul\" = [0, 0, 1]`"
   ]
  },
  {
   "cell_type": "code",
   "execution_count": 42,
   "id": "1b4f2038",
   "metadata": {},
   "outputs": [],
   "source": [
    "#for v in [2, 3, 4]:\n",
    "#    feature = 'num_doors_%s' % v\n",
    "#    value = (df['number_of_doors'] == v).astype(int) # para converter séries com valores booleanos para inteiros\n",
    "#    df[feature] = value\n",
    "#   features.append(feature)"
   ]
  },
  {
   "cell_type": "markdown",
   "id": "78bc9113",
   "metadata": {},
   "source": [
    "Podemos usar a mesma abordagem para codificar outras variáveis categóricas. Vamos começar com `make`. Para nossos propósitos, deve ser suficiente obter e usar apenas os valores que ocorrem com mais frequência."
   ]
  },
  {
   "cell_type": "code",
   "execution_count": 39,
   "id": "10e91d2c",
   "metadata": {},
   "outputs": [
    {
     "data": {
      "text/plain": [
       "chevrolet     1123\n",
       "ford           881\n",
       "volkswagen     809\n",
       "toyota         746\n",
       "dodge          626\n",
       "Name: make, dtype: int64"
      ]
     },
     "execution_count": 39,
     "metadata": {},
     "output_type": "execute_result"
    }
   ],
   "source": [
    "# analisando os cinco valores mais frequentes \n",
    "df['make'].value_counts().head(5)"
   ]
  },
  {
   "cell_type": "code",
   "execution_count": 43,
   "id": "449ddfbf",
   "metadata": {},
   "outputs": [],
   "source": [
    "# fazemos a mesma coisa do código anterior \n",
    "#for v in ['chevrolet', 'ford', 'volkswagen', 'toyota', 'dodge']: \n",
    "#    feature = 'is_make_%s' % v \n",
    "#    df[feature] = (df['make'] == v).astype(int)\n",
    "#    features.append(feature)"
   ]
  },
  {
   "cell_type": "markdown",
   "id": "f524e723",
   "metadata": {},
   "source": [
    "a função prepareX depois de manipular variáveis categóricas number_of_dors e make"
   ]
  },
  {
   "cell_type": "code",
   "execution_count": 41,
   "id": "8acf6469",
   "metadata": {},
   "outputs": [],
   "source": [
    "def prepare_X(df):\n",
    "    df = df.copy()\n",
    "    features = base.copy()\n",
    " \n",
    "    df['age'] = 2017 - df.year\n",
    "    features.append('age')\n",
    " \n",
    "    for v in [2, 3, 4]:\n",
    "        feature = 'num_doors_%s' % v\n",
    "        df[feature] = (df['number_of_doors'] == v).astype(int)\n",
    "        features.append(feature)\n",
    " \n",
    "    for v in ['chevrolet', 'ford', 'volkswagen', 'toyota', 'dodge']:\n",
    "        feature = 'is_make_%s' % v\n",
    "        df[feature] = (df['make'] == v).astype(int)\n",
    "        features.append(feature)\n",
    "    df_num = df[features]\n",
    "    df_num = df_num.fillna(0)\n",
    "    X = df_num.values\n",
    "    return X"
   ]
  },
  {
   "cell_type": "markdown",
   "id": "8a14c85e",
   "metadata": {},
   "source": [
    "Vamos verificar se o código melhora o RMSE do modelo: "
   ]
  },
  {
   "cell_type": "code",
   "execution_count": 44,
   "id": "e2bbbf66",
   "metadata": {},
   "outputs": [
    {
     "name": "stdout",
     "output_type": "stream",
     "text": [
      "validation:  0.5076038849555177\n"
     ]
    }
   ],
   "source": [
    "X_train = prepare_X(df_train)\n",
    "w_0, w = train_linear_regression(X_train, y_train)\n",
    "\n",
    "X_val = prepare_X(df_val) \n",
    "y_pred = w_0 + X_val.dot(w) \n",
    "print('validation: ', rmse(y_val, y_pred))"
   ]
  },
  {
   "cell_type": "markdown",
   "id": "6705506b",
   "metadata": {},
   "source": [
    "O valor anterior era 0,517, então conseguimos melhorar ainda mais a pontuação do RMSE.\n",
    "\n",
    "Podemos usar mais algumas variáveis: engine_fuel_type, transmission_type, driven_ wheels, market_category, vehicle_size, e vehicle_style. Vamos fazer a mesma coisa por eles. Após as modificações, o prepare_Xcomeça a parecer um pouco mais complexo."
   ]
  },
  {
   "cell_type": "code",
   "execution_count": 45,
   "id": "41587163",
   "metadata": {},
   "outputs": [],
   "source": [
    "def prepare_X(df):\n",
    "    df = df.copy()\n",
    "    features = base.copy()\n",
    " \n",
    "    df['age'] = 2017 - df.year\n",
    "    features.append('age')\n",
    " \n",
    "    for v in [2, 3, 4]:\n",
    "        feature = 'num_doors_%s' % v\n",
    "        df[feature] = (df['number_of_doors'] == v).astype(int)\n",
    "        features.append(feature)\n",
    " \n",
    "    for v in ['chevrolet', 'ford', 'volkswagen', 'toyota', 'dodge']:\n",
    "        feature = 'is_make_%s' % v\n",
    "        df[feature] = (df['make'] == v).astype(int)\n",
    "        features.append(feature)\n",
    " \n",
    "    for v in ['regular_unleaded', 'premium_unleaded_(required)',\n",
    "              'premium_unleaded_(recommended)',\n",
    "              'flex-fuel_(unleaded/e85)']:\n",
    "        feature = 'is_type_%s' % v\n",
    "        df[feature] = (df['engine_fuel_type'] == v).astype(int)\n",
    "        features.append(feature)\n",
    " \n",
    "    for v in ['automatic', 'manual', 'automated_manual']:\n",
    "        feature = 'is_transmission_%s' % v\n",
    "        df[feature] = (df['transmission_type'] == v).astype(int)\n",
    "        features.append(feature)\n",
    " \n",
    "    for v in ['front_wheel_drive', 'rear_wheel_drive',\n",
    "              'all_wheel_drive', 'four_wheel_drive']:\n",
    "        feature = 'is_driven_wheels_%s' % v\n",
    "        df[feature] = (df['driven_wheels'] == v).astype(int)\n",
    "        features.append(feature)\n",
    " \n",
    "    for v in ['crossover', 'flex_fuel', 'luxury',\n",
    "              'luxury,performance', 'hatchback']:\n",
    "        feature = 'is_mc_%s' % v\n",
    "        df[feature] = (df['market_category'] == v).astype(int)\n",
    "        features.append(feature)\n",
    " \n",
    "    for v in ['compact', 'midsize', 'large']:\n",
    "        feature = 'is_size_%s' % v\n",
    "        df[feature] = (df['vehicle_size'] == v).astype(int)\n",
    "        features.append(feature)\n",
    " \n",
    "    for v in ['sedan', '4dr_suv', 'coupe', 'convertible',\n",
    "              '4dr_hatchback']:\n",
    "        feature = 'is_style_%s' % v\n",
    "        df[feature] = (df['vehicle_style'] == v).astype(int)\n",
    "        features.append(feature)\n",
    "    df_num = df[features]\n",
    "    df_num = df_num.fillna(0)\n",
    "    X = df_num.values\n",
    "    return X"
   ]
  },
  {
   "cell_type": "code",
   "execution_count": 47,
   "id": "cb1e9d97",
   "metadata": {},
   "outputs": [
    {
     "name": "stdout",
     "output_type": "stream",
     "text": [
      "validation: 129.88777839125433\n"
     ]
    }
   ],
   "source": [
    "X_train = prepare_X(df_train)\n",
    "w_0, w = train_linear_regression(X_train, y_train)\n",
    " \n",
    "X_val = prepare_X(df_val)\n",
    "y_pred = w_0 + X_val.dot(w)\n",
    "print('validation:', rmse(y_val, y_pred))"
   ]
  },
  {
   "cell_type": "markdown",
   "id": "819f8337",
   "metadata": {},
   "source": [
    "O numero que vemos é significativamente pior do que antes\n",
    "\n",
    "Em vez de ajudar, os novos recursos pioraram muito o placar. Felizmente, temos validação para nos ajudar a identificar esse problema"
   ]
  },
  {
   "cell_type": "markdown",
   "id": "a6c635b6",
   "metadata": {},
   "source": [
    "### Regularização \n",
    "\n",
    "O objetivo da regularização é garantir que o inverso exista, forçando a matriz a ser invertível. A regularização é um conceito importante no aprendizado de máquina: significa “controlar” — controlar os pesos do modelo para que eles se comportem corretamente e não cresçam muito, como no nosso caso ."
   ]
  },
  {
   "cell_type": "markdown",
   "id": "697ebaba",
   "metadata": {},
   "source": [
    "Vamos criar uma nova função que use essa ideia e implemente a regressão linear com regularização ."
   ]
  },
  {
   "cell_type": "code",
   "execution_count": 48,
   "id": "1862a2ed",
   "metadata": {},
   "outputs": [],
   "source": [
    "def train_linear_regression_reg(X, y, r=0.0):\n",
    "    ones = np.ones(X.shape[0])\n",
    "    X = np.column_stack([ones, X])\n",
    " \n",
    "    XTX = X.T.dot(X)\n",
    "    reg = r * np.eye(XTX.shape[0])\n",
    "    XTX = XTX + reg\n",
    "    XTX_inv = np.linalg.inv(XTX)\n",
    "    w = XTX_inv.dot(X.T).dot(y)\n",
    " \n",
    "    return w[0], w[1:]"
   ]
  },
  {
   "cell_type": "markdown",
   "id": "47cf81a9",
   "metadata": {},
   "source": [
    "Vamos verificar o que acontece com nossos pesos para diferentes valores de r:"
   ]
  },
  {
   "cell_type": "code",
   "execution_count": 49,
   "id": "34dfe507",
   "metadata": {},
   "outputs": [
    {
     "name": "stdout",
     "output_type": "stream",
     "text": [
      "    0, -298620427184285.38, 5.30, 298620427174107.06\n",
      "0.001, 7.20, -0.10, 1.81\n",
      " 0.01, 7.18, -0.10, 1.81\n",
      "  0.1, 7.05, -0.10, 1.78\n",
      "    1, 6.22, -0.10, 1.56\n",
      "   10, 4.39, -0.09, 1.08\n"
     ]
    }
   ],
   "source": [
    "for r in [0, 0.001, 0.01, 0.1, 1, 10]:\n",
    "    w_0, w = train_linear_regression_reg(X_train, y_train, r=r)\n",
    "    print('%5s, %.2f, %.2f, %.2f' % (r, w_0, w[13], w[21]))"
   ]
  },
  {
   "cell_type": "markdown",
   "id": "98242bcc",
   "metadata": {},
   "source": [
    "Agora vamos verificar se a regularização ajuda com nosso problema e qual RMSE obtemos depois disso. Vamos executá-lo com r=0,001:"
   ]
  },
  {
   "cell_type": "code",
   "execution_count": 51,
   "id": "3a5ffdc8",
   "metadata": {},
   "outputs": [
    {
     "name": "stdout",
     "output_type": "stream",
     "text": [
      "validation: 0.4602267626001815\n"
     ]
    }
   ],
   "source": [
    "X_train = prepare_X(df_train)\n",
    "w_0, w = train_linear_regression_reg(X_train, y_train, r=0.001)\n",
    " \n",
    "X_val = prepare_X(df_val)\n",
    "y_pred = w_0 + X_val.dot(w)\n",
    "print('validation:', rmse(y_val, y_pred))"
   ]
  },
  {
   "cell_type": "markdown",
   "id": "e0cc9cd2",
   "metadata": {},
   "source": [
    "Esse resultado tem uma melhora em relação a pontuação anterior\n",
    "\n",
    "**OBSERVAÇÃO**\n",
    "Às vezes, quando a adição de um novo recurso causa degradação do desempenho, a simples remoção desse recurso pode ser suficiente para resolver o problema. Ter um conjunto de dados de validação é importante para decidir se adiciona regularização, remove o recurso ou ambos: usamos a pontuação nos dados de validação para escolher a melhor opção. No nosso caso particular, vemos que adicionar regularização ajuda: melhora a pontuação que tínhamos anteriormente."
   ]
  },
  {
   "cell_type": "code",
   "execution_count": 52,
   "id": "7f359507",
   "metadata": {},
   "outputs": [
    {
     "name": "stdout",
     "output_type": "stream",
     "text": [
      " 1e-06 0.46022555830557693\n",
      "0.0001 0.46022548918124023\n",
      " 0.001 0.4602267626001815\n",
      "  0.01 0.46023949636400013\n",
      "   0.1 0.4603700695791139\n",
      "     1 0.46182980426584974\n",
      "     5 0.46840796275339863\n",
      "    10 0.47572481006961614\n"
     ]
    }
   ],
   "source": [
    "# Vamos tentar com outros valores de r\n",
    "\n",
    "X_train = prepare_X(df_train)\n",
    "X_val = prepare_X(df_val)\n",
    " \n",
    "for r in [0.000001, 0.0001, 0.001, 0.01, 0.1, 1, 5, 10]:\n",
    "    w_0, w = train_linear_regression_reg(X_train, y_train, r=r)\n",
    "    y_pred = w_0 + X_val.dot(w)\n",
    "    print('%6s' %r, rmse(y_val, y_pred))"
   ]
  },
  {
   "cell_type": "markdown",
   "id": "431f407b",
   "metadata": {},
   "source": [
    "Vemos que o melhor desempenho é alcançado com um menor `r`\n",
    "\n",
    "Também notamos que o desempenho para valores abaixo de 0,1 não muda muito \n",
    "\n",
    "Vamos definir `r = 0,01` como modelo final"
   ]
  },
  {
   "cell_type": "code",
   "execution_count": 53,
   "id": "348e22f4",
   "metadata": {},
   "outputs": [
    {
     "name": "stdout",
     "output_type": "stream",
     "text": [
      "validation: 0.46023949636400013\n",
      "test: 0.45718136798835907\n"
     ]
    }
   ],
   "source": [
    "X_train = prepare_X(df_train)\n",
    "w_0, w = train_linear_regression_reg(X_train, y_train, r=0.01)\n",
    " \n",
    "X_val = prepare_X(df_val)\n",
    "y_pred = w_0 + X_val.dot(w)\n",
    "print('validation:', rmse(y_val, y_pred))\n",
    " \n",
    "X_test = prepare_X(df_test)\n",
    "y_pred = w_0 + X_test.dot(w)\n",
    "print('test:', rmse(y_test, y_pred))"
   ]
  },
  {
   "cell_type": "markdown",
   "id": "1bfbe923",
   "metadata": {},
   "source": [
    "Como esses dois números são muito próximos, concluímos que o modelo pode generalizar bem para os novos dados não vistos."
   ]
  },
  {
   "cell_type": "markdown",
   "id": "ad6c5223",
   "metadata": {},
   "source": [
    "## Usando o Modelo\n",
    "\n",
    "Suponha que um usuário publique o seguinte anúncio em nosso site:"
   ]
  },
  {
   "cell_type": "code",
   "execution_count": 54,
   "id": "88f0ad46",
   "metadata": {},
   "outputs": [],
   "source": [
    "ad = {\n",
    "    'city_mpg': 18,\n",
    "    'driven_wheels': 'all_wheel_drive',\n",
    "    'engine_cylinders': 6.0,\n",
    "    'engine_fuel_type': 'regular_unleaded',\n",
    "    'engine_hp': 268.0,\n",
    "    'highway_mpg': 25,\n",
    "    'make': 'toyota',\n",
    "    'market_category': 'crossover,performance',\n",
    "    'model': 'venza',\n",
    "    'number_of_doors': 4.0,\n",
    "    'popularity': 2031,\n",
    "    'transmission_type': 'automatic',\n",
    "    'vehicle_size': 'midsize',\n",
    "    'vehicle_style': 'wagon',\n",
    "    'year': 2013\n",
    "}"
   ]
  },
  {
   "cell_type": "markdown",
   "id": "4031baf2",
   "metadata": {},
   "source": [
    "Gostaríamos de sugerir o preço deste carro. Para isso, usamos nosso modelo:"
   ]
  },
  {
   "cell_type": "code",
   "execution_count": 56,
   "id": "6ea7f3ab",
   "metadata": {},
   "outputs": [],
   "source": [
    "df_test = pd.DataFrame([ad])\n",
    "X_test = prepare_X(df_test)"
   ]
  },
  {
   "cell_type": "code",
   "execution_count": 57,
   "id": "0b982363",
   "metadata": {},
   "outputs": [],
   "source": [
    "# aplicando nosso modelo à matriz para prever o preço deste carro \n",
    "y_pred = w_0 + X_test.dot(w)"
   ]
  },
  {
   "cell_type": "markdown",
   "id": "613bbf4e",
   "metadata": {},
   "source": [
    "Essa previsão não é o preço final; é o logaritmo do preço. Para obter o preço real, precisamos desfazer o logaritmo e aplicar a função expoente:"
   ]
  },
  {
   "cell_type": "code",
   "execution_count": 58,
   "id": "5560048c",
   "metadata": {},
   "outputs": [
    {
     "data": {
      "text/plain": [
       "array([28294.13589544])"
      ]
     },
     "execution_count": 58,
     "metadata": {},
     "output_type": "execute_result"
    }
   ],
   "source": [
    "suggestion = np.expm1(y_pred)\n",
    "suggestion"
   ]
  },
  {
   "cell_type": "markdown",
   "id": "781524cb",
   "metadata": {},
   "source": [
    "A saída é 28.294,13. O preço real deste carro é $ 31.120, então nosso modelo não está muito longe do preço real ."
   ]
  },
  {
   "cell_type": "code",
   "execution_count": null,
   "id": "2825ec05",
   "metadata": {},
   "outputs": [],
   "source": []
  }
 ],
 "metadata": {
  "kernelspec": {
   "display_name": "Python 3 (ipykernel)",
   "language": "python",
   "name": "python3"
  },
  "language_info": {
   "codemirror_mode": {
    "name": "ipython",
    "version": 3
   },
   "file_extension": ".py",
   "mimetype": "text/x-python",
   "name": "python",
   "nbconvert_exporter": "python",
   "pygments_lexer": "ipython3",
   "version": "3.9.12"
  }
 },
 "nbformat": 4,
 "nbformat_minor": 5
}
